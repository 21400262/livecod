{
  "nbformat": 4,
  "nbformat_minor": 0,
  "metadata": {
    "colab": {
      "name": "finance.ipynb",
      "provenance": [],
      "collapsed_sections": []
    },
    "kernelspec": {
      "name": "python3",
      "display_name": "Python 3"
    }
  },
  "cells": [
    {
      "cell_type": "markdown",
      "metadata": {
        "id": "kS1Jp6FkhvIy",
        "colab_type": "text"
      },
      "source": [
        "[![Open In Colab](https://colab.research.google.com/assets/colab-badge.svg)](https://colab.research.google.com/github/LiveCoronaDetector/livecod/blob/master/finance/finance.ipynb)\n",
        "\n",
        "\n",
        "# Financial Analysis\n",
        "\n",
        "본 노트북은 [Live Corona Map](https://github.com/LiveCoronaDetector/livecod/) 프로젝트에 향후 추가할 계획인 금융 분석 시각화를 위해 만들어졌습니다.\n"
      ]
    },
    {
      "cell_type": "markdown",
      "metadata": {
        "id": "Z0FXixaGiOWK",
        "colab_type": "text"
      },
      "source": [
        "# Setup\n",
        "\n",
        "필요한 모듈을 임포트해옵니다. (프로젝트의 진행에 따라 추가, 변경될 수 있습니다.)"
      ]
    },
    {
      "cell_type": "code",
      "metadata": {
        "id": "JN3rk3xKiYED",
        "colab_type": "code",
        "colab": {}
      },
      "source": [
        "!pip install --quiet yfinance"
      ],
      "execution_count": 0,
      "outputs": []
    },
    {
      "cell_type": "code",
      "metadata": {
        "id": "-k3KpMh5i-4f",
        "colab_type": "code",
        "colab": {}
      },
      "source": [
        "import pandas as pd\n",
        "import numpy as np\n",
        "import yfinance as yf\n",
        "import matplotlib.pyplot as plt\n",
        "from datetime import datetime"
      ],
      "execution_count": 0,
      "outputs": []
    },
    {
      "cell_type": "code",
      "metadata": {
        "id": "6RQmL030uHnU",
        "colab_type": "code",
        "colab": {}
      },
      "source": [
        "%matplotlib inline\n",
        "%config InlineBackend.figure_format = 'svg'\n",
        "plt.rcParams['figure.figsize'] = [12, 8]\n",
        "plt.style.use('ggplot')"
      ],
      "execution_count": 0,
      "outputs": []
    },
    {
      "cell_type": "markdown",
      "metadata": {
        "id": "rm00YenIrNp1",
        "colab_type": "text"
      },
      "source": [
        "# Fetch Data\n",
        "\n",
        "## Financial Data\n",
        "\n",
        "`yfinance` API를 이용해 데이터셋을 구축합니다."
      ]
    },
    {
      "cell_type": "code",
      "metadata": {
        "id": "IZVG4qMfqIY2",
        "colab_type": "code",
        "colab": {}
      },
      "source": [
        "TICKERS = [\"^KS11\", \"^GSPC\", \"^N225\", \"^HSI\", \"^N100\", \"^FTSE\"] \n",
        "START = datetime(2019, 12, 1)"
      ],
      "execution_count": 0,
      "outputs": []
    },
    {
      "cell_type": "code",
      "metadata": {
        "id": "AmbBD43XrkD3",
        "colab_type": "code",
        "colab": {}
      },
      "source": [
        "def get_financial_data(tickers, start, end=datetime.today()):\n",
        "    raw_data = yf.download(tickers, start, end)\n",
        "    df = raw_data.loc[:, 'Adj Close']\n",
        "    df.reset_index(inplace=True)\n",
        "    df.columns = df.columns.str.replace('^', '')\n",
        "    df.set_index('Date', inplace=True)\n",
        "    return df"
      ],
      "execution_count": 0,
      "outputs": []
    },
    {
      "cell_type": "code",
      "metadata": {
        "id": "7s02iTSkr3nF",
        "colab_type": "code",
        "outputId": "ea1058f4-1ec1-4d13-cbe8-e786b03cb3c0",
        "colab": {
          "base_uri": "https://localhost:8080/"
        }
      },
      "source": [
        "data = get_financial_data(TICKERS, START)"
      ],
      "execution_count": 6,
      "outputs": [
        {
          "output_type": "stream",
          "text": [
            "[*********************100%***********************]  6 of 6 completed\n"
          ],
          "name": "stdout"
        }
      ]
    },
    {
      "cell_type": "code",
      "metadata": {
        "id": "eQuZFwETcS2-",
        "colab_type": "code",
        "colab": {
          "base_uri": "https://localhost:8080/"
        },
        "outputId": "87b649ba-3a97-4e02-a0c6-b24cda695ff5"
      },
      "source": [
        "data.tail()"
      ],
      "execution_count": 7,
      "outputs": [
        {
          "output_type": "execute_result",
          "data": {
            "text/html": [
              "<div>\n",
              "<style scoped>\n",
              "    .dataframe tbody tr th:only-of-type {\n",
              "        vertical-align: middle;\n",
              "    }\n",
              "\n",
              "    .dataframe tbody tr th {\n",
              "        vertical-align: top;\n",
              "    }\n",
              "\n",
              "    .dataframe thead th {\n",
              "        text-align: right;\n",
              "    }\n",
              "</style>\n",
              "<table border=\"1\" class=\"dataframe\">\n",
              "  <thead>\n",
              "    <tr style=\"text-align: right;\">\n",
              "      <th></th>\n",
              "      <th>FTSE</th>\n",
              "      <th>GSPC</th>\n",
              "      <th>HSI</th>\n",
              "      <th>KS11</th>\n",
              "      <th>N100</th>\n",
              "      <th>N225</th>\n",
              "    </tr>\n",
              "    <tr>\n",
              "      <th>Date</th>\n",
              "      <th></th>\n",
              "      <th></th>\n",
              "      <th></th>\n",
              "      <th></th>\n",
              "      <th></th>\n",
              "      <th></th>\n",
              "    </tr>\n",
              "  </thead>\n",
              "  <tbody>\n",
              "    <tr>\n",
              "      <th>2020-04-10</th>\n",
              "      <td>NaN</td>\n",
              "      <td>NaN</td>\n",
              "      <td>NaN</td>\n",
              "      <td>1860.699951</td>\n",
              "      <td>NaN</td>\n",
              "      <td>19498.500000</td>\n",
              "    </tr>\n",
              "    <tr>\n",
              "      <th>2020-04-13</th>\n",
              "      <td>NaN</td>\n",
              "      <td>2761.629883</td>\n",
              "      <td>NaN</td>\n",
              "      <td>1825.760010</td>\n",
              "      <td>NaN</td>\n",
              "      <td>19043.400391</td>\n",
              "    </tr>\n",
              "    <tr>\n",
              "      <th>2020-04-14</th>\n",
              "      <td>5791.299805</td>\n",
              "      <td>2846.060059</td>\n",
              "      <td>24435.400391</td>\n",
              "      <td>1857.079956</td>\n",
              "      <td>888.890015</td>\n",
              "      <td>19638.810547</td>\n",
              "    </tr>\n",
              "    <tr>\n",
              "      <th>2020-04-15</th>\n",
              "      <td>5597.700195</td>\n",
              "      <td>2783.360107</td>\n",
              "      <td>24145.339844</td>\n",
              "      <td>NaN</td>\n",
              "      <td>857.039978</td>\n",
              "      <td>19550.089844</td>\n",
              "    </tr>\n",
              "    <tr>\n",
              "      <th>2020-04-16</th>\n",
              "      <td>NaN</td>\n",
              "      <td>NaN</td>\n",
              "      <td>NaN</td>\n",
              "      <td>1836.699951</td>\n",
              "      <td>NaN</td>\n",
              "      <td>19212.179688</td>\n",
              "    </tr>\n",
              "  </tbody>\n",
              "</table>\n",
              "</div>"
            ],
            "text/plain": [
              "                   FTSE         GSPC  ...        N100          N225\n",
              "Date                                  ...                          \n",
              "2020-04-10          NaN          NaN  ...         NaN  19498.500000\n",
              "2020-04-13          NaN  2761.629883  ...         NaN  19043.400391\n",
              "2020-04-14  5791.299805  2846.060059  ...  888.890015  19638.810547\n",
              "2020-04-15  5597.700195  2783.360107  ...  857.039978  19550.089844\n",
              "2020-04-16          NaN          NaN  ...         NaN  19212.179688\n",
              "\n",
              "[5 rows x 6 columns]"
            ]
          },
          "metadata": {
            "tags": []
          },
          "execution_count": 7
        }
      ]
    },
    {
      "cell_type": "code",
      "metadata": {
        "id": "V096KGHFzElc",
        "colab_type": "code",
        "colab": {}
      },
      "source": [
        "data_drop = data.dropna()\n",
        "data_fill = data.fillna(method='ffill')"
      ],
      "execution_count": 0,
      "outputs": []
    },
    {
      "cell_type": "markdown",
      "metadata": {
        "id": "e7-5hq2KJU-Z",
        "colab_type": "text"
      },
      "source": [
        "## COVID Data\n",
        "\n",
        "코로나 바이러스 관련 데이터셋을 구축합니다.\n",
        "\n",
        "<!-- TODO -->"
      ]
    },
    {
      "cell_type": "code",
      "metadata": {
        "id": "ecK8FmnFW7qZ",
        "colab_type": "code",
        "colab": {}
      },
      "source": [
        "def get_covid_data(url):\n",
        "  df = pd.read_csv(url)\n",
        "  df.Date = pd.to_datetime(df.Date)\n",
        "  try:\n",
        "    df.set_index(['Country', 'Date'], inplace=True)\n",
        "    df.sort_index(inplace=True)\n",
        "  except KeyError:\n",
        "    df.set_index('Date', inplace=True)\n",
        "  return df"
      ],
      "execution_count": 0,
      "outputs": []
    },
    {
      "cell_type": "code",
      "metadata": {
        "id": "7EmkN73wWn4S",
        "colab_type": "code",
        "colab": {
          "base_uri": "https://localhost:8080/",
          "height": 235
        },
        "outputId": "c926d5d7-79d2-442f-9fd3-ba07ad7b38bb"
      },
      "source": [
        "covid_agg = get_covid_data('https://raw.githubusercontent.com/datasets/covid-19/master/data/worldwide-aggregated.csv')\n",
        "covid_agg.head()"
      ],
      "execution_count": 10,
      "outputs": [
        {
          "output_type": "execute_result",
          "data": {
            "text/html": [
              "<div>\n",
              "<style scoped>\n",
              "    .dataframe tbody tr th:only-of-type {\n",
              "        vertical-align: middle;\n",
              "    }\n",
              "\n",
              "    .dataframe tbody tr th {\n",
              "        vertical-align: top;\n",
              "    }\n",
              "\n",
              "    .dataframe thead th {\n",
              "        text-align: right;\n",
              "    }\n",
              "</style>\n",
              "<table border=\"1\" class=\"dataframe\">\n",
              "  <thead>\n",
              "    <tr style=\"text-align: right;\">\n",
              "      <th></th>\n",
              "      <th>Confirmed</th>\n",
              "      <th>Recovered</th>\n",
              "      <th>Deaths</th>\n",
              "      <th>Increase rate</th>\n",
              "    </tr>\n",
              "    <tr>\n",
              "      <th>Date</th>\n",
              "      <th></th>\n",
              "      <th></th>\n",
              "      <th></th>\n",
              "      <th></th>\n",
              "    </tr>\n",
              "  </thead>\n",
              "  <tbody>\n",
              "    <tr>\n",
              "      <th>2020-01-22</th>\n",
              "      <td>555</td>\n",
              "      <td>28</td>\n",
              "      <td>17</td>\n",
              "      <td>NaN</td>\n",
              "    </tr>\n",
              "    <tr>\n",
              "      <th>2020-01-23</th>\n",
              "      <td>654</td>\n",
              "      <td>30</td>\n",
              "      <td>18</td>\n",
              "      <td>17.837838</td>\n",
              "    </tr>\n",
              "    <tr>\n",
              "      <th>2020-01-24</th>\n",
              "      <td>941</td>\n",
              "      <td>36</td>\n",
              "      <td>26</td>\n",
              "      <td>43.883792</td>\n",
              "    </tr>\n",
              "    <tr>\n",
              "      <th>2020-01-25</th>\n",
              "      <td>1434</td>\n",
              "      <td>39</td>\n",
              "      <td>42</td>\n",
              "      <td>52.391073</td>\n",
              "    </tr>\n",
              "    <tr>\n",
              "      <th>2020-01-26</th>\n",
              "      <td>2118</td>\n",
              "      <td>52</td>\n",
              "      <td>56</td>\n",
              "      <td>47.698745</td>\n",
              "    </tr>\n",
              "  </tbody>\n",
              "</table>\n",
              "</div>"
            ],
            "text/plain": [
              "            Confirmed  Recovered  Deaths  Increase rate\n",
              "Date                                                   \n",
              "2020-01-22        555         28      17            NaN\n",
              "2020-01-23        654         30      18      17.837838\n",
              "2020-01-24        941         36      26      43.883792\n",
              "2020-01-25       1434         39      42      52.391073\n",
              "2020-01-26       2118         52      56      47.698745"
            ]
          },
          "metadata": {
            "tags": []
          },
          "execution_count": 10
        }
      ]
    },
    {
      "cell_type": "code",
      "metadata": {
        "id": "xmt4Lp85XC6y",
        "colab_type": "code",
        "colab": {
          "base_uri": "https://localhost:8080/",
          "height": 450
        },
        "outputId": "f6e1ddb0-68f8-4b4e-9224-cddb149506dc"
      },
      "source": [
        "covid_countries = get_covid_data('https://raw.githubusercontent.com/datasets/covid-19/master/data/countries-aggregated.csv')\n",
        "covid_countries"
      ],
      "execution_count": 11,
      "outputs": [
        {
          "output_type": "execute_result",
          "data": {
            "text/html": [
              "<div>\n",
              "<style scoped>\n",
              "    .dataframe tbody tr th:only-of-type {\n",
              "        vertical-align: middle;\n",
              "    }\n",
              "\n",
              "    .dataframe tbody tr th {\n",
              "        vertical-align: top;\n",
              "    }\n",
              "\n",
              "    .dataframe thead th {\n",
              "        text-align: right;\n",
              "    }\n",
              "</style>\n",
              "<table border=\"1\" class=\"dataframe\">\n",
              "  <thead>\n",
              "    <tr style=\"text-align: right;\">\n",
              "      <th></th>\n",
              "      <th></th>\n",
              "      <th>Confirmed</th>\n",
              "      <th>Recovered</th>\n",
              "      <th>Deaths</th>\n",
              "    </tr>\n",
              "    <tr>\n",
              "      <th>Country</th>\n",
              "      <th>Date</th>\n",
              "      <th></th>\n",
              "      <th></th>\n",
              "      <th></th>\n",
              "    </tr>\n",
              "  </thead>\n",
              "  <tbody>\n",
              "    <tr>\n",
              "      <th rowspan=\"5\" valign=\"top\">Afghanistan</th>\n",
              "      <th>2020-01-22</th>\n",
              "      <td>0</td>\n",
              "      <td>0</td>\n",
              "      <td>0</td>\n",
              "    </tr>\n",
              "    <tr>\n",
              "      <th>2020-01-23</th>\n",
              "      <td>0</td>\n",
              "      <td>0</td>\n",
              "      <td>0</td>\n",
              "    </tr>\n",
              "    <tr>\n",
              "      <th>2020-01-24</th>\n",
              "      <td>0</td>\n",
              "      <td>0</td>\n",
              "      <td>0</td>\n",
              "    </tr>\n",
              "    <tr>\n",
              "      <th>2020-01-25</th>\n",
              "      <td>0</td>\n",
              "      <td>0</td>\n",
              "      <td>0</td>\n",
              "    </tr>\n",
              "    <tr>\n",
              "      <th>2020-01-26</th>\n",
              "      <td>0</td>\n",
              "      <td>0</td>\n",
              "      <td>0</td>\n",
              "    </tr>\n",
              "    <tr>\n",
              "      <th>...</th>\n",
              "      <th>...</th>\n",
              "      <td>...</td>\n",
              "      <td>...</td>\n",
              "      <td>...</td>\n",
              "    </tr>\n",
              "    <tr>\n",
              "      <th rowspan=\"5\" valign=\"top\">Zimbabwe</th>\n",
              "      <th>2020-04-10</th>\n",
              "      <td>13</td>\n",
              "      <td>0</td>\n",
              "      <td>3</td>\n",
              "    </tr>\n",
              "    <tr>\n",
              "      <th>2020-04-11</th>\n",
              "      <td>14</td>\n",
              "      <td>0</td>\n",
              "      <td>3</td>\n",
              "    </tr>\n",
              "    <tr>\n",
              "      <th>2020-04-12</th>\n",
              "      <td>14</td>\n",
              "      <td>0</td>\n",
              "      <td>3</td>\n",
              "    </tr>\n",
              "    <tr>\n",
              "      <th>2020-04-13</th>\n",
              "      <td>17</td>\n",
              "      <td>0</td>\n",
              "      <td>3</td>\n",
              "    </tr>\n",
              "    <tr>\n",
              "      <th>2020-04-14</th>\n",
              "      <td>17</td>\n",
              "      <td>0</td>\n",
              "      <td>3</td>\n",
              "    </tr>\n",
              "  </tbody>\n",
              "</table>\n",
              "<p>15540 rows × 3 columns</p>\n",
              "</div>"
            ],
            "text/plain": [
              "                        Confirmed  Recovered  Deaths\n",
              "Country     Date                                    \n",
              "Afghanistan 2020-01-22          0          0       0\n",
              "            2020-01-23          0          0       0\n",
              "            2020-01-24          0          0       0\n",
              "            2020-01-25          0          0       0\n",
              "            2020-01-26          0          0       0\n",
              "...                           ...        ...     ...\n",
              "Zimbabwe    2020-04-10         13          0       3\n",
              "            2020-04-11         14          0       3\n",
              "            2020-04-12         14          0       3\n",
              "            2020-04-13         17          0       3\n",
              "            2020-04-14         17          0       3\n",
              "\n",
              "[15540 rows x 3 columns]"
            ]
          },
          "metadata": {
            "tags": []
          },
          "execution_count": 11
        }
      ]
    },
    {
      "cell_type": "code",
      "metadata": {
        "id": "3phK8utsZb_C",
        "colab_type": "code",
        "colab": {
          "base_uri": "https://localhost:8080/",
          "height": 450
        },
        "outputId": "f0a8bfcb-b1aa-4dc0-97b8-a8dfa5b7ee84"
      },
      "source": [
        "covid_korea = covid_countries.loc['Korea, South', :]\n",
        "covid_korea"
      ],
      "execution_count": 12,
      "outputs": [
        {
          "output_type": "execute_result",
          "data": {
            "text/html": [
              "<div>\n",
              "<style scoped>\n",
              "    .dataframe tbody tr th:only-of-type {\n",
              "        vertical-align: middle;\n",
              "    }\n",
              "\n",
              "    .dataframe tbody tr th {\n",
              "        vertical-align: top;\n",
              "    }\n",
              "\n",
              "    .dataframe thead th {\n",
              "        text-align: right;\n",
              "    }\n",
              "</style>\n",
              "<table border=\"1\" class=\"dataframe\">\n",
              "  <thead>\n",
              "    <tr style=\"text-align: right;\">\n",
              "      <th></th>\n",
              "      <th>Confirmed</th>\n",
              "      <th>Recovered</th>\n",
              "      <th>Deaths</th>\n",
              "    </tr>\n",
              "    <tr>\n",
              "      <th>Date</th>\n",
              "      <th></th>\n",
              "      <th></th>\n",
              "      <th></th>\n",
              "    </tr>\n",
              "  </thead>\n",
              "  <tbody>\n",
              "    <tr>\n",
              "      <th>2020-01-22</th>\n",
              "      <td>1</td>\n",
              "      <td>0</td>\n",
              "      <td>0</td>\n",
              "    </tr>\n",
              "    <tr>\n",
              "      <th>2020-01-23</th>\n",
              "      <td>1</td>\n",
              "      <td>0</td>\n",
              "      <td>0</td>\n",
              "    </tr>\n",
              "    <tr>\n",
              "      <th>2020-01-24</th>\n",
              "      <td>2</td>\n",
              "      <td>0</td>\n",
              "      <td>0</td>\n",
              "    </tr>\n",
              "    <tr>\n",
              "      <th>2020-01-25</th>\n",
              "      <td>2</td>\n",
              "      <td>0</td>\n",
              "      <td>0</td>\n",
              "    </tr>\n",
              "    <tr>\n",
              "      <th>2020-01-26</th>\n",
              "      <td>3</td>\n",
              "      <td>0</td>\n",
              "      <td>0</td>\n",
              "    </tr>\n",
              "    <tr>\n",
              "      <th>...</th>\n",
              "      <td>...</td>\n",
              "      <td>...</td>\n",
              "      <td>...</td>\n",
              "    </tr>\n",
              "    <tr>\n",
              "      <th>2020-04-10</th>\n",
              "      <td>10450</td>\n",
              "      <td>7117</td>\n",
              "      <td>208</td>\n",
              "    </tr>\n",
              "    <tr>\n",
              "      <th>2020-04-11</th>\n",
              "      <td>10480</td>\n",
              "      <td>7243</td>\n",
              "      <td>211</td>\n",
              "    </tr>\n",
              "    <tr>\n",
              "      <th>2020-04-12</th>\n",
              "      <td>10512</td>\n",
              "      <td>7368</td>\n",
              "      <td>214</td>\n",
              "    </tr>\n",
              "    <tr>\n",
              "      <th>2020-04-13</th>\n",
              "      <td>10537</td>\n",
              "      <td>7447</td>\n",
              "      <td>217</td>\n",
              "    </tr>\n",
              "    <tr>\n",
              "      <th>2020-04-14</th>\n",
              "      <td>10564</td>\n",
              "      <td>7534</td>\n",
              "      <td>222</td>\n",
              "    </tr>\n",
              "  </tbody>\n",
              "</table>\n",
              "<p>84 rows × 3 columns</p>\n",
              "</div>"
            ],
            "text/plain": [
              "            Confirmed  Recovered  Deaths\n",
              "Date                                    \n",
              "2020-01-22          1          0       0\n",
              "2020-01-23          1          0       0\n",
              "2020-01-24          2          0       0\n",
              "2020-01-25          2          0       0\n",
              "2020-01-26          3          0       0\n",
              "...               ...        ...     ...\n",
              "2020-04-10      10450       7117     208\n",
              "2020-04-11      10480       7243     211\n",
              "2020-04-12      10512       7368     214\n",
              "2020-04-13      10537       7447     217\n",
              "2020-04-14      10564       7534     222\n",
              "\n",
              "[84 rows x 3 columns]"
            ]
          },
          "metadata": {
            "tags": []
          },
          "execution_count": 12
        }
      ]
    },
    {
      "cell_type": "markdown",
      "metadata": {
        "id": "4j7eBJolvjhL",
        "colab_type": "text"
      },
      "source": [
        "# Plot Data\n",
        "\n",
        "## Preprocessing\n",
        "\n",
        "로그 변화율을 그래프로 나타냅니다. 로그 변화율을 위한 공식은 다음과 같습니다:\n",
        "\n",
        "$$\n",
        "\\text{log diff} = \\log \\left( \\frac{x_{t+1}}{x_t} \\right)\n",
        "$$\n"
      ]
    },
    {
      "cell_type": "code",
      "metadata": {
        "id": "lHI9O30hmwVA",
        "colab_type": "code",
        "colab": {}
      },
      "source": [
        "def log_diff(data):\n",
        "    return data.apply(lambda x: np.log(x / x.shift(1)))"
      ],
      "execution_count": 0,
      "outputs": []
    },
    {
      "cell_type": "markdown",
      "metadata": {
        "id": "yCHR8F0jIYrK",
        "colab_type": "text"
      },
      "source": [
        "데이터를 정규화하기 위한 함수입니다. 각 항목의 값에서 열의 평균을 차감합니다."
      ]
    },
    {
      "cell_type": "code",
      "metadata": {
        "id": "1-Qns95JH_Pe",
        "colab_type": "code",
        "colab": {}
      },
      "source": [
        "def standardize(data):\n",
        "  return data.apply(lambda x: (x - x.mean())/(x.max() - x.min()))"
      ],
      "execution_count": 0,
      "outputs": []
    },
    {
      "cell_type": "markdown",
      "metadata": {
        "id": "8xHW88ceJJz8",
        "colab_type": "text"
      },
      "source": [
        "## Visualizations\n",
        "\n",
        "다양한 시긱화를 시도해봅니다. 먼저 지표의 로그 변화율을 살펴봅니다."
      ]
    },
    {
      "cell_type": "code",
      "metadata": {
        "id": "5lvNNPxWuCOl",
        "colab_type": "code",
        "colab": {
          "base_uri": "https://localhost:8080/",
          "height": 646
        },
        "outputId": "69bbe566-f575-4e36-c976-9222b7b26bbc"
      },
      "source": [
        "log_diff(data_drop).plot()\n",
        "plt.show()"
      ],
      "execution_count": 15,
      "outputs": [
        {
          "output_type": "display_data",
          "data": {
            "text/plain": [
              "<Figure size 864x576 with 1 Axes>"
            ],
            "image/svg+xml": "<?xml version=\"1.0\" encoding=\"utf-8\" standalone=\"no\"?>\n<!DOCTYPE svg PUBLIC \"-//W3C//DTD SVG 1.1//EN\"\n  \"http://www.w3.org/Graphics/SVG/1.1/DTD/svg11.dtd\">\n<!-- Created with matplotlib (https://matplotlib.org/) -->\n<svg height=\"469.031181pt\" version=\"1.1\" viewBox=\"0 0 721.645313 469.031181\" width=\"721.645313pt\" xmlns=\"http://www.w3.org/2000/svg\" xmlns:xlink=\"http://www.w3.org/1999/xlink\">\n <defs>\n  <style type=\"text/css\">\n*{stroke-linecap:butt;stroke-linejoin:round;}\n  </style>\n </defs>\n <g id=\"figure_1\">\n  <g id=\"patch_1\">\n   <path d=\"M 0 469.031181 \nL 721.645313 469.031181 \nL 721.645313 0 \nL 0 0 \nz\n\" style=\"fill:#ffffff;\"/>\n  </g>\n  <g id=\"axes_1\">\n   <g id=\"patch_2\">\n    <path d=\"M 44.845313 401.778117 \nL 714.445312 401.778117 \nL 714.445312 10.098117 \nL 44.845313 10.098117 \nz\n\" style=\"fill:#e5e5e5;\"/>\n   </g>\n   <g id=\"matplotlib.axis_1\">\n    <g id=\"xtick_1\">\n     <g id=\"line2d_1\">\n      <path clip-path=\"url(#p2af2f53e45)\" d=\"M 66.127883 401.778117 \nL 66.127883 10.098117 \n\" style=\"fill:none;stroke:#ffffff;stroke-linecap:square;stroke-width:0.8;\"/>\n     </g>\n     <g id=\"line2d_2\">\n      <defs>\n       <path d=\"M 0 0 \nL 0 3.5 \n\" id=\"m7681e6810f\" style=\"stroke:#555555;stroke-width:0.8;\"/>\n      </defs>\n      <g>\n       <use style=\"fill:#555555;stroke:#555555;stroke-width:0.8;\" x=\"66.127883\" xlink:href=\"#m7681e6810f\" y=\"401.778117\"/>\n      </g>\n     </g>\n     <g id=\"text_1\">\n      <!-- 2019-12-01 -->\n      <defs>\n       <path d=\"M 19.1875 8.296875 \nL 53.609375 8.296875 \nL 53.609375 0 \nL 7.328125 0 \nL 7.328125 8.296875 \nQ 12.9375 14.109375 22.625 23.890625 \nQ 32.328125 33.6875 34.8125 36.53125 \nQ 39.546875 41.84375 41.421875 45.53125 \nQ 43.3125 49.21875 43.3125 52.78125 \nQ 43.3125 58.59375 39.234375 62.25 \nQ 35.15625 65.921875 28.609375 65.921875 \nQ 23.96875 65.921875 18.8125 64.3125 \nQ 13.671875 62.703125 7.8125 59.421875 \nL 7.8125 69.390625 \nQ 13.765625 71.78125 18.9375 73 \nQ 24.125 74.21875 28.421875 74.21875 \nQ 39.75 74.21875 46.484375 68.546875 \nQ 53.21875 62.890625 53.21875 53.421875 \nQ 53.21875 48.921875 51.53125 44.890625 \nQ 49.859375 40.875 45.40625 35.40625 \nQ 44.1875 33.984375 37.640625 27.21875 \nQ 31.109375 20.453125 19.1875 8.296875 \nz\n\" id=\"DejaVuSans-50\"/>\n       <path d=\"M 31.78125 66.40625 \nQ 24.171875 66.40625 20.328125 58.90625 \nQ 16.5 51.421875 16.5 36.375 \nQ 16.5 21.390625 20.328125 13.890625 \nQ 24.171875 6.390625 31.78125 6.390625 \nQ 39.453125 6.390625 43.28125 13.890625 \nQ 47.125 21.390625 47.125 36.375 \nQ 47.125 51.421875 43.28125 58.90625 \nQ 39.453125 66.40625 31.78125 66.40625 \nz\nM 31.78125 74.21875 \nQ 44.046875 74.21875 50.515625 64.515625 \nQ 56.984375 54.828125 56.984375 36.375 \nQ 56.984375 17.96875 50.515625 8.265625 \nQ 44.046875 -1.421875 31.78125 -1.421875 \nQ 19.53125 -1.421875 13.0625 8.265625 \nQ 6.59375 17.96875 6.59375 36.375 \nQ 6.59375 54.828125 13.0625 64.515625 \nQ 19.53125 74.21875 31.78125 74.21875 \nz\n\" id=\"DejaVuSans-48\"/>\n       <path d=\"M 12.40625 8.296875 \nL 28.515625 8.296875 \nL 28.515625 63.921875 \nL 10.984375 60.40625 \nL 10.984375 69.390625 \nL 28.421875 72.90625 \nL 38.28125 72.90625 \nL 38.28125 8.296875 \nL 54.390625 8.296875 \nL 54.390625 0 \nL 12.40625 0 \nz\n\" id=\"DejaVuSans-49\"/>\n       <path d=\"M 10.984375 1.515625 \nL 10.984375 10.5 \nQ 14.703125 8.734375 18.5 7.8125 \nQ 22.3125 6.890625 25.984375 6.890625 \nQ 35.75 6.890625 40.890625 13.453125 \nQ 46.046875 20.015625 46.78125 33.40625 \nQ 43.953125 29.203125 39.59375 26.953125 \nQ 35.25 24.703125 29.984375 24.703125 \nQ 19.046875 24.703125 12.671875 31.3125 \nQ 6.296875 37.9375 6.296875 49.421875 \nQ 6.296875 60.640625 12.9375 67.421875 \nQ 19.578125 74.21875 30.609375 74.21875 \nQ 43.265625 74.21875 49.921875 64.515625 \nQ 56.59375 54.828125 56.59375 36.375 \nQ 56.59375 19.140625 48.40625 8.859375 \nQ 40.234375 -1.421875 26.421875 -1.421875 \nQ 22.703125 -1.421875 18.890625 -0.6875 \nQ 15.09375 0.046875 10.984375 1.515625 \nz\nM 30.609375 32.421875 \nQ 37.25 32.421875 41.125 36.953125 \nQ 45.015625 41.5 45.015625 49.421875 \nQ 45.015625 57.28125 41.125 61.84375 \nQ 37.25 66.40625 30.609375 66.40625 \nQ 23.96875 66.40625 20.09375 61.84375 \nQ 16.21875 57.28125 16.21875 49.421875 \nQ 16.21875 41.5 20.09375 36.953125 \nQ 23.96875 32.421875 30.609375 32.421875 \nz\n\" id=\"DejaVuSans-57\"/>\n       <path d=\"M 4.890625 31.390625 \nL 31.203125 31.390625 \nL 31.203125 23.390625 \nL 4.890625 23.390625 \nz\n\" id=\"DejaVuSans-45\"/>\n      </defs>\n      <g style=\"fill:#555555;\" transform=\"translate(14.758431 444.416369)rotate(-30)scale(0.1 -0.1)\">\n       <use xlink:href=\"#DejaVuSans-50\"/>\n       <use x=\"63.623047\" xlink:href=\"#DejaVuSans-48\"/>\n       <use x=\"127.246094\" xlink:href=\"#DejaVuSans-49\"/>\n       <use x=\"190.869141\" xlink:href=\"#DejaVuSans-57\"/>\n       <use x=\"254.492188\" xlink:href=\"#DejaVuSans-45\"/>\n       <use x=\"290.576172\" xlink:href=\"#DejaVuSans-49\"/>\n       <use x=\"354.199219\" xlink:href=\"#DejaVuSans-50\"/>\n       <use x=\"417.822266\" xlink:href=\"#DejaVuSans-45\"/>\n       <use x=\"453.90625\" xlink:href=\"#DejaVuSans-48\"/>\n       <use x=\"517.529297\" xlink:href=\"#DejaVuSans-49\"/>\n      </g>\n     </g>\n    </g>\n    <g id=\"xtick_2\">\n     <g id=\"line2d_3\">\n      <path clip-path=\"url(#p2af2f53e45)\" d=\"M 162.242715 401.778117 \nL 162.242715 10.098117 \n\" style=\"fill:none;stroke:#ffffff;stroke-linecap:square;stroke-width:0.8;\"/>\n     </g>\n     <g id=\"line2d_4\">\n      <g>\n       <use style=\"fill:#555555;stroke:#555555;stroke-width:0.8;\" x=\"162.242715\" xlink:href=\"#m7681e6810f\" y=\"401.778117\"/>\n      </g>\n     </g>\n     <g id=\"text_2\">\n      <!-- 2019-12-22 -->\n      <g style=\"fill:#555555;\" transform=\"translate(110.873264 444.416369)rotate(-30)scale(0.1 -0.1)\">\n       <use xlink:href=\"#DejaVuSans-50\"/>\n       <use x=\"63.623047\" xlink:href=\"#DejaVuSans-48\"/>\n       <use x=\"127.246094\" xlink:href=\"#DejaVuSans-49\"/>\n       <use x=\"190.869141\" xlink:href=\"#DejaVuSans-57\"/>\n       <use x=\"254.492188\" xlink:href=\"#DejaVuSans-45\"/>\n       <use x=\"290.576172\" xlink:href=\"#DejaVuSans-49\"/>\n       <use x=\"354.199219\" xlink:href=\"#DejaVuSans-50\"/>\n       <use x=\"417.822266\" xlink:href=\"#DejaVuSans-45\"/>\n       <use x=\"453.90625\" xlink:href=\"#DejaVuSans-50\"/>\n       <use x=\"517.529297\" xlink:href=\"#DejaVuSans-50\"/>\n      </g>\n     </g>\n    </g>\n    <g id=\"xtick_3\">\n     <g id=\"line2d_5\">\n      <path clip-path=\"url(#p2af2f53e45)\" d=\"M 208.011683 401.778117 \nL 208.011683 10.098117 \n\" style=\"fill:none;stroke:#ffffff;stroke-linecap:square;stroke-width:0.8;\"/>\n     </g>\n     <g id=\"line2d_6\">\n      <g>\n       <use style=\"fill:#555555;stroke:#555555;stroke-width:0.8;\" x=\"208.011683\" xlink:href=\"#m7681e6810f\" y=\"401.778117\"/>\n      </g>\n     </g>\n     <g id=\"text_3\">\n      <!-- 2020-01-01 -->\n      <g style=\"fill:#555555;\" transform=\"translate(156.642232 444.416369)rotate(-30)scale(0.1 -0.1)\">\n       <use xlink:href=\"#DejaVuSans-50\"/>\n       <use x=\"63.623047\" xlink:href=\"#DejaVuSans-48\"/>\n       <use x=\"127.246094\" xlink:href=\"#DejaVuSans-50\"/>\n       <use x=\"190.869141\" xlink:href=\"#DejaVuSans-48\"/>\n       <use x=\"254.492188\" xlink:href=\"#DejaVuSans-45\"/>\n       <use x=\"290.576172\" xlink:href=\"#DejaVuSans-48\"/>\n       <use x=\"354.199219\" xlink:href=\"#DejaVuSans-49\"/>\n       <use x=\"417.822266\" xlink:href=\"#DejaVuSans-45\"/>\n       <use x=\"453.90625\" xlink:href=\"#DejaVuSans-48\"/>\n       <use x=\"517.529297\" xlink:href=\"#DejaVuSans-49\"/>\n      </g>\n     </g>\n    </g>\n    <g id=\"xtick_4\">\n     <g id=\"line2d_7\">\n      <path clip-path=\"url(#p2af2f53e45)\" d=\"M 304.126516 401.778117 \nL 304.126516 10.098117 \n\" style=\"fill:none;stroke:#ffffff;stroke-linecap:square;stroke-width:0.8;\"/>\n     </g>\n     <g id=\"line2d_8\">\n      <g>\n       <use style=\"fill:#555555;stroke:#555555;stroke-width:0.8;\" x=\"304.126516\" xlink:href=\"#m7681e6810f\" y=\"401.778117\"/>\n      </g>\n     </g>\n     <g id=\"text_4\">\n      <!-- 2020-01-22 -->\n      <g style=\"fill:#555555;\" transform=\"translate(252.757064 444.416369)rotate(-30)scale(0.1 -0.1)\">\n       <use xlink:href=\"#DejaVuSans-50\"/>\n       <use x=\"63.623047\" xlink:href=\"#DejaVuSans-48\"/>\n       <use x=\"127.246094\" xlink:href=\"#DejaVuSans-50\"/>\n       <use x=\"190.869141\" xlink:href=\"#DejaVuSans-48\"/>\n       <use x=\"254.492188\" xlink:href=\"#DejaVuSans-45\"/>\n       <use x=\"290.576172\" xlink:href=\"#DejaVuSans-48\"/>\n       <use x=\"354.199219\" xlink:href=\"#DejaVuSans-49\"/>\n       <use x=\"417.822266\" xlink:href=\"#DejaVuSans-45\"/>\n       <use x=\"453.90625\" xlink:href=\"#DejaVuSans-50\"/>\n       <use x=\"517.529297\" xlink:href=\"#DejaVuSans-50\"/>\n      </g>\n     </g>\n    </g>\n    <g id=\"xtick_5\">\n     <g id=\"line2d_9\">\n      <path clip-path=\"url(#p2af2f53e45)\" d=\"M 349.895483 401.778117 \nL 349.895483 10.098117 \n\" style=\"fill:none;stroke:#ffffff;stroke-linecap:square;stroke-width:0.8;\"/>\n     </g>\n     <g id=\"line2d_10\">\n      <g>\n       <use style=\"fill:#555555;stroke:#555555;stroke-width:0.8;\" x=\"349.895483\" xlink:href=\"#m7681e6810f\" y=\"401.778117\"/>\n      </g>\n     </g>\n     <g id=\"text_5\">\n      <!-- 2020-02-01 -->\n      <g style=\"fill:#555555;\" transform=\"translate(298.526032 444.416369)rotate(-30)scale(0.1 -0.1)\">\n       <use xlink:href=\"#DejaVuSans-50\"/>\n       <use x=\"63.623047\" xlink:href=\"#DejaVuSans-48\"/>\n       <use x=\"127.246094\" xlink:href=\"#DejaVuSans-50\"/>\n       <use x=\"190.869141\" xlink:href=\"#DejaVuSans-48\"/>\n       <use x=\"254.492188\" xlink:href=\"#DejaVuSans-45\"/>\n       <use x=\"290.576172\" xlink:href=\"#DejaVuSans-48\"/>\n       <use x=\"354.199219\" xlink:href=\"#DejaVuSans-50\"/>\n       <use x=\"417.822266\" xlink:href=\"#DejaVuSans-45\"/>\n       <use x=\"453.90625\" xlink:href=\"#DejaVuSans-48\"/>\n       <use x=\"517.529297\" xlink:href=\"#DejaVuSans-49\"/>\n      </g>\n     </g>\n    </g>\n    <g id=\"xtick_6\">\n     <g id=\"line2d_11\">\n      <path clip-path=\"url(#p2af2f53e45)\" d=\"M 446.010316 401.778117 \nL 446.010316 10.098117 \n\" style=\"fill:none;stroke:#ffffff;stroke-linecap:square;stroke-width:0.8;\"/>\n     </g>\n     <g id=\"line2d_12\">\n      <g>\n       <use style=\"fill:#555555;stroke:#555555;stroke-width:0.8;\" x=\"446.010316\" xlink:href=\"#m7681e6810f\" y=\"401.778117\"/>\n      </g>\n     </g>\n     <g id=\"text_6\">\n      <!-- 2020-02-22 -->\n      <g style=\"fill:#555555;\" transform=\"translate(394.640865 444.416369)rotate(-30)scale(0.1 -0.1)\">\n       <use xlink:href=\"#DejaVuSans-50\"/>\n       <use x=\"63.623047\" xlink:href=\"#DejaVuSans-48\"/>\n       <use x=\"127.246094\" xlink:href=\"#DejaVuSans-50\"/>\n       <use x=\"190.869141\" xlink:href=\"#DejaVuSans-48\"/>\n       <use x=\"254.492188\" xlink:href=\"#DejaVuSans-45\"/>\n       <use x=\"290.576172\" xlink:href=\"#DejaVuSans-48\"/>\n       <use x=\"354.199219\" xlink:href=\"#DejaVuSans-50\"/>\n       <use x=\"417.822266\" xlink:href=\"#DejaVuSans-45\"/>\n       <use x=\"453.90625\" xlink:href=\"#DejaVuSans-50\"/>\n       <use x=\"517.529297\" xlink:href=\"#DejaVuSans-50\"/>\n      </g>\n     </g>\n    </g>\n    <g id=\"xtick_7\">\n     <g id=\"line2d_13\">\n      <path clip-path=\"url(#p2af2f53e45)\" d=\"M 482.62549 401.778117 \nL 482.62549 10.098117 \n\" style=\"fill:none;stroke:#ffffff;stroke-linecap:square;stroke-width:0.8;\"/>\n     </g>\n     <g id=\"line2d_14\">\n      <g>\n       <use style=\"fill:#555555;stroke:#555555;stroke-width:0.8;\" x=\"482.62549\" xlink:href=\"#m7681e6810f\" y=\"401.778117\"/>\n      </g>\n     </g>\n     <g id=\"text_7\">\n      <!-- 2020-03-01 -->\n      <defs>\n       <path d=\"M 40.578125 39.3125 \nQ 47.65625 37.796875 51.625 33 \nQ 55.609375 28.21875 55.609375 21.1875 \nQ 55.609375 10.40625 48.1875 4.484375 \nQ 40.765625 -1.421875 27.09375 -1.421875 \nQ 22.515625 -1.421875 17.65625 -0.515625 \nQ 12.796875 0.390625 7.625 2.203125 \nL 7.625 11.71875 \nQ 11.71875 9.328125 16.59375 8.109375 \nQ 21.484375 6.890625 26.8125 6.890625 \nQ 36.078125 6.890625 40.9375 10.546875 \nQ 45.796875 14.203125 45.796875 21.1875 \nQ 45.796875 27.640625 41.28125 31.265625 \nQ 36.765625 34.90625 28.71875 34.90625 \nL 20.21875 34.90625 \nL 20.21875 43.015625 \nL 29.109375 43.015625 \nQ 36.375 43.015625 40.234375 45.921875 \nQ 44.09375 48.828125 44.09375 54.296875 \nQ 44.09375 59.90625 40.109375 62.90625 \nQ 36.140625 65.921875 28.71875 65.921875 \nQ 24.65625 65.921875 20.015625 65.03125 \nQ 15.375 64.15625 9.8125 62.3125 \nL 9.8125 71.09375 \nQ 15.4375 72.65625 20.34375 73.4375 \nQ 25.25 74.21875 29.59375 74.21875 \nQ 40.828125 74.21875 47.359375 69.109375 \nQ 53.90625 64.015625 53.90625 55.328125 \nQ 53.90625 49.265625 50.4375 45.09375 \nQ 46.96875 40.921875 40.578125 39.3125 \nz\n\" id=\"DejaVuSans-51\"/>\n      </defs>\n      <g style=\"fill:#555555;\" transform=\"translate(431.256039 444.416369)rotate(-30)scale(0.1 -0.1)\">\n       <use xlink:href=\"#DejaVuSans-50\"/>\n       <use x=\"63.623047\" xlink:href=\"#DejaVuSans-48\"/>\n       <use x=\"127.246094\" xlink:href=\"#DejaVuSans-50\"/>\n       <use x=\"190.869141\" xlink:href=\"#DejaVuSans-48\"/>\n       <use x=\"254.492188\" xlink:href=\"#DejaVuSans-45\"/>\n       <use x=\"290.576172\" xlink:href=\"#DejaVuSans-48\"/>\n       <use x=\"354.199219\" xlink:href=\"#DejaVuSans-51\"/>\n       <use x=\"417.822266\" xlink:href=\"#DejaVuSans-45\"/>\n       <use x=\"453.90625\" xlink:href=\"#DejaVuSans-48\"/>\n       <use x=\"517.529297\" xlink:href=\"#DejaVuSans-49\"/>\n      </g>\n     </g>\n    </g>\n    <g id=\"xtick_8\">\n     <g id=\"line2d_15\">\n      <path clip-path=\"url(#p2af2f53e45)\" d=\"M 578.740323 401.778117 \nL 578.740323 10.098117 \n\" style=\"fill:none;stroke:#ffffff;stroke-linecap:square;stroke-width:0.8;\"/>\n     </g>\n     <g id=\"line2d_16\">\n      <g>\n       <use style=\"fill:#555555;stroke:#555555;stroke-width:0.8;\" x=\"578.740323\" xlink:href=\"#m7681e6810f\" y=\"401.778117\"/>\n      </g>\n     </g>\n     <g id=\"text_8\">\n      <!-- 2020-03-22 -->\n      <g style=\"fill:#555555;\" transform=\"translate(527.370871 444.416369)rotate(-30)scale(0.1 -0.1)\">\n       <use xlink:href=\"#DejaVuSans-50\"/>\n       <use x=\"63.623047\" xlink:href=\"#DejaVuSans-48\"/>\n       <use x=\"127.246094\" xlink:href=\"#DejaVuSans-50\"/>\n       <use x=\"190.869141\" xlink:href=\"#DejaVuSans-48\"/>\n       <use x=\"254.492188\" xlink:href=\"#DejaVuSans-45\"/>\n       <use x=\"290.576172\" xlink:href=\"#DejaVuSans-48\"/>\n       <use x=\"354.199219\" xlink:href=\"#DejaVuSans-51\"/>\n       <use x=\"417.822266\" xlink:href=\"#DejaVuSans-45\"/>\n       <use x=\"453.90625\" xlink:href=\"#DejaVuSans-50\"/>\n       <use x=\"517.529297\" xlink:href=\"#DejaVuSans-50\"/>\n      </g>\n     </g>\n    </g>\n    <g id=\"xtick_9\">\n     <g id=\"line2d_17\">\n      <path clip-path=\"url(#p2af2f53e45)\" d=\"M 624.509291 401.778117 \nL 624.509291 10.098117 \n\" style=\"fill:none;stroke:#ffffff;stroke-linecap:square;stroke-width:0.8;\"/>\n     </g>\n     <g id=\"line2d_18\">\n      <g>\n       <use style=\"fill:#555555;stroke:#555555;stroke-width:0.8;\" x=\"624.509291\" xlink:href=\"#m7681e6810f\" y=\"401.778117\"/>\n      </g>\n     </g>\n     <g id=\"text_9\">\n      <!-- 2020-04-01 -->\n      <defs>\n       <path d=\"M 37.796875 64.3125 \nL 12.890625 25.390625 \nL 37.796875 25.390625 \nz\nM 35.203125 72.90625 \nL 47.609375 72.90625 \nL 47.609375 25.390625 \nL 58.015625 25.390625 \nL 58.015625 17.1875 \nL 47.609375 17.1875 \nL 47.609375 0 \nL 37.796875 0 \nL 37.796875 17.1875 \nL 4.890625 17.1875 \nL 4.890625 26.703125 \nz\n\" id=\"DejaVuSans-52\"/>\n      </defs>\n      <g style=\"fill:#555555;\" transform=\"translate(573.139839 444.416369)rotate(-30)scale(0.1 -0.1)\">\n       <use xlink:href=\"#DejaVuSans-50\"/>\n       <use x=\"63.623047\" xlink:href=\"#DejaVuSans-48\"/>\n       <use x=\"127.246094\" xlink:href=\"#DejaVuSans-50\"/>\n       <use x=\"190.869141\" xlink:href=\"#DejaVuSans-48\"/>\n       <use x=\"254.492188\" xlink:href=\"#DejaVuSans-45\"/>\n       <use x=\"290.576172\" xlink:href=\"#DejaVuSans-48\"/>\n       <use x=\"354.199219\" xlink:href=\"#DejaVuSans-52\"/>\n       <use x=\"417.822266\" xlink:href=\"#DejaVuSans-45\"/>\n       <use x=\"453.90625\" xlink:href=\"#DejaVuSans-48\"/>\n       <use x=\"517.529297\" xlink:href=\"#DejaVuSans-49\"/>\n      </g>\n     </g>\n    </g>\n    <g id=\"text_10\">\n     <!-- Date -->\n     <defs>\n      <path d=\"M 19.671875 64.796875 \nL 19.671875 8.109375 \nL 31.59375 8.109375 \nQ 46.6875 8.109375 53.6875 14.9375 \nQ 60.6875 21.78125 60.6875 36.53125 \nQ 60.6875 51.171875 53.6875 57.984375 \nQ 46.6875 64.796875 31.59375 64.796875 \nz\nM 9.8125 72.90625 \nL 30.078125 72.90625 \nQ 51.265625 72.90625 61.171875 64.09375 \nQ 71.09375 55.28125 71.09375 36.53125 \nQ 71.09375 17.671875 61.125 8.828125 \nQ 51.171875 0 30.078125 0 \nL 9.8125 0 \nz\n\" id=\"DejaVuSans-68\"/>\n      <path d=\"M 34.28125 27.484375 \nQ 23.390625 27.484375 19.1875 25 \nQ 14.984375 22.515625 14.984375 16.5 \nQ 14.984375 11.71875 18.140625 8.90625 \nQ 21.296875 6.109375 26.703125 6.109375 \nQ 34.1875 6.109375 38.703125 11.40625 \nQ 43.21875 16.703125 43.21875 25.484375 \nL 43.21875 27.484375 \nz\nM 52.203125 31.203125 \nL 52.203125 0 \nL 43.21875 0 \nL 43.21875 8.296875 \nQ 40.140625 3.328125 35.546875 0.953125 \nQ 30.953125 -1.421875 24.3125 -1.421875 \nQ 15.921875 -1.421875 10.953125 3.296875 \nQ 6 8.015625 6 15.921875 \nQ 6 25.140625 12.171875 29.828125 \nQ 18.359375 34.515625 30.609375 34.515625 \nL 43.21875 34.515625 \nL 43.21875 35.40625 \nQ 43.21875 41.609375 39.140625 45 \nQ 35.0625 48.390625 27.6875 48.390625 \nQ 23 48.390625 18.546875 47.265625 \nQ 14.109375 46.140625 10.015625 43.890625 \nL 10.015625 52.203125 \nQ 14.9375 54.109375 19.578125 55.046875 \nQ 24.21875 56 28.609375 56 \nQ 40.484375 56 46.34375 49.84375 \nQ 52.203125 43.703125 52.203125 31.203125 \nz\n\" id=\"DejaVuSans-97\"/>\n      <path d=\"M 18.3125 70.21875 \nL 18.3125 54.6875 \nL 36.8125 54.6875 \nL 36.8125 47.703125 \nL 18.3125 47.703125 \nL 18.3125 18.015625 \nQ 18.3125 11.328125 20.140625 9.421875 \nQ 21.96875 7.515625 27.59375 7.515625 \nL 36.8125 7.515625 \nL 36.8125 0 \nL 27.59375 0 \nQ 17.1875 0 13.234375 3.875 \nQ 9.28125 7.765625 9.28125 18.015625 \nL 9.28125 47.703125 \nL 2.6875 47.703125 \nL 2.6875 54.6875 \nL 9.28125 54.6875 \nL 9.28125 70.21875 \nz\n\" id=\"DejaVuSans-116\"/>\n      <path d=\"M 56.203125 29.59375 \nL 56.203125 25.203125 \nL 14.890625 25.203125 \nQ 15.484375 15.921875 20.484375 11.0625 \nQ 25.484375 6.203125 34.421875 6.203125 \nQ 39.59375 6.203125 44.453125 7.46875 \nQ 49.3125 8.734375 54.109375 11.28125 \nL 54.109375 2.78125 \nQ 49.265625 0.734375 44.1875 -0.34375 \nQ 39.109375 -1.421875 33.890625 -1.421875 \nQ 20.796875 -1.421875 13.15625 6.1875 \nQ 5.515625 13.8125 5.515625 26.8125 \nQ 5.515625 40.234375 12.765625 48.109375 \nQ 20.015625 56 32.328125 56 \nQ 43.359375 56 49.78125 48.890625 \nQ 56.203125 41.796875 56.203125 29.59375 \nz\nM 47.21875 32.234375 \nQ 47.125 39.59375 43.09375 43.984375 \nQ 39.0625 48.390625 32.421875 48.390625 \nQ 24.90625 48.390625 20.390625 44.140625 \nQ 15.875 39.890625 15.1875 32.171875 \nz\n\" id=\"DejaVuSans-101\"/>\n     </defs>\n     <g style=\"fill:#555555;\" transform=\"translate(365.304375 459.335556)scale(0.12 -0.12)\">\n      <use xlink:href=\"#DejaVuSans-68\"/>\n      <use x=\"77.001953\" xlink:href=\"#DejaVuSans-97\"/>\n      <use x=\"138.28125\" xlink:href=\"#DejaVuSans-116\"/>\n      <use x=\"177.490234\" xlink:href=\"#DejaVuSans-101\"/>\n     </g>\n    </g>\n   </g>\n   <g id=\"matplotlib.axis_2\">\n    <g id=\"ytick_1\">\n     <g id=\"line2d_19\">\n      <path clip-path=\"url(#p2af2f53e45)\" d=\"M 44.845313 338.670347 \nL 714.445312 338.670347 \n\" style=\"fill:none;stroke:#ffffff;stroke-linecap:square;stroke-width:0.8;\"/>\n     </g>\n     <g id=\"line2d_20\">\n      <defs>\n       <path d=\"M 0 0 \nL -3.5 0 \n\" id=\"me8d7139fe2\" style=\"stroke:#555555;stroke-width:0.8;\"/>\n      </defs>\n      <g>\n       <use style=\"fill:#555555;stroke:#555555;stroke-width:0.8;\" x=\"44.845313\" xlink:href=\"#me8d7139fe2\" y=\"338.670347\"/>\n      </g>\n     </g>\n     <g id=\"text_11\">\n      <!-- −0.10 -->\n      <defs>\n       <path d=\"M 10.59375 35.5 \nL 73.1875 35.5 \nL 73.1875 27.203125 \nL 10.59375 27.203125 \nz\n\" id=\"DejaVuSans-8722\"/>\n       <path d=\"M 10.6875 12.40625 \nL 21 12.40625 \nL 21 0 \nL 10.6875 0 \nz\n\" id=\"DejaVuSans-46\"/>\n      </defs>\n      <g style=\"fill:#555555;\" transform=\"translate(7.2 342.469565)scale(0.1 -0.1)\">\n       <use xlink:href=\"#DejaVuSans-8722\"/>\n       <use x=\"83.789062\" xlink:href=\"#DejaVuSans-48\"/>\n       <use x=\"147.412109\" xlink:href=\"#DejaVuSans-46\"/>\n       <use x=\"179.199219\" xlink:href=\"#DejaVuSans-49\"/>\n       <use x=\"242.822266\" xlink:href=\"#DejaVuSans-48\"/>\n      </g>\n     </g>\n    </g>\n    <g id=\"ytick_2\">\n     <g id=\"line2d_21\">\n      <path clip-path=\"url(#p2af2f53e45)\" d=\"M 44.845313 256.752565 \nL 714.445312 256.752565 \n\" style=\"fill:none;stroke:#ffffff;stroke-linecap:square;stroke-width:0.8;\"/>\n     </g>\n     <g id=\"line2d_22\">\n      <g>\n       <use style=\"fill:#555555;stroke:#555555;stroke-width:0.8;\" x=\"44.845313\" xlink:href=\"#me8d7139fe2\" y=\"256.752565\"/>\n      </g>\n     </g>\n     <g id=\"text_12\">\n      <!-- −0.05 -->\n      <defs>\n       <path d=\"M 10.796875 72.90625 \nL 49.515625 72.90625 \nL 49.515625 64.59375 \nL 19.828125 64.59375 \nL 19.828125 46.734375 \nQ 21.96875 47.46875 24.109375 47.828125 \nQ 26.265625 48.1875 28.421875 48.1875 \nQ 40.625 48.1875 47.75 41.5 \nQ 54.890625 34.8125 54.890625 23.390625 \nQ 54.890625 11.625 47.5625 5.09375 \nQ 40.234375 -1.421875 26.90625 -1.421875 \nQ 22.3125 -1.421875 17.546875 -0.640625 \nQ 12.796875 0.140625 7.71875 1.703125 \nL 7.71875 11.625 \nQ 12.109375 9.234375 16.796875 8.0625 \nQ 21.484375 6.890625 26.703125 6.890625 \nQ 35.15625 6.890625 40.078125 11.328125 \nQ 45.015625 15.765625 45.015625 23.390625 \nQ 45.015625 31 40.078125 35.4375 \nQ 35.15625 39.890625 26.703125 39.890625 \nQ 22.75 39.890625 18.8125 39.015625 \nQ 14.890625 38.140625 10.796875 36.28125 \nz\n\" id=\"DejaVuSans-53\"/>\n      </defs>\n      <g style=\"fill:#555555;\" transform=\"translate(7.2 260.551783)scale(0.1 -0.1)\">\n       <use xlink:href=\"#DejaVuSans-8722\"/>\n       <use x=\"83.789062\" xlink:href=\"#DejaVuSans-48\"/>\n       <use x=\"147.412109\" xlink:href=\"#DejaVuSans-46\"/>\n       <use x=\"179.199219\" xlink:href=\"#DejaVuSans-48\"/>\n       <use x=\"242.822266\" xlink:href=\"#DejaVuSans-53\"/>\n      </g>\n     </g>\n    </g>\n    <g id=\"ytick_3\">\n     <g id=\"line2d_23\">\n      <path clip-path=\"url(#p2af2f53e45)\" d=\"M 44.845313 174.834783 \nL 714.445312 174.834783 \n\" style=\"fill:none;stroke:#ffffff;stroke-linecap:square;stroke-width:0.8;\"/>\n     </g>\n     <g id=\"line2d_24\">\n      <g>\n       <use style=\"fill:#555555;stroke:#555555;stroke-width:0.8;\" x=\"44.845313\" xlink:href=\"#me8d7139fe2\" y=\"174.834783\"/>\n      </g>\n     </g>\n     <g id=\"text_13\">\n      <!-- 0.00 -->\n      <g style=\"fill:#555555;\" transform=\"translate(15.579688 178.634001)scale(0.1 -0.1)\">\n       <use xlink:href=\"#DejaVuSans-48\"/>\n       <use x=\"63.623047\" xlink:href=\"#DejaVuSans-46\"/>\n       <use x=\"95.410156\" xlink:href=\"#DejaVuSans-48\"/>\n       <use x=\"159.033203\" xlink:href=\"#DejaVuSans-48\"/>\n      </g>\n     </g>\n    </g>\n    <g id=\"ytick_4\">\n     <g id=\"line2d_25\">\n      <path clip-path=\"url(#p2af2f53e45)\" d=\"M 44.845313 92.917001 \nL 714.445312 92.917001 \n\" style=\"fill:none;stroke:#ffffff;stroke-linecap:square;stroke-width:0.8;\"/>\n     </g>\n     <g id=\"line2d_26\">\n      <g>\n       <use style=\"fill:#555555;stroke:#555555;stroke-width:0.8;\" x=\"44.845313\" xlink:href=\"#me8d7139fe2\" y=\"92.917001\"/>\n      </g>\n     </g>\n     <g id=\"text_14\">\n      <!-- 0.05 -->\n      <g style=\"fill:#555555;\" transform=\"translate(15.579688 96.716219)scale(0.1 -0.1)\">\n       <use xlink:href=\"#DejaVuSans-48\"/>\n       <use x=\"63.623047\" xlink:href=\"#DejaVuSans-46\"/>\n       <use x=\"95.410156\" xlink:href=\"#DejaVuSans-48\"/>\n       <use x=\"159.033203\" xlink:href=\"#DejaVuSans-53\"/>\n      </g>\n     </g>\n    </g>\n    <g id=\"ytick_5\">\n     <g id=\"line2d_27\">\n      <path clip-path=\"url(#p2af2f53e45)\" d=\"M 44.845313 10.999219 \nL 714.445312 10.999219 \n\" style=\"fill:none;stroke:#ffffff;stroke-linecap:square;stroke-width:0.8;\"/>\n     </g>\n     <g id=\"line2d_28\">\n      <g>\n       <use style=\"fill:#555555;stroke:#555555;stroke-width:0.8;\" x=\"44.845313\" xlink:href=\"#me8d7139fe2\" y=\"10.999219\"/>\n      </g>\n     </g>\n     <g id=\"text_15\">\n      <!-- 0.10 -->\n      <g style=\"fill:#555555;\" transform=\"translate(15.579688 14.798437)scale(0.1 -0.1)\">\n       <use xlink:href=\"#DejaVuSans-48\"/>\n       <use x=\"63.623047\" xlink:href=\"#DejaVuSans-46\"/>\n       <use x=\"95.410156\" xlink:href=\"#DejaVuSans-49\"/>\n       <use x=\"159.033203\" xlink:href=\"#DejaVuSans-48\"/>\n      </g>\n     </g>\n    </g>\n   </g>\n   <g id=\"line2d_29\">\n    <path clip-path=\"url(#p2af2f53e45)\" d=\"M 75.281676 203.667578 \nL 79.858573 168.051687 \nL 84.43547 186.408004 \nL 89.012366 151.63371 \nL 102.743057 176.147924 \nL 107.319954 179.39345 \nL 111.89685 174.267096 \nL 116.473747 161.899511 \nL 121.050644 156.935466 \nL 134.781334 138.326182 \nL 139.358231 173.484469 \nL 143.935128 171.463702 \nL 148.512025 167.680664 \nL 153.088922 172.953847 \nL 166.819612 165.97824 \nL 171.396509 172.987614 \nL 185.127199 172.110883 \nL 198.857889 187.268749 \nL 230.896167 177.384917 \nL 235.473064 175.137576 \nL 240.04996 174.618481 \nL 244.626857 169.824541 \nL 249.203754 177.035698 \nL 267.511341 167.402534 \nL 272.088238 170.455893 \nL 276.665135 181.924174 \nL 281.242032 160.942636 \nL 299.549619 188.533091 \nL 304.126516 183.208687 \nL 308.703412 188.785098 \nL 336.164793 180.102446 \nL 340.74169 197.230069 \nL 345.318587 196.280704 \nL 359.049277 165.797796 \nL 363.626174 149.647762 \nL 368.203071 165.45844 \nL 372.779967 169.959316 \nL 377.356864 183.173405 \nL 391.087554 179.185166 \nL 400.241348 155.696557 \nL 404.818245 192.851345 \nL 409.395142 184.293772 \nL 427.702729 180.838345 \nL 432.279626 158.273327 \nL 436.856522 179.322927 \nL 441.433419 182.054841 \nL 459.741006 262.557031 \nL 464.317903 169.101838 \nL 468.8948 233.111379 \nL 473.471697 227.699775 \nL 487.202387 156.440195 \nL 491.779284 159.324667 \nL 496.356181 151.252576 \nL 500.933077 201.541551 \nL 505.509974 235.259679 \nL 519.240665 305.884555 \nL 523.817561 176.373296 \nL 528.394458 198.005594 \nL 532.971355 363.437469 \nL 537.548252 135.092992 \nL 551.278942 241.828952 \nL 555.855839 129.724673 \nL 560.432736 242.522939 \nL 565.009632 152.097714 \nL 583.31722 225.771615 \nL 587.894116 32.847926 \nL 592.471013 103.545843 \nL 597.04791 138.516857 \nL 601.624807 263.211221 \nL 615.355497 159.033896 \nL 619.932394 143.249908 \nL 624.509291 238.865787 \nL 629.086187 167.163469 \nL 633.663084 194.292582 \nL 647.393775 125.104854 \nL 651.970671 139.386397 \nL 656.547568 182.549933 \nL 661.124465 127.901142 \nL 684.008949 189.311776 \n\" style=\"fill:none;stroke:#e24a33;stroke-linecap:square;stroke-width:1.5;\"/>\n   </g>\n   <g id=\"line2d_30\">\n    <path clip-path=\"url(#p2af2f53e45)\" d=\"M 75.281676 185.7466 \nL 79.858573 164.50715 \nL 84.43547 172.37868 \nL 89.012366 159.935173 \nL 102.743057 180.024821 \nL 107.319954 176.632937 \nL 111.89685 170.0771 \nL 116.473747 160.845409 \nL 121.050644 174.715872 \nL 134.781334 163.165822 \nL 139.358231 174.285547 \nL 143.935128 175.543197 \nL 148.512025 167.545118 \nL 153.088922 166.753436 \nL 166.819612 173.416346 \nL 171.396509 175.155028 \nL 185.127199 166.398813 \nL 198.857889 184.333307 \nL 230.896167 162.173862 \nL 235.473064 179.433934 \nL 240.04996 166.822448 \nL 244.626857 163.967219 \nL 249.203754 179.519271 \nL 267.511341 165.928168 \nL 272.088238 171.773597 \nL 276.665135 161.184417 \nL 281.242032 168.519375 \nL 299.549619 179.185437 \nL 304.126516 174.361242 \nL 308.703412 172.966523 \nL 336.164793 200.725567 \nL 340.74169 169.707619 \nL 345.318587 204.103095 \nL 359.049277 162.992051 \nL 363.626174 150.473555 \nL 368.203071 156.505222 \nL 372.779967 169.395188 \nL 377.356864 183.707283 \nL 391.087554 162.875294 \nL 400.241348 161.516751 \nL 404.818245 177.508213 \nL 409.395142 171.8172 \nL 427.702729 179.625685 \nL 432.279626 167.143115 \nL 436.856522 181.097917 \nL 441.433419 192.158443 \nL 459.741006 281.059182 \nL 464.317903 181.037101 \nL 468.8948 248.836254 \nL 473.471697 188.388019 \nL 487.202387 101.090972 \nL 491.779284 221.545096 \nL 496.356181 107.111142 \nL 500.933077 231.375718 \nL 505.509974 203.016046 \nL 519.240665 304.281938 \nL 523.817561 95.84138 \nL 528.394458 256.92114 \nL 532.971355 338.579995 \nL 537.548252 29.335028 \nL 551.278942 383.97448 \nL 555.855839 79.439375 \nL 560.432736 262.031793 \nL 565.009632 167.139818 \nL 583.31722 296.169968 \nL 587.894116 27.901753 \nL 592.471013 156.044498 \nL 597.04791 75.642456 \nL 601.624807 230.977701 \nL 615.355497 120.823783 \nL 619.932394 201.281629 \nL 624.509291 248.800581 \nL 629.086187 137.852743 \nL 633.663084 199.824393 \nL 647.393775 63.478627 \nL 651.970671 177.463261 \nL 656.547568 119.967283 \nL 661.124465 151.269543 \nL 684.008949 142.135661 \n\" style=\"fill:none;stroke:#348abd;stroke-linecap:square;stroke-width:1.5;\"/>\n   </g>\n   <g id=\"line2d_31\">\n    <path clip-path=\"url(#p2af2f53e45)\" d=\"M 75.281676 178.147707 \nL 79.858573 195.370944 \nL 84.43547 165.152555 \nL 89.012366 157.347558 \nL 102.743057 175.059772 \nL 107.319954 178.432162 \nL 111.89685 161.945013 \nL 116.473747 153.532577 \nL 121.050644 133.268715 \nL 134.781334 185.500957 \nL 139.358231 154.96647 \nL 143.935128 172.453448 \nL 148.512025 179.761248 \nL 153.088922 170.664167 \nL 166.819612 172.775121 \nL 171.396509 177.314129 \nL 185.127199 153.732952 \nL 198.857889 169.389276 \nL 230.896167 180.235622 \nL 235.473064 169.279488 \nL 240.04996 188.43549 \nL 244.626857 147.470044 \nL 249.203754 170.412348 \nL 267.511341 160.768133 \nL 272.088238 181.174155 \nL 276.665135 168.614615 \nL 281.242032 165.029363 \nL 299.549619 236.369794 \nL 304.126516 154.141613 \nL 308.703412 199.995684 \nL 336.164793 219.373409 \nL 340.74169 218.325313 \nL 345.318587 183.311984 \nL 359.049277 172.075679 \nL 363.626174 155.12471 \nL 368.203071 168.046346 \nL 372.779967 132.155845 \nL 377.356864 180.172604 \nL 391.087554 184.604554 \nL 400.241348 140.181797 \nL 404.818245 180.359128 \nL 409.395142 169.78514 \nL 427.702729 191.731873 \nL 432.279626 167.376502 \nL 436.856522 177.600728 \nL 441.433419 192.755488 \nL 459.741006 199.958608 \nL 464.317903 186.8644 \nL 468.8948 169.802293 \nL 473.471697 215.011174 \nL 487.202387 164.724263 \nL 491.779284 175.262278 \nL 496.356181 178.750721 \nL 500.933077 141.083311 \nL 505.509974 213.304059 \nL 519.240665 245.659067 \nL 523.817561 151.961232 \nL 528.394458 185.249303 \nL 532.971355 235.86026 \nL 537.548252 193.553646 \nL 551.278942 242.285585 \nL 555.855839 160.677448 \nL 560.432736 244.752767 \nL 565.009632 218.229679 \nL 583.31722 175.816167 \nL 587.894116 103.367536 \nL 592.471013 113.557856 \nL 597.04791 187.056201 \nL 601.624807 165.604214 \nL 615.355497 196.546927 \nL 619.932394 144.827729 \nL 624.509291 211.168501 \nL 629.086187 161.105383 \nL 633.663084 177.93081 \nL 647.393775 139.056481 \nL 651.970671 140.418176 \nL 656.547568 194.058906 \nL 661.124465 152.436028 \nL 684.008949 165.753405 \n\" style=\"fill:none;stroke:#988ed5;stroke-linecap:square;stroke-width:1.5;\"/>\n   </g>\n   <g id=\"line2d_32\">\n    <path clip-path=\"url(#p2af2f53e45)\" d=\"M 75.281676 180.994216 \nL 79.858573 186.812089 \nL 84.43547 181.301442 \nL 89.012366 158.136938 \nL 102.743057 169.492254 \nL 107.319954 167.51685 \nL 111.89685 168.894914 \nL 116.473747 150.330269 \nL 121.050644 149.807952 \nL 134.781334 176.420947 \nL 139.358231 154.162768 \nL 143.935128 175.521347 \nL 148.512025 173.491624 \nL 153.088922 169.161158 \nL 166.819612 175.184147 \nL 171.396509 184.999432 \nL 185.127199 164.298449 \nL 198.857889 179.70312 \nL 230.896167 206.904669 \nL 235.473064 159.346276 \nL 240.04996 193.18427 \nL 244.626857 148.289791 \nL 249.203754 159.96106 \nL 267.511341 150.885232 \nL 272.088238 180.625954 \nL 276.665135 162.346821 \nL 281.242032 172.999247 \nL 299.549619 182.774435 \nL 304.126516 154.797356 \nL 308.703412 190.168088 \nL 336.164793 219.831734 \nL 340.74169 203.025646 \nL 345.318587 197.097043 \nL 359.049277 174.935396 \nL 363.626174 144.93825 \nL 368.203071 168.976389 \nL 372.779967 128.361011 \nL 377.356864 186.635708 \nL 391.087554 182.91322 \nL 400.241348 147.296153 \nL 404.818245 178.806641 \nL 409.395142 167.053808 \nL 427.702729 200.379621 \nL 432.279626 173.752087 \nL 436.856522 185.871694 \nL 441.433419 199.389797 \nL 459.741006 220.327407 \nL 464.317903 195.873163 \nL 468.8948 192.187501 \nL 473.471697 229.869221 \nL 487.202387 162.104108 \nL 491.779284 165.339064 \nL 496.356181 138.490414 \nL 500.933077 154.334322 \nL 505.509974 210.609788 \nL 519.240665 244.931962 \nL 523.817561 168.009831 \nL 528.394458 221.103911 \nL 532.971355 239.579017 \nL 537.548252 231.99132 \nL 551.278942 228.017946 \nL 555.855839 215.872041 \nL 560.432736 256.417005 \nL 565.009632 318.46896 \nL 583.31722 147.17255 \nL 587.894116 39.649663 \nL 592.471013 81.106395 \nL 597.04791 192.73079 \nL 601.624807 144.521193 \nL 615.355497 175.416685 \nL 619.932394 139.421316 \nL 624.509291 240.737991 \nL 629.086187 136.976678 \nL 633.663084 174.284005 \nL 647.393775 112.932309 \nL 651.970671 146.08622 \nL 656.547568 189.689856 \nL 661.124465 148.689657 \nL 684.008949 156.318588 \n\" style=\"fill:none;stroke:#777777;stroke-linecap:square;stroke-width:1.5;\"/>\n   </g>\n   <g id=\"line2d_33\">\n    <path clip-path=\"url(#p2af2f53e45)\" d=\"M 75.281676 189.045687 \nL 79.858573 155.585796 \nL 84.43547 175.128916 \nL 89.012366 153.87309 \nL 102.743057 181.690115 \nL 107.319954 176.07498 \nL 111.89685 173.725987 \nL 116.473747 170.930144 \nL 121.050644 165.302044 \nL 134.781334 154.847362 \nL 139.358231 182.656833 \nL 143.935128 175.696602 \nL 148.512025 171.00312 \nL 153.088922 161.088531 \nL 166.819612 173.087164 \nL 171.396509 174.153375 \nL 185.127199 171.545243 \nL 198.857889 189.132866 \nL 230.896167 167.350016 \nL 235.473064 173.01523 \nL 240.04996 171.584232 \nL 244.626857 170.176061 \nL 249.203754 176.730759 \nL 267.511341 174.410078 \nL 272.088238 174.495168 \nL 276.665135 172.95401 \nL 281.242032 159.5571 \nL 299.549619 187.104784 \nL 304.126516 179.496808 \nL 308.703412 187.588979 \nL 336.164793 178.403253 \nL 340.74169 195.25259 \nL 345.318587 192.465281 \nL 359.049277 167.028976 \nL 363.626174 147.195125 \nL 368.203071 158.33045 \nL 372.779967 163.032208 \nL 377.356864 179.892759 \nL 391.087554 176.599545 \nL 400.241348 149.840173 \nL 404.818245 176.978662 \nL 409.395142 177.316252 \nL 427.702729 177.096426 \nL 432.279626 161.796503 \nL 436.856522 190.165838 \nL 441.433419 184.544473 \nL 459.741006 268.814276 \nL 464.317903 174.626118 \nL 468.8948 235.632137 \nL 473.471697 233.68949 \nL 487.202387 165.722275 \nL 491.779284 155.389629 \nL 496.356181 153.268053 \nL 500.933077 202.509744 \nL 505.509974 241.496235 \nL 519.240665 312.998865 \nL 523.817561 197.969323 \nL 528.394458 184.568424 \nL 532.971355 383.753639 \nL 537.548252 150.345867 \nL 551.278942 271.047319 \nL 555.855839 137.806019 \nL 560.432736 258.409362 \nL 565.009632 124.23651 \nL 583.31722 154.016074 \nL 587.894116 46.076848 \nL 592.471013 113.35757 \nL 597.04791 135.559754 \nL 601.624807 248.004528 \nL 615.355497 160.329804 \nL 619.932394 160.991658 \nL 624.509291 233.632481 \nL 629.086187 165.008681 \nL 633.663084 200.330305 \nL 647.393775 106.661161 \nL 651.970671 141.069509 \nL 656.547568 171.514913 \nL 661.124465 149.769886 \nL 684.008949 172.953656 \n\" style=\"fill:none;stroke:#fbc15e;stroke-linecap:square;stroke-width:1.5;\"/>\n   </g>\n   <g id=\"line2d_34\">\n    <path clip-path=\"url(#p2af2f53e45)\" d=\"M 75.281676 185.290933 \nL 79.858573 192.064171 \nL 84.43547 163.201422 \nL 89.012366 171.020357 \nL 102.743057 169.490999 \nL 107.319954 176.269525 \nL 111.89685 176.118111 \nL 116.473747 172.528521 \nL 121.050644 133.515272 \nL 134.781334 179.666994 \nL 139.358231 167.071299 \nL 143.935128 183.824459 \nL 148.512025 179.604603 \nL 153.088922 178.148417 \nL 166.819612 174.526733 \nL 171.396509 174.183541 \nL 185.127199 174.343937 \nL 198.857889 187.329333 \nL 230.896167 206.424315 \nL 235.473064 148.85753 \nL 240.04996 200.819068 \nL 244.626857 137.482802 \nL 249.203754 167.212738 \nL 267.511341 162.884784 \nL 272.088238 182.256668 \nL 276.665135 173.701398 \nL 281.242032 167.44943 \nL 299.549619 186.920891 \nL 304.126516 163.424167 \nL 308.703412 190.997602 \nL 336.164793 203.733137 \nL 340.74169 203.225771 \nL 345.318587 158.698356 \nL 359.049277 191.385564 \nL 363.626174 166.820207 \nL 368.203071 158.242781 \nL 372.779967 136.365695 \nL 377.356864 177.967778 \nL 391.087554 184.627576 \nL 400.241348 162.758733 \nL 404.818245 177.135229 \nL 409.395142 184.49907 \nL 427.702729 209.348776 \nL 432.279626 160.284763 \nL 436.856522 169.351359 \nL 441.433419 181.29581 \nL 459.741006 230.506009 \nL 464.317903 187.875794 \nL 468.8948 210.12976 \nL 473.471697 236.075674 \nL 487.202387 159.323835 \nL 491.779284 195.019615 \nL 496.356181 173.488602 \nL 500.933077 157.144925 \nL 505.509974 219.953518 \nL 519.240665 259.994085 \nL 523.817561 160.891749 \nL 528.394458 212.460396 \nL 532.971355 248.743871 \nL 537.548252 277.618162 \nL 551.278942 215.662379 \nL 555.855839 173.920537 \nL 560.432736 202.513137 \nL 565.009632 191.939601 \nL 583.31722 142.013354 \nL 587.894116 61.953826 \nL 592.471013 48.167345 \nL 597.04791 250.484669 \nL 601.624807 112.414423 \nL 615.355497 200.764882 \nL 619.932394 189.317267 \nL 624.509291 250.301435 \nL 629.086187 197.361254 \nL 633.663084 174.699743 \nL 647.393775 106.75363 \nL 651.970671 142.187603 \nL 656.547568 140.35322 \nL 661.124465 175.46734 \nL 684.008949 150.20379 \n\" style=\"fill:none;stroke:#8eba42;stroke-linecap:square;stroke-width:1.5;\"/>\n   </g>\n   <g id=\"patch_3\">\n    <path d=\"M 44.845313 401.778117 \nL 44.845313 10.098117 \n\" style=\"fill:none;stroke:#ffffff;stroke-linecap:square;stroke-linejoin:miter;\"/>\n   </g>\n   <g id=\"patch_4\">\n    <path d=\"M 714.445312 401.778117 \nL 714.445312 10.098117 \n\" style=\"fill:none;stroke:#ffffff;stroke-linecap:square;stroke-linejoin:miter;\"/>\n   </g>\n   <g id=\"patch_5\">\n    <path d=\"M 44.845312 401.778117 \nL 714.445312 401.778117 \n\" style=\"fill:none;stroke:#ffffff;stroke-linecap:square;stroke-linejoin:miter;\"/>\n   </g>\n   <g id=\"patch_6\">\n    <path d=\"M 44.845312 10.098117 \nL 714.445312 10.098117 \n\" style=\"fill:none;stroke:#ffffff;stroke-linecap:square;stroke-linejoin:miter;\"/>\n   </g>\n   <g id=\"legend_1\">\n    <g id=\"patch_7\">\n     <path d=\"M 51.845313 106.166867 \nL 110.954688 106.166867 \nQ 112.954688 106.166867 112.954688 104.166867 \nL 112.954688 17.098117 \nQ 112.954688 15.098117 110.954688 15.098117 \nL 51.845313 15.098117 \nQ 49.845313 15.098117 49.845313 17.098117 \nL 49.845313 104.166867 \nQ 49.845313 106.166867 51.845313 106.166867 \nz\n\" style=\"fill:#e5e5e5;opacity:0.8;stroke:#cccccc;stroke-linejoin:miter;stroke-width:0.5;\"/>\n    </g>\n    <g id=\"line2d_35\">\n     <path d=\"M 53.845313 23.196554 \nL 73.845313 23.196554 \n\" style=\"fill:none;stroke:#e24a33;stroke-linecap:square;stroke-width:1.5;\"/>\n    </g>\n    <g id=\"line2d_36\"/>\n    <g id=\"text_16\">\n     <!-- FTSE -->\n     <defs>\n      <path d=\"M 9.8125 72.90625 \nL 51.703125 72.90625 \nL 51.703125 64.59375 \nL 19.671875 64.59375 \nL 19.671875 43.109375 \nL 48.578125 43.109375 \nL 48.578125 34.8125 \nL 19.671875 34.8125 \nL 19.671875 0 \nL 9.8125 0 \nz\n\" id=\"DejaVuSans-70\"/>\n      <path d=\"M -0.296875 72.90625 \nL 61.375 72.90625 \nL 61.375 64.59375 \nL 35.5 64.59375 \nL 35.5 0 \nL 25.59375 0 \nL 25.59375 64.59375 \nL -0.296875 64.59375 \nz\n\" id=\"DejaVuSans-84\"/>\n      <path d=\"M 53.515625 70.515625 \nL 53.515625 60.890625 \nQ 47.90625 63.578125 42.921875 64.890625 \nQ 37.9375 66.21875 33.296875 66.21875 \nQ 25.25 66.21875 20.875 63.09375 \nQ 16.5 59.96875 16.5 54.203125 \nQ 16.5 49.359375 19.40625 46.890625 \nQ 22.3125 44.4375 30.421875 42.921875 \nL 36.375 41.703125 \nQ 47.40625 39.59375 52.65625 34.296875 \nQ 57.90625 29 57.90625 20.125 \nQ 57.90625 9.515625 50.796875 4.046875 \nQ 43.703125 -1.421875 29.984375 -1.421875 \nQ 24.8125 -1.421875 18.96875 -0.25 \nQ 13.140625 0.921875 6.890625 3.21875 \nL 6.890625 13.375 \nQ 12.890625 10.015625 18.65625 8.296875 \nQ 24.421875 6.59375 29.984375 6.59375 \nQ 38.421875 6.59375 43.015625 9.90625 \nQ 47.609375 13.234375 47.609375 19.390625 \nQ 47.609375 24.75 44.3125 27.78125 \nQ 41.015625 30.8125 33.5 32.328125 \nL 27.484375 33.5 \nQ 16.453125 35.6875 11.515625 40.375 \nQ 6.59375 45.0625 6.59375 53.421875 \nQ 6.59375 63.09375 13.40625 68.65625 \nQ 20.21875 74.21875 32.171875 74.21875 \nQ 37.3125 74.21875 42.625 73.28125 \nQ 47.953125 72.359375 53.515625 70.515625 \nz\n\" id=\"DejaVuSans-83\"/>\n      <path d=\"M 9.8125 72.90625 \nL 55.90625 72.90625 \nL 55.90625 64.59375 \nL 19.671875 64.59375 \nL 19.671875 43.015625 \nL 54.390625 43.015625 \nL 54.390625 34.71875 \nL 19.671875 34.71875 \nL 19.671875 8.296875 \nL 56.78125 8.296875 \nL 56.78125 0 \nL 9.8125 0 \nz\n\" id=\"DejaVuSans-69\"/>\n     </defs>\n     <g transform=\"translate(81.845313 26.696554)scale(0.1 -0.1)\">\n      <use xlink:href=\"#DejaVuSans-70\"/>\n      <use x=\"55.769531\" xlink:href=\"#DejaVuSans-84\"/>\n      <use x=\"116.853516\" xlink:href=\"#DejaVuSans-83\"/>\n      <use x=\"180.330078\" xlink:href=\"#DejaVuSans-69\"/>\n     </g>\n    </g>\n    <g id=\"line2d_37\">\n     <path d=\"M 53.845313 37.874679 \nL 73.845313 37.874679 \n\" style=\"fill:none;stroke:#348abd;stroke-linecap:square;stroke-width:1.5;\"/>\n    </g>\n    <g id=\"line2d_38\"/>\n    <g id=\"text_17\">\n     <!-- GSPC -->\n     <defs>\n      <path d=\"M 59.515625 10.40625 \nL 59.515625 29.984375 \nL 43.40625 29.984375 \nL 43.40625 38.09375 \nL 69.28125 38.09375 \nL 69.28125 6.78125 \nQ 63.578125 2.734375 56.6875 0.65625 \nQ 49.8125 -1.421875 42 -1.421875 \nQ 24.90625 -1.421875 15.25 8.5625 \nQ 5.609375 18.5625 5.609375 36.375 \nQ 5.609375 54.25 15.25 64.234375 \nQ 24.90625 74.21875 42 74.21875 \nQ 49.125 74.21875 55.546875 72.453125 \nQ 61.96875 70.703125 67.390625 67.28125 \nL 67.390625 56.78125 \nQ 61.921875 61.421875 55.765625 63.765625 \nQ 49.609375 66.109375 42.828125 66.109375 \nQ 29.4375 66.109375 22.71875 58.640625 \nQ 16.015625 51.171875 16.015625 36.375 \nQ 16.015625 21.625 22.71875 14.15625 \nQ 29.4375 6.6875 42.828125 6.6875 \nQ 48.046875 6.6875 52.140625 7.59375 \nQ 56.25 8.5 59.515625 10.40625 \nz\n\" id=\"DejaVuSans-71\"/>\n      <path d=\"M 19.671875 64.796875 \nL 19.671875 37.40625 \nL 32.078125 37.40625 \nQ 38.96875 37.40625 42.71875 40.96875 \nQ 46.484375 44.53125 46.484375 51.125 \nQ 46.484375 57.671875 42.71875 61.234375 \nQ 38.96875 64.796875 32.078125 64.796875 \nz\nM 9.8125 72.90625 \nL 32.078125 72.90625 \nQ 44.34375 72.90625 50.609375 67.359375 \nQ 56.890625 61.8125 56.890625 51.125 \nQ 56.890625 40.328125 50.609375 34.8125 \nQ 44.34375 29.296875 32.078125 29.296875 \nL 19.671875 29.296875 \nL 19.671875 0 \nL 9.8125 0 \nz\n\" id=\"DejaVuSans-80\"/>\n      <path d=\"M 64.40625 67.28125 \nL 64.40625 56.890625 \nQ 59.421875 61.53125 53.78125 63.8125 \nQ 48.140625 66.109375 41.796875 66.109375 \nQ 29.296875 66.109375 22.65625 58.46875 \nQ 16.015625 50.828125 16.015625 36.375 \nQ 16.015625 21.96875 22.65625 14.328125 \nQ 29.296875 6.6875 41.796875 6.6875 \nQ 48.140625 6.6875 53.78125 8.984375 \nQ 59.421875 11.28125 64.40625 15.921875 \nL 64.40625 5.609375 \nQ 59.234375 2.09375 53.4375 0.328125 \nQ 47.65625 -1.421875 41.21875 -1.421875 \nQ 24.65625 -1.421875 15.125 8.703125 \nQ 5.609375 18.84375 5.609375 36.375 \nQ 5.609375 53.953125 15.125 64.078125 \nQ 24.65625 74.21875 41.21875 74.21875 \nQ 47.75 74.21875 53.53125 72.484375 \nQ 59.328125 70.75 64.40625 67.28125 \nz\n\" id=\"DejaVuSans-67\"/>\n     </defs>\n     <g transform=\"translate(81.845313 41.374679)scale(0.1 -0.1)\">\n      <use xlink:href=\"#DejaVuSans-71\"/>\n      <use x=\"77.490234\" xlink:href=\"#DejaVuSans-83\"/>\n      <use x=\"140.966797\" xlink:href=\"#DejaVuSans-80\"/>\n      <use x=\"201.269531\" xlink:href=\"#DejaVuSans-67\"/>\n     </g>\n    </g>\n    <g id=\"line2d_39\">\n     <path d=\"M 53.845313 52.552804 \nL 73.845313 52.552804 \n\" style=\"fill:none;stroke:#988ed5;stroke-linecap:square;stroke-width:1.5;\"/>\n    </g>\n    <g id=\"line2d_40\"/>\n    <g id=\"text_18\">\n     <!-- HSI -->\n     <defs>\n      <path d=\"M 9.8125 72.90625 \nL 19.671875 72.90625 \nL 19.671875 43.015625 \nL 55.515625 43.015625 \nL 55.515625 72.90625 \nL 65.375 72.90625 \nL 65.375 0 \nL 55.515625 0 \nL 55.515625 34.71875 \nL 19.671875 34.71875 \nL 19.671875 0 \nL 9.8125 0 \nz\n\" id=\"DejaVuSans-72\"/>\n      <path d=\"M 9.8125 72.90625 \nL 19.671875 72.90625 \nL 19.671875 0 \nL 9.8125 0 \nz\n\" id=\"DejaVuSans-73\"/>\n     </defs>\n     <g transform=\"translate(81.845313 56.052804)scale(0.1 -0.1)\">\n      <use xlink:href=\"#DejaVuSans-72\"/>\n      <use x=\"75.195312\" xlink:href=\"#DejaVuSans-83\"/>\n      <use x=\"138.671875\" xlink:href=\"#DejaVuSans-73\"/>\n     </g>\n    </g>\n    <g id=\"line2d_41\">\n     <path d=\"M 53.845313 67.230929 \nL 73.845313 67.230929 \n\" style=\"fill:none;stroke:#777777;stroke-linecap:square;stroke-width:1.5;\"/>\n    </g>\n    <g id=\"line2d_42\"/>\n    <g id=\"text_19\">\n     <!-- KS11 -->\n     <defs>\n      <path d=\"M 9.8125 72.90625 \nL 19.671875 72.90625 \nL 19.671875 42.09375 \nL 52.390625 72.90625 \nL 65.09375 72.90625 \nL 28.90625 38.921875 \nL 67.671875 0 \nL 54.6875 0 \nL 19.671875 35.109375 \nL 19.671875 0 \nL 9.8125 0 \nz\n\" id=\"DejaVuSans-75\"/>\n     </defs>\n     <g transform=\"translate(81.845313 70.730929)scale(0.1 -0.1)\">\n      <use xlink:href=\"#DejaVuSans-75\"/>\n      <use x=\"65.576172\" xlink:href=\"#DejaVuSans-83\"/>\n      <use x=\"129.052734\" xlink:href=\"#DejaVuSans-49\"/>\n      <use x=\"192.675781\" xlink:href=\"#DejaVuSans-49\"/>\n     </g>\n    </g>\n    <g id=\"line2d_43\">\n     <path d=\"M 53.845313 81.909054 \nL 73.845313 81.909054 \n\" style=\"fill:none;stroke:#fbc15e;stroke-linecap:square;stroke-width:1.5;\"/>\n    </g>\n    <g id=\"line2d_44\"/>\n    <g id=\"text_20\">\n     <!-- N100 -->\n     <defs>\n      <path d=\"M 9.8125 72.90625 \nL 23.09375 72.90625 \nL 55.421875 11.921875 \nL 55.421875 72.90625 \nL 64.984375 72.90625 \nL 64.984375 0 \nL 51.703125 0 \nL 19.390625 60.984375 \nL 19.390625 0 \nL 9.8125 0 \nz\n\" id=\"DejaVuSans-78\"/>\n     </defs>\n     <g transform=\"translate(81.845313 85.409054)scale(0.1 -0.1)\">\n      <use xlink:href=\"#DejaVuSans-78\"/>\n      <use x=\"74.804688\" xlink:href=\"#DejaVuSans-49\"/>\n      <use x=\"138.427734\" xlink:href=\"#DejaVuSans-48\"/>\n      <use x=\"202.050781\" xlink:href=\"#DejaVuSans-48\"/>\n     </g>\n    </g>\n    <g id=\"line2d_45\">\n     <path d=\"M 53.845313 96.587179 \nL 73.845313 96.587179 \n\" style=\"fill:none;stroke:#8eba42;stroke-linecap:square;stroke-width:1.5;\"/>\n    </g>\n    <g id=\"line2d_46\"/>\n    <g id=\"text_21\">\n     <!-- N225 -->\n     <g transform=\"translate(81.845313 100.087179)scale(0.1 -0.1)\">\n      <use xlink:href=\"#DejaVuSans-78\"/>\n      <use x=\"74.804688\" xlink:href=\"#DejaVuSans-50\"/>\n      <use x=\"138.427734\" xlink:href=\"#DejaVuSans-50\"/>\n      <use x=\"202.050781\" xlink:href=\"#DejaVuSans-53\"/>\n     </g>\n    </g>\n   </g>\n  </g>\n </g>\n <defs>\n  <clipPath id=\"p2af2f53e45\">\n   <rect height=\"391.68\" width=\"669.6\" x=\"44.845313\" y=\"10.098117\"/>\n  </clipPath>\n </defs>\n</svg>\n"
          },
          "metadata": {
            "tags": []
          }
        }
      ]
    },
    {
      "cell_type": "markdown",
      "metadata": {
        "id": "WMsztwXmSXJh",
        "colab_type": "text"
      },
      "source": [
        "다음은 정규화한 지표값의 추이를 보겠습니다."
      ]
    },
    {
      "cell_type": "code",
      "metadata": {
        "id": "RiUKTiuNHz03",
        "colab_type": "code",
        "colab": {
          "base_uri": "https://localhost:8080/",
          "height": 642
        },
        "outputId": "0e475430-82e5-4f61-f9bf-eda568be8062"
      },
      "source": [
        "standardize(data_fill).plot()\n",
        "plt.show()"
      ],
      "execution_count": 16,
      "outputs": [
        {
          "output_type": "display_data",
          "data": {
            "text/plain": [
              "<Figure size 864x576 with 1 Axes>"
            ],
            "image/svg+xml": "<?xml version=\"1.0\" encoding=\"utf-8\" standalone=\"no\"?>\n<!DOCTYPE svg PUBLIC \"-//W3C//DTD SVG 1.1//EN\"\n  \"http://www.w3.org/Graphics/SVG/1.1/DTD/svg11.dtd\">\n<!-- Created with matplotlib (https://matplotlib.org/) -->\n<svg height=\"466.133065pt\" version=\"1.1\" viewBox=\"0 0 715.282813 466.133065\" width=\"715.282813pt\" xmlns=\"http://www.w3.org/2000/svg\" xmlns:xlink=\"http://www.w3.org/1999/xlink\">\n <defs>\n  <style type=\"text/css\">\n*{stroke-linecap:butt;stroke-linejoin:round;}\n  </style>\n </defs>\n <g id=\"figure_1\">\n  <g id=\"patch_1\">\n   <path d=\"M 0 466.133065 \nL 715.282813 466.133065 \nL 715.282813 0 \nL 0 0 \nz\n\" style=\"fill:#ffffff;\"/>\n  </g>\n  <g id=\"axes_1\">\n   <g id=\"patch_2\">\n    <path d=\"M 38.482813 398.88 \nL 708.082813 398.88 \nL 708.082813 7.2 \nL 38.482813 7.2 \nz\n\" style=\"fill:#e5e5e5;\"/>\n   </g>\n   <g id=\"matplotlib.axis_1\">\n    <g id=\"xtick_1\">\n     <g id=\"line2d_1\">\n      <path clip-path=\"url(#p6b70ea73d6)\" d=\"M 64.44324 398.88 \nL 64.44324 7.2 \n\" style=\"fill:none;stroke:#ffffff;stroke-linecap:square;stroke-width:0.8;\"/>\n     </g>\n     <g id=\"line2d_2\">\n      <defs>\n       <path d=\"M 0 0 \nL 0 3.5 \n\" id=\"m8560e1783b\" style=\"stroke:#555555;stroke-width:0.8;\"/>\n      </defs>\n      <g>\n       <use style=\"fill:#555555;stroke:#555555;stroke-width:0.8;\" x=\"64.44324\" xlink:href=\"#m8560e1783b\" y=\"398.88\"/>\n      </g>\n     </g>\n     <g id=\"text_1\">\n      <!-- 2019-12-01 -->\n      <defs>\n       <path d=\"M 19.1875 8.296875 \nL 53.609375 8.296875 \nL 53.609375 0 \nL 7.328125 0 \nL 7.328125 8.296875 \nQ 12.9375 14.109375 22.625 23.890625 \nQ 32.328125 33.6875 34.8125 36.53125 \nQ 39.546875 41.84375 41.421875 45.53125 \nQ 43.3125 49.21875 43.3125 52.78125 \nQ 43.3125 58.59375 39.234375 62.25 \nQ 35.15625 65.921875 28.609375 65.921875 \nQ 23.96875 65.921875 18.8125 64.3125 \nQ 13.671875 62.703125 7.8125 59.421875 \nL 7.8125 69.390625 \nQ 13.765625 71.78125 18.9375 73 \nQ 24.125 74.21875 28.421875 74.21875 \nQ 39.75 74.21875 46.484375 68.546875 \nQ 53.21875 62.890625 53.21875 53.421875 \nQ 53.21875 48.921875 51.53125 44.890625 \nQ 49.859375 40.875 45.40625 35.40625 \nQ 44.1875 33.984375 37.640625 27.21875 \nQ 31.109375 20.453125 19.1875 8.296875 \nz\n\" id=\"DejaVuSans-50\"/>\n       <path d=\"M 31.78125 66.40625 \nQ 24.171875 66.40625 20.328125 58.90625 \nQ 16.5 51.421875 16.5 36.375 \nQ 16.5 21.390625 20.328125 13.890625 \nQ 24.171875 6.390625 31.78125 6.390625 \nQ 39.453125 6.390625 43.28125 13.890625 \nQ 47.125 21.390625 47.125 36.375 \nQ 47.125 51.421875 43.28125 58.90625 \nQ 39.453125 66.40625 31.78125 66.40625 \nz\nM 31.78125 74.21875 \nQ 44.046875 74.21875 50.515625 64.515625 \nQ 56.984375 54.828125 56.984375 36.375 \nQ 56.984375 17.96875 50.515625 8.265625 \nQ 44.046875 -1.421875 31.78125 -1.421875 \nQ 19.53125 -1.421875 13.0625 8.265625 \nQ 6.59375 17.96875 6.59375 36.375 \nQ 6.59375 54.828125 13.0625 64.515625 \nQ 19.53125 74.21875 31.78125 74.21875 \nz\n\" id=\"DejaVuSans-48\"/>\n       <path d=\"M 12.40625 8.296875 \nL 28.515625 8.296875 \nL 28.515625 63.921875 \nL 10.984375 60.40625 \nL 10.984375 69.390625 \nL 28.421875 72.90625 \nL 38.28125 72.90625 \nL 38.28125 8.296875 \nL 54.390625 8.296875 \nL 54.390625 0 \nL 12.40625 0 \nz\n\" id=\"DejaVuSans-49\"/>\n       <path d=\"M 10.984375 1.515625 \nL 10.984375 10.5 \nQ 14.703125 8.734375 18.5 7.8125 \nQ 22.3125 6.890625 25.984375 6.890625 \nQ 35.75 6.890625 40.890625 13.453125 \nQ 46.046875 20.015625 46.78125 33.40625 \nQ 43.953125 29.203125 39.59375 26.953125 \nQ 35.25 24.703125 29.984375 24.703125 \nQ 19.046875 24.703125 12.671875 31.3125 \nQ 6.296875 37.9375 6.296875 49.421875 \nQ 6.296875 60.640625 12.9375 67.421875 \nQ 19.578125 74.21875 30.609375 74.21875 \nQ 43.265625 74.21875 49.921875 64.515625 \nQ 56.59375 54.828125 56.59375 36.375 \nQ 56.59375 19.140625 48.40625 8.859375 \nQ 40.234375 -1.421875 26.421875 -1.421875 \nQ 22.703125 -1.421875 18.890625 -0.6875 \nQ 15.09375 0.046875 10.984375 1.515625 \nz\nM 30.609375 32.421875 \nQ 37.25 32.421875 41.125 36.953125 \nQ 45.015625 41.5 45.015625 49.421875 \nQ 45.015625 57.28125 41.125 61.84375 \nQ 37.25 66.40625 30.609375 66.40625 \nQ 23.96875 66.40625 20.09375 61.84375 \nQ 16.21875 57.28125 16.21875 49.421875 \nQ 16.21875 41.5 20.09375 36.953125 \nQ 23.96875 32.421875 30.609375 32.421875 \nz\n\" id=\"DejaVuSans-57\"/>\n       <path d=\"M 4.890625 31.390625 \nL 31.203125 31.390625 \nL 31.203125 23.390625 \nL 4.890625 23.390625 \nz\n\" id=\"DejaVuSans-45\"/>\n      </defs>\n      <g style=\"fill:#555555;\" transform=\"translate(13.073789 441.518252)rotate(-30)scale(0.1 -0.1)\">\n       <use xlink:href=\"#DejaVuSans-50\"/>\n       <use x=\"63.623047\" xlink:href=\"#DejaVuSans-48\"/>\n       <use x=\"127.246094\" xlink:href=\"#DejaVuSans-49\"/>\n       <use x=\"190.869141\" xlink:href=\"#DejaVuSans-57\"/>\n       <use x=\"254.492188\" xlink:href=\"#DejaVuSans-45\"/>\n       <use x=\"290.576172\" xlink:href=\"#DejaVuSans-49\"/>\n       <use x=\"354.199219\" xlink:href=\"#DejaVuSans-50\"/>\n       <use x=\"417.822266\" xlink:href=\"#DejaVuSans-45\"/>\n       <use x=\"453.90625\" xlink:href=\"#DejaVuSans-48\"/>\n       <use x=\"517.529297\" xlink:href=\"#DejaVuSans-49\"/>\n      </g>\n     </g>\n    </g>\n    <g id=\"xtick_2\">\n     <g id=\"line2d_3\">\n      <path clip-path=\"url(#p6b70ea73d6)\" d=\"M 158.437893 398.88 \nL 158.437893 7.2 \n\" style=\"fill:none;stroke:#ffffff;stroke-linecap:square;stroke-width:0.8;\"/>\n     </g>\n     <g id=\"line2d_4\">\n      <g>\n       <use style=\"fill:#555555;stroke:#555555;stroke-width:0.8;\" x=\"158.437893\" xlink:href=\"#m8560e1783b\" y=\"398.88\"/>\n      </g>\n     </g>\n     <g id=\"text_2\">\n      <!-- 2019-12-22 -->\n      <g style=\"fill:#555555;\" transform=\"translate(107.068441 441.518252)rotate(-30)scale(0.1 -0.1)\">\n       <use xlink:href=\"#DejaVuSans-50\"/>\n       <use x=\"63.623047\" xlink:href=\"#DejaVuSans-48\"/>\n       <use x=\"127.246094\" xlink:href=\"#DejaVuSans-49\"/>\n       <use x=\"190.869141\" xlink:href=\"#DejaVuSans-57\"/>\n       <use x=\"254.492188\" xlink:href=\"#DejaVuSans-45\"/>\n       <use x=\"290.576172\" xlink:href=\"#DejaVuSans-49\"/>\n       <use x=\"354.199219\" xlink:href=\"#DejaVuSans-50\"/>\n       <use x=\"417.822266\" xlink:href=\"#DejaVuSans-45\"/>\n       <use x=\"453.90625\" xlink:href=\"#DejaVuSans-50\"/>\n       <use x=\"517.529297\" xlink:href=\"#DejaVuSans-50\"/>\n      </g>\n     </g>\n    </g>\n    <g id=\"xtick_3\">\n     <g id=\"line2d_5\">\n      <path clip-path=\"url(#p6b70ea73d6)\" d=\"M 203.197251 398.88 \nL 203.197251 7.2 \n\" style=\"fill:none;stroke:#ffffff;stroke-linecap:square;stroke-width:0.8;\"/>\n     </g>\n     <g id=\"line2d_6\">\n      <g>\n       <use style=\"fill:#555555;stroke:#555555;stroke-width:0.8;\" x=\"203.197251\" xlink:href=\"#m8560e1783b\" y=\"398.88\"/>\n      </g>\n     </g>\n     <g id=\"text_3\">\n      <!-- 2020-01-01 -->\n      <g style=\"fill:#555555;\" transform=\"translate(151.8278 441.518252)rotate(-30)scale(0.1 -0.1)\">\n       <use xlink:href=\"#DejaVuSans-50\"/>\n       <use x=\"63.623047\" xlink:href=\"#DejaVuSans-48\"/>\n       <use x=\"127.246094\" xlink:href=\"#DejaVuSans-50\"/>\n       <use x=\"190.869141\" xlink:href=\"#DejaVuSans-48\"/>\n       <use x=\"254.492188\" xlink:href=\"#DejaVuSans-45\"/>\n       <use x=\"290.576172\" xlink:href=\"#DejaVuSans-48\"/>\n       <use x=\"354.199219\" xlink:href=\"#DejaVuSans-49\"/>\n       <use x=\"417.822266\" xlink:href=\"#DejaVuSans-45\"/>\n       <use x=\"453.90625\" xlink:href=\"#DejaVuSans-48\"/>\n       <use x=\"517.529297\" xlink:href=\"#DejaVuSans-49\"/>\n      </g>\n     </g>\n    </g>\n    <g id=\"xtick_4\">\n     <g id=\"line2d_7\">\n      <path clip-path=\"url(#p6b70ea73d6)\" d=\"M 297.191903 398.88 \nL 297.191903 7.2 \n\" style=\"fill:none;stroke:#ffffff;stroke-linecap:square;stroke-width:0.8;\"/>\n     </g>\n     <g id=\"line2d_8\">\n      <g>\n       <use style=\"fill:#555555;stroke:#555555;stroke-width:0.8;\" x=\"297.191903\" xlink:href=\"#m8560e1783b\" y=\"398.88\"/>\n      </g>\n     </g>\n     <g id=\"text_4\">\n      <!-- 2020-01-22 -->\n      <g style=\"fill:#555555;\" transform=\"translate(245.822452 441.518252)rotate(-30)scale(0.1 -0.1)\">\n       <use xlink:href=\"#DejaVuSans-50\"/>\n       <use x=\"63.623047\" xlink:href=\"#DejaVuSans-48\"/>\n       <use x=\"127.246094\" xlink:href=\"#DejaVuSans-50\"/>\n       <use x=\"190.869141\" xlink:href=\"#DejaVuSans-48\"/>\n       <use x=\"254.492188\" xlink:href=\"#DejaVuSans-45\"/>\n       <use x=\"290.576172\" xlink:href=\"#DejaVuSans-48\"/>\n       <use x=\"354.199219\" xlink:href=\"#DejaVuSans-49\"/>\n       <use x=\"417.822266\" xlink:href=\"#DejaVuSans-45\"/>\n       <use x=\"453.90625\" xlink:href=\"#DejaVuSans-50\"/>\n       <use x=\"517.529297\" xlink:href=\"#DejaVuSans-50\"/>\n      </g>\n     </g>\n    </g>\n    <g id=\"xtick_5\">\n     <g id=\"line2d_9\">\n      <path clip-path=\"url(#p6b70ea73d6)\" d=\"M 341.951262 398.88 \nL 341.951262 7.2 \n\" style=\"fill:none;stroke:#ffffff;stroke-linecap:square;stroke-width:0.8;\"/>\n     </g>\n     <g id=\"line2d_10\">\n      <g>\n       <use style=\"fill:#555555;stroke:#555555;stroke-width:0.8;\" x=\"341.951262\" xlink:href=\"#m8560e1783b\" y=\"398.88\"/>\n      </g>\n     </g>\n     <g id=\"text_5\">\n      <!-- 2020-02-01 -->\n      <g style=\"fill:#555555;\" transform=\"translate(290.58181 441.518252)rotate(-30)scale(0.1 -0.1)\">\n       <use xlink:href=\"#DejaVuSans-50\"/>\n       <use x=\"63.623047\" xlink:href=\"#DejaVuSans-48\"/>\n       <use x=\"127.246094\" xlink:href=\"#DejaVuSans-50\"/>\n       <use x=\"190.869141\" xlink:href=\"#DejaVuSans-48\"/>\n       <use x=\"254.492188\" xlink:href=\"#DejaVuSans-45\"/>\n       <use x=\"290.576172\" xlink:href=\"#DejaVuSans-48\"/>\n       <use x=\"354.199219\" xlink:href=\"#DejaVuSans-50\"/>\n       <use x=\"417.822266\" xlink:href=\"#DejaVuSans-45\"/>\n       <use x=\"453.90625\" xlink:href=\"#DejaVuSans-48\"/>\n       <use x=\"517.529297\" xlink:href=\"#DejaVuSans-49\"/>\n      </g>\n     </g>\n    </g>\n    <g id=\"xtick_6\">\n     <g id=\"line2d_11\">\n      <path clip-path=\"url(#p6b70ea73d6)\" d=\"M 435.945914 398.88 \nL 435.945914 7.2 \n\" style=\"fill:none;stroke:#ffffff;stroke-linecap:square;stroke-width:0.8;\"/>\n     </g>\n     <g id=\"line2d_12\">\n      <g>\n       <use style=\"fill:#555555;stroke:#555555;stroke-width:0.8;\" x=\"435.945914\" xlink:href=\"#m8560e1783b\" y=\"398.88\"/>\n      </g>\n     </g>\n     <g id=\"text_6\">\n      <!-- 2020-02-22 -->\n      <g style=\"fill:#555555;\" transform=\"translate(384.576463 441.518252)rotate(-30)scale(0.1 -0.1)\">\n       <use xlink:href=\"#DejaVuSans-50\"/>\n       <use x=\"63.623047\" xlink:href=\"#DejaVuSans-48\"/>\n       <use x=\"127.246094\" xlink:href=\"#DejaVuSans-50\"/>\n       <use x=\"190.869141\" xlink:href=\"#DejaVuSans-48\"/>\n       <use x=\"254.492188\" xlink:href=\"#DejaVuSans-45\"/>\n       <use x=\"290.576172\" xlink:href=\"#DejaVuSans-48\"/>\n       <use x=\"354.199219\" xlink:href=\"#DejaVuSans-50\"/>\n       <use x=\"417.822266\" xlink:href=\"#DejaVuSans-45\"/>\n       <use x=\"453.90625\" xlink:href=\"#DejaVuSans-50\"/>\n       <use x=\"517.529297\" xlink:href=\"#DejaVuSans-50\"/>\n      </g>\n     </g>\n    </g>\n    <g id=\"xtick_7\">\n     <g id=\"line2d_13\">\n      <path clip-path=\"url(#p6b70ea73d6)\" d=\"M 471.753401 398.88 \nL 471.753401 7.2 \n\" style=\"fill:none;stroke:#ffffff;stroke-linecap:square;stroke-width:0.8;\"/>\n     </g>\n     <g id=\"line2d_14\">\n      <g>\n       <use style=\"fill:#555555;stroke:#555555;stroke-width:0.8;\" x=\"471.753401\" xlink:href=\"#m8560e1783b\" y=\"398.88\"/>\n      </g>\n     </g>\n     <g id=\"text_7\">\n      <!-- 2020-03-01 -->\n      <defs>\n       <path d=\"M 40.578125 39.3125 \nQ 47.65625 37.796875 51.625 33 \nQ 55.609375 28.21875 55.609375 21.1875 \nQ 55.609375 10.40625 48.1875 4.484375 \nQ 40.765625 -1.421875 27.09375 -1.421875 \nQ 22.515625 -1.421875 17.65625 -0.515625 \nQ 12.796875 0.390625 7.625 2.203125 \nL 7.625 11.71875 \nQ 11.71875 9.328125 16.59375 8.109375 \nQ 21.484375 6.890625 26.8125 6.890625 \nQ 36.078125 6.890625 40.9375 10.546875 \nQ 45.796875 14.203125 45.796875 21.1875 \nQ 45.796875 27.640625 41.28125 31.265625 \nQ 36.765625 34.90625 28.71875 34.90625 \nL 20.21875 34.90625 \nL 20.21875 43.015625 \nL 29.109375 43.015625 \nQ 36.375 43.015625 40.234375 45.921875 \nQ 44.09375 48.828125 44.09375 54.296875 \nQ 44.09375 59.90625 40.109375 62.90625 \nQ 36.140625 65.921875 28.71875 65.921875 \nQ 24.65625 65.921875 20.015625 65.03125 \nQ 15.375 64.15625 9.8125 62.3125 \nL 9.8125 71.09375 \nQ 15.4375 72.65625 20.34375 73.4375 \nQ 25.25 74.21875 29.59375 74.21875 \nQ 40.828125 74.21875 47.359375 69.109375 \nQ 53.90625 64.015625 53.90625 55.328125 \nQ 53.90625 49.265625 50.4375 45.09375 \nQ 46.96875 40.921875 40.578125 39.3125 \nz\n\" id=\"DejaVuSans-51\"/>\n      </defs>\n      <g style=\"fill:#555555;\" transform=\"translate(420.383949 441.518252)rotate(-30)scale(0.1 -0.1)\">\n       <use xlink:href=\"#DejaVuSans-50\"/>\n       <use x=\"63.623047\" xlink:href=\"#DejaVuSans-48\"/>\n       <use x=\"127.246094\" xlink:href=\"#DejaVuSans-50\"/>\n       <use x=\"190.869141\" xlink:href=\"#DejaVuSans-48\"/>\n       <use x=\"254.492188\" xlink:href=\"#DejaVuSans-45\"/>\n       <use x=\"290.576172\" xlink:href=\"#DejaVuSans-48\"/>\n       <use x=\"354.199219\" xlink:href=\"#DejaVuSans-51\"/>\n       <use x=\"417.822266\" xlink:href=\"#DejaVuSans-45\"/>\n       <use x=\"453.90625\" xlink:href=\"#DejaVuSans-48\"/>\n       <use x=\"517.529297\" xlink:href=\"#DejaVuSans-49\"/>\n      </g>\n     </g>\n    </g>\n    <g id=\"xtick_8\">\n     <g id=\"line2d_15\">\n      <path clip-path=\"url(#p6b70ea73d6)\" d=\"M 565.748053 398.88 \nL 565.748053 7.2 \n\" style=\"fill:none;stroke:#ffffff;stroke-linecap:square;stroke-width:0.8;\"/>\n     </g>\n     <g id=\"line2d_16\">\n      <g>\n       <use style=\"fill:#555555;stroke:#555555;stroke-width:0.8;\" x=\"565.748053\" xlink:href=\"#m8560e1783b\" y=\"398.88\"/>\n      </g>\n     </g>\n     <g id=\"text_8\">\n      <!-- 2020-03-22 -->\n      <g style=\"fill:#555555;\" transform=\"translate(514.378602 441.518252)rotate(-30)scale(0.1 -0.1)\">\n       <use xlink:href=\"#DejaVuSans-50\"/>\n       <use x=\"63.623047\" xlink:href=\"#DejaVuSans-48\"/>\n       <use x=\"127.246094\" xlink:href=\"#DejaVuSans-50\"/>\n       <use x=\"190.869141\" xlink:href=\"#DejaVuSans-48\"/>\n       <use x=\"254.492188\" xlink:href=\"#DejaVuSans-45\"/>\n       <use x=\"290.576172\" xlink:href=\"#DejaVuSans-48\"/>\n       <use x=\"354.199219\" xlink:href=\"#DejaVuSans-51\"/>\n       <use x=\"417.822266\" xlink:href=\"#DejaVuSans-45\"/>\n       <use x=\"453.90625\" xlink:href=\"#DejaVuSans-50\"/>\n       <use x=\"517.529297\" xlink:href=\"#DejaVuSans-50\"/>\n      </g>\n     </g>\n    </g>\n    <g id=\"xtick_9\">\n     <g id=\"line2d_17\">\n      <path clip-path=\"url(#p6b70ea73d6)\" d=\"M 610.507411 398.88 \nL 610.507411 7.2 \n\" style=\"fill:none;stroke:#ffffff;stroke-linecap:square;stroke-width:0.8;\"/>\n     </g>\n     <g id=\"line2d_18\">\n      <g>\n       <use style=\"fill:#555555;stroke:#555555;stroke-width:0.8;\" x=\"610.507411\" xlink:href=\"#m8560e1783b\" y=\"398.88\"/>\n      </g>\n     </g>\n     <g id=\"text_9\">\n      <!-- 2020-04-01 -->\n      <defs>\n       <path d=\"M 37.796875 64.3125 \nL 12.890625 25.390625 \nL 37.796875 25.390625 \nz\nM 35.203125 72.90625 \nL 47.609375 72.90625 \nL 47.609375 25.390625 \nL 58.015625 25.390625 \nL 58.015625 17.1875 \nL 47.609375 17.1875 \nL 47.609375 0 \nL 37.796875 0 \nL 37.796875 17.1875 \nL 4.890625 17.1875 \nL 4.890625 26.703125 \nz\n\" id=\"DejaVuSans-52\"/>\n      </defs>\n      <g style=\"fill:#555555;\" transform=\"translate(559.13796 441.518252)rotate(-30)scale(0.1 -0.1)\">\n       <use xlink:href=\"#DejaVuSans-50\"/>\n       <use x=\"63.623047\" xlink:href=\"#DejaVuSans-48\"/>\n       <use x=\"127.246094\" xlink:href=\"#DejaVuSans-50\"/>\n       <use x=\"190.869141\" xlink:href=\"#DejaVuSans-48\"/>\n       <use x=\"254.492188\" xlink:href=\"#DejaVuSans-45\"/>\n       <use x=\"290.576172\" xlink:href=\"#DejaVuSans-48\"/>\n       <use x=\"354.199219\" xlink:href=\"#DejaVuSans-52\"/>\n       <use x=\"417.822266\" xlink:href=\"#DejaVuSans-45\"/>\n       <use x=\"453.90625\" xlink:href=\"#DejaVuSans-48\"/>\n       <use x=\"517.529297\" xlink:href=\"#DejaVuSans-49\"/>\n      </g>\n     </g>\n    </g>\n    <g id=\"xtick_10\">\n     <g id=\"line2d_19\">\n      <path clip-path=\"url(#p6b70ea73d6)\" d=\"M 704.502064 398.88 \nL 704.502064 7.2 \n\" style=\"fill:none;stroke:#ffffff;stroke-linecap:square;stroke-width:0.8;\"/>\n     </g>\n     <g id=\"line2d_20\">\n      <g>\n       <use style=\"fill:#555555;stroke:#555555;stroke-width:0.8;\" x=\"704.502064\" xlink:href=\"#m8560e1783b\" y=\"398.88\"/>\n      </g>\n     </g>\n     <g id=\"text_10\">\n      <!-- 2020-04-22 -->\n      <g style=\"fill:#555555;\" transform=\"translate(653.132612 441.518252)rotate(-30)scale(0.1 -0.1)\">\n       <use xlink:href=\"#DejaVuSans-50\"/>\n       <use x=\"63.623047\" xlink:href=\"#DejaVuSans-48\"/>\n       <use x=\"127.246094\" xlink:href=\"#DejaVuSans-50\"/>\n       <use x=\"190.869141\" xlink:href=\"#DejaVuSans-48\"/>\n       <use x=\"254.492188\" xlink:href=\"#DejaVuSans-45\"/>\n       <use x=\"290.576172\" xlink:href=\"#DejaVuSans-48\"/>\n       <use x=\"354.199219\" xlink:href=\"#DejaVuSans-52\"/>\n       <use x=\"417.822266\" xlink:href=\"#DejaVuSans-45\"/>\n       <use x=\"453.90625\" xlink:href=\"#DejaVuSans-50\"/>\n       <use x=\"517.529297\" xlink:href=\"#DejaVuSans-50\"/>\n      </g>\n     </g>\n    </g>\n    <g id=\"text_11\">\n     <!-- Date -->\n     <defs>\n      <path d=\"M 19.671875 64.796875 \nL 19.671875 8.109375 \nL 31.59375 8.109375 \nQ 46.6875 8.109375 53.6875 14.9375 \nQ 60.6875 21.78125 60.6875 36.53125 \nQ 60.6875 51.171875 53.6875 57.984375 \nQ 46.6875 64.796875 31.59375 64.796875 \nz\nM 9.8125 72.90625 \nL 30.078125 72.90625 \nQ 51.265625 72.90625 61.171875 64.09375 \nQ 71.09375 55.28125 71.09375 36.53125 \nQ 71.09375 17.671875 61.125 8.828125 \nQ 51.171875 0 30.078125 0 \nL 9.8125 0 \nz\n\" id=\"DejaVuSans-68\"/>\n      <path d=\"M 34.28125 27.484375 \nQ 23.390625 27.484375 19.1875 25 \nQ 14.984375 22.515625 14.984375 16.5 \nQ 14.984375 11.71875 18.140625 8.90625 \nQ 21.296875 6.109375 26.703125 6.109375 \nQ 34.1875 6.109375 38.703125 11.40625 \nQ 43.21875 16.703125 43.21875 25.484375 \nL 43.21875 27.484375 \nz\nM 52.203125 31.203125 \nL 52.203125 0 \nL 43.21875 0 \nL 43.21875 8.296875 \nQ 40.140625 3.328125 35.546875 0.953125 \nQ 30.953125 -1.421875 24.3125 -1.421875 \nQ 15.921875 -1.421875 10.953125 3.296875 \nQ 6 8.015625 6 15.921875 \nQ 6 25.140625 12.171875 29.828125 \nQ 18.359375 34.515625 30.609375 34.515625 \nL 43.21875 34.515625 \nL 43.21875 35.40625 \nQ 43.21875 41.609375 39.140625 45 \nQ 35.0625 48.390625 27.6875 48.390625 \nQ 23 48.390625 18.546875 47.265625 \nQ 14.109375 46.140625 10.015625 43.890625 \nL 10.015625 52.203125 \nQ 14.9375 54.109375 19.578125 55.046875 \nQ 24.21875 56 28.609375 56 \nQ 40.484375 56 46.34375 49.84375 \nQ 52.203125 43.703125 52.203125 31.203125 \nz\n\" id=\"DejaVuSans-97\"/>\n      <path d=\"M 18.3125 70.21875 \nL 18.3125 54.6875 \nL 36.8125 54.6875 \nL 36.8125 47.703125 \nL 18.3125 47.703125 \nL 18.3125 18.015625 \nQ 18.3125 11.328125 20.140625 9.421875 \nQ 21.96875 7.515625 27.59375 7.515625 \nL 36.8125 7.515625 \nL 36.8125 0 \nL 27.59375 0 \nQ 17.1875 0 13.234375 3.875 \nQ 9.28125 7.765625 9.28125 18.015625 \nL 9.28125 47.703125 \nL 2.6875 47.703125 \nL 2.6875 54.6875 \nL 9.28125 54.6875 \nL 9.28125 70.21875 \nz\n\" id=\"DejaVuSans-116\"/>\n      <path d=\"M 56.203125 29.59375 \nL 56.203125 25.203125 \nL 14.890625 25.203125 \nQ 15.484375 15.921875 20.484375 11.0625 \nQ 25.484375 6.203125 34.421875 6.203125 \nQ 39.59375 6.203125 44.453125 7.46875 \nQ 49.3125 8.734375 54.109375 11.28125 \nL 54.109375 2.78125 \nQ 49.265625 0.734375 44.1875 -0.34375 \nQ 39.109375 -1.421875 33.890625 -1.421875 \nQ 20.796875 -1.421875 13.15625 6.1875 \nQ 5.515625 13.8125 5.515625 26.8125 \nQ 5.515625 40.234375 12.765625 48.109375 \nQ 20.015625 56 32.328125 56 \nQ 43.359375 56 49.78125 48.890625 \nQ 56.203125 41.796875 56.203125 29.59375 \nz\nM 47.21875 32.234375 \nQ 47.125 39.59375 43.09375 43.984375 \nQ 39.0625 48.390625 32.421875 48.390625 \nQ 24.90625 48.390625 20.390625 44.140625 \nQ 15.875 39.890625 15.1875 32.171875 \nz\n\" id=\"DejaVuSans-101\"/>\n     </defs>\n     <g style=\"fill:#555555;\" transform=\"translate(358.941875 456.43744)scale(0.12 -0.12)\">\n      <use xlink:href=\"#DejaVuSans-68\"/>\n      <use x=\"77.001953\" xlink:href=\"#DejaVuSans-97\"/>\n      <use x=\"138.28125\" xlink:href=\"#DejaVuSans-116\"/>\n      <use x=\"177.490234\" xlink:href=\"#DejaVuSans-101\"/>\n     </g>\n    </g>\n   </g>\n   <g id=\"matplotlib.axis_2\">\n    <g id=\"ytick_1\">\n     <g id=\"line2d_21\">\n      <path clip-path=\"url(#p6b70ea73d6)\" d=\"M 38.482813 341.032755 \nL 708.082813 341.032755 \n\" style=\"fill:none;stroke:#ffffff;stroke-linecap:square;stroke-width:0.8;\"/>\n     </g>\n     <g id=\"line2d_22\">\n      <defs>\n       <path d=\"M 0 0 \nL -3.5 0 \n\" id=\"m226f622d4a\" style=\"stroke:#555555;stroke-width:0.8;\"/>\n      </defs>\n      <g>\n       <use style=\"fill:#555555;stroke:#555555;stroke-width:0.8;\" x=\"38.482813\" xlink:href=\"#m226f622d4a\" y=\"341.032755\"/>\n      </g>\n     </g>\n     <g id=\"text_12\">\n      <!-- −0.6 -->\n      <defs>\n       <path d=\"M 10.59375 35.5 \nL 73.1875 35.5 \nL 73.1875 27.203125 \nL 10.59375 27.203125 \nz\n\" id=\"DejaVuSans-8722\"/>\n       <path d=\"M 10.6875 12.40625 \nL 21 12.40625 \nL 21 0 \nL 10.6875 0 \nz\n\" id=\"DejaVuSans-46\"/>\n       <path d=\"M 33.015625 40.375 \nQ 26.375 40.375 22.484375 35.828125 \nQ 18.609375 31.296875 18.609375 23.390625 \nQ 18.609375 15.53125 22.484375 10.953125 \nQ 26.375 6.390625 33.015625 6.390625 \nQ 39.65625 6.390625 43.53125 10.953125 \nQ 47.40625 15.53125 47.40625 23.390625 \nQ 47.40625 31.296875 43.53125 35.828125 \nQ 39.65625 40.375 33.015625 40.375 \nz\nM 52.59375 71.296875 \nL 52.59375 62.3125 \nQ 48.875 64.0625 45.09375 64.984375 \nQ 41.3125 65.921875 37.59375 65.921875 \nQ 27.828125 65.921875 22.671875 59.328125 \nQ 17.53125 52.734375 16.796875 39.40625 \nQ 19.671875 43.65625 24.015625 45.921875 \nQ 28.375 48.1875 33.59375 48.1875 \nQ 44.578125 48.1875 50.953125 41.515625 \nQ 57.328125 34.859375 57.328125 23.390625 \nQ 57.328125 12.15625 50.6875 5.359375 \nQ 44.046875 -1.421875 33.015625 -1.421875 \nQ 20.359375 -1.421875 13.671875 8.265625 \nQ 6.984375 17.96875 6.984375 36.375 \nQ 6.984375 53.65625 15.1875 63.9375 \nQ 23.390625 74.21875 37.203125 74.21875 \nQ 40.921875 74.21875 44.703125 73.484375 \nQ 48.484375 72.75 52.59375 71.296875 \nz\n\" id=\"DejaVuSans-54\"/>\n      </defs>\n      <g style=\"fill:#555555;\" transform=\"translate(7.2 344.831974)scale(0.1 -0.1)\">\n       <use xlink:href=\"#DejaVuSans-8722\"/>\n       <use x=\"83.789062\" xlink:href=\"#DejaVuSans-48\"/>\n       <use x=\"147.412109\" xlink:href=\"#DejaVuSans-46\"/>\n       <use x=\"179.199219\" xlink:href=\"#DejaVuSans-54\"/>\n      </g>\n     </g>\n    </g>\n    <g id=\"ytick_2\">\n     <g id=\"line2d_23\">\n      <path clip-path=\"url(#p6b70ea73d6)\" d=\"M 38.482813 275.647174 \nL 708.082813 275.647174 \n\" style=\"fill:none;stroke:#ffffff;stroke-linecap:square;stroke-width:0.8;\"/>\n     </g>\n     <g id=\"line2d_24\">\n      <g>\n       <use style=\"fill:#555555;stroke:#555555;stroke-width:0.8;\" x=\"38.482813\" xlink:href=\"#m226f622d4a\" y=\"275.647174\"/>\n      </g>\n     </g>\n     <g id=\"text_13\">\n      <!-- −0.4 -->\n      <g style=\"fill:#555555;\" transform=\"translate(7.2 279.446393)scale(0.1 -0.1)\">\n       <use xlink:href=\"#DejaVuSans-8722\"/>\n       <use x=\"83.789062\" xlink:href=\"#DejaVuSans-48\"/>\n       <use x=\"147.412109\" xlink:href=\"#DejaVuSans-46\"/>\n       <use x=\"179.199219\" xlink:href=\"#DejaVuSans-52\"/>\n      </g>\n     </g>\n    </g>\n    <g id=\"ytick_3\">\n     <g id=\"line2d_25\">\n      <path clip-path=\"url(#p6b70ea73d6)\" d=\"M 38.482813 210.261593 \nL 708.082813 210.261593 \n\" style=\"fill:none;stroke:#ffffff;stroke-linecap:square;stroke-width:0.8;\"/>\n     </g>\n     <g id=\"line2d_26\">\n      <g>\n       <use style=\"fill:#555555;stroke:#555555;stroke-width:0.8;\" x=\"38.482813\" xlink:href=\"#m226f622d4a\" y=\"210.261593\"/>\n      </g>\n     </g>\n     <g id=\"text_14\">\n      <!-- −0.2 -->\n      <g style=\"fill:#555555;\" transform=\"translate(7.2 214.060812)scale(0.1 -0.1)\">\n       <use xlink:href=\"#DejaVuSans-8722\"/>\n       <use x=\"83.789062\" xlink:href=\"#DejaVuSans-48\"/>\n       <use x=\"147.412109\" xlink:href=\"#DejaVuSans-46\"/>\n       <use x=\"179.199219\" xlink:href=\"#DejaVuSans-50\"/>\n      </g>\n     </g>\n    </g>\n    <g id=\"ytick_4\">\n     <g id=\"line2d_27\">\n      <path clip-path=\"url(#p6b70ea73d6)\" d=\"M 38.482813 144.876013 \nL 708.082813 144.876013 \n\" style=\"fill:none;stroke:#ffffff;stroke-linecap:square;stroke-width:0.8;\"/>\n     </g>\n     <g id=\"line2d_28\">\n      <g>\n       <use style=\"fill:#555555;stroke:#555555;stroke-width:0.8;\" x=\"38.482813\" xlink:href=\"#m226f622d4a\" y=\"144.876013\"/>\n      </g>\n     </g>\n     <g id=\"text_15\">\n      <!-- 0.0 -->\n      <g style=\"fill:#555555;\" transform=\"translate(15.579688 148.675231)scale(0.1 -0.1)\">\n       <use xlink:href=\"#DejaVuSans-48\"/>\n       <use x=\"63.623047\" xlink:href=\"#DejaVuSans-46\"/>\n       <use x=\"95.410156\" xlink:href=\"#DejaVuSans-48\"/>\n      </g>\n     </g>\n    </g>\n    <g id=\"ytick_5\">\n     <g id=\"line2d_29\">\n      <path clip-path=\"url(#p6b70ea73d6)\" d=\"M 38.482813 79.490432 \nL 708.082813 79.490432 \n\" style=\"fill:none;stroke:#ffffff;stroke-linecap:square;stroke-width:0.8;\"/>\n     </g>\n     <g id=\"line2d_30\">\n      <g>\n       <use style=\"fill:#555555;stroke:#555555;stroke-width:0.8;\" x=\"38.482813\" xlink:href=\"#m226f622d4a\" y=\"79.490432\"/>\n      </g>\n     </g>\n     <g id=\"text_16\">\n      <!-- 0.2 -->\n      <g style=\"fill:#555555;\" transform=\"translate(15.579688 83.28965)scale(0.1 -0.1)\">\n       <use xlink:href=\"#DejaVuSans-48\"/>\n       <use x=\"63.623047\" xlink:href=\"#DejaVuSans-46\"/>\n       <use x=\"95.410156\" xlink:href=\"#DejaVuSans-50\"/>\n      </g>\n     </g>\n    </g>\n    <g id=\"ytick_6\">\n     <g id=\"line2d_31\">\n      <path clip-path=\"url(#p6b70ea73d6)\" d=\"M 38.482813 14.104851 \nL 708.082813 14.104851 \n\" style=\"fill:none;stroke:#ffffff;stroke-linecap:square;stroke-width:0.8;\"/>\n     </g>\n     <g id=\"line2d_32\">\n      <g>\n       <use style=\"fill:#555555;stroke:#555555;stroke-width:0.8;\" x=\"38.482813\" xlink:href=\"#m226f622d4a\" y=\"14.104851\"/>\n      </g>\n     </g>\n     <g id=\"text_17\">\n      <!-- 0.4 -->\n      <g style=\"fill:#555555;\" transform=\"translate(15.579688 17.90407)scale(0.1 -0.1)\">\n       <use xlink:href=\"#DejaVuSans-48\"/>\n       <use x=\"63.623047\" xlink:href=\"#DejaVuSans-46\"/>\n       <use x=\"95.410156\" xlink:href=\"#DejaVuSans-52\"/>\n      </g>\n     </g>\n    </g>\n   </g>\n   <g id=\"line2d_33\">\n    <path clip-path=\"url(#p6b70ea73d6)\" d=\"M 68.919176 90.139983 \nL 73.395112 105.640623 \nL 77.871048 102.018502 \nL 82.346984 108.189495 \nL 86.822919 95.774322 \nL 100.250727 96.481704 \nL 104.726663 98.933035 \nL 109.202599 98.628144 \nL 113.678534 91.652228 \nL 118.15447 81.907943 \nL 131.582278 61.699783 \nL 136.058214 60.94369 \nL 140.534149 59.05337 \nL 145.010085 55.028817 \nL 149.486021 53.967774 \nL 162.913829 48.955364 \nL 167.389764 47.906529 \nL 171.8657 47.906529 \nL 176.341636 47.906529 \nL 180.817572 46.357722 \nL 194.245379 53.406764 \nL 198.721315 58.858228 \nL 207.673187 51.309154 \nL 212.149123 49.101735 \nL 225.57693 54.845882 \nL 230.052866 55.016609 \nL 234.528802 54.894653 \nL 239.004738 52.065246 \nL 243.480673 53.309223 \nL 256.908481 49.687101 \nL 261.384417 49.101735 \nL 265.860353 46.613842 \nL 270.336288 50.638395 \nL 274.812224 42.7356 \nL 288.240032 45.565007 \nL 292.715968 50.528587 \nL 297.191903 55.260521 \nL 301.667839 63.090071 \nL 306.143775 53.540928 \nL 319.571583 74.749092 \nL 324.047518 66.382888 \nL 328.523454 66.029227 \nL 332.99939 78.419984 \nL 337.475326 90.127776 \nL 350.903133 85.212966 \nL 355.379069 71.370942 \nL 359.855005 66.16339 \nL 364.330941 63.443792 \nL 368.806877 68.090274 \nL 382.234684 70.505042 \nL 386.71062 64.102343 \nL 391.186556 59.833877 \nL 395.662492 69.883053 \nL 400.138427 75.114961 \nL 413.566235 72.163657 \nL 418.042171 78.419984 \nL 422.518107 69.273272 \nL 426.994042 71.761166 \nL 431.469978 75.749156 \nL 444.897786 105.884536 \nL 449.373722 122.824235 \nL 453.849657 119.824101 \nL 458.325593 149.837524 \nL 462.801529 176.15564 \nL 476.229337 167.094321 \nL 480.705272 159.37446 \nL 485.181208 147.495942 \nL 489.657144 160.935535 \nL 494.13308 190.546467 \nL 507.560887 251.134323 \nL 512.036823 251.81723 \nL 516.512759 262.024985 \nL 520.988695 339.954972 \nL 525.464631 324.271397 \nL 538.892438 350.491972 \nL 543.368374 332.9547 \nL 547.84431 359.089881 \nL 552.320246 350.430994 \nL 556.796181 345.650348 \nL 570.223989 369.663504 \nL 574.699925 314.527112 \nL 579.175861 284.989306 \nL 583.651796 269.439896 \nL 588.127732 306.685355 \nL 601.55554 300.172848 \nL 606.031476 286.96502 \nL 610.507411 313.478277 \nL 614.983347 310.356187 \nL 619.459283 318.246775 \nL 632.887091 297.892304 \nL 637.363026 283.001444 \nL 641.838962 286.269846 \nL 646.314898 266.147079 \nL 650.790834 266.147079 \nL 664.218641 266.147079 \nL 668.694577 272.415673 \nL 673.170513 296.026339 \nL 677.646449 296.026339 \n\" style=\"fill:none;stroke:#e24a33;stroke-linecap:square;stroke-width:1.5;\"/>\n   </g>\n   <g id=\"line2d_34\">\n    <path clip-path=\"url(#p6b70ea73d6)\" d=\"M 68.919176 125.310687 \nL 73.395112 131.193302 \nL 77.871048 125.626617 \nL 82.346984 124.297583 \nL 86.822919 116.192338 \nL 100.250727 119.024039 \nL 104.726663 120.003028 \nL 109.202599 117.410411 \nL 113.678534 109.743383 \nL 118.15447 109.677932 \nL 131.582278 103.231895 \nL 136.058214 102.927359 \nL 140.534149 103.320136 \nL 145.010085 99.270292 \nL 149.486021 94.759512 \nL 162.913829 93.965482 \nL 167.389764 94.144813 \nL 171.8657 94.144813 \nL 176.341636 89.440457 \nL 180.817572 89.409122 \nL 194.245379 94.73957 \nL 198.721315 92.038772 \nL 207.673187 84.33478 \nL 212.149123 90.880453 \nL 225.57693 87.627557 \nL 230.052866 90.217395 \nL 234.528802 85.700847 \nL 239.004738 79.539405 \nL 243.480673 82.200321 \nL 256.908481 75.71732 \nL 261.384417 77.134595 \nL 265.860353 75.387146 \nL 270.336288 67.555101 \nL 274.812224 63.909429 \nL 288.240032 63.909429 \nL 292.715968 66.42242 \nL 297.191903 66.149221 \nL 301.667839 65.070596 \nL 306.143775 73.628372 \nL 319.571583 88.381774 \nL 324.047518 79.101118 \nL 328.523454 79.909391 \nL 332.99939 76.989449 \nL 337.475326 93.535741 \nL 350.903133 86.876258 \nL 355.379069 73.024998 \nL 359.855005 62.466585 \nL 364.330941 59.310407 \nL 368.806877 64.453049 \nL 382.234684 57.514599 \nL 386.71062 55.903819 \nL 391.186556 49.728133 \nL 395.662492 51.296252 \nL 400.138427 49.526082 \nL 413.566235 49.526082 \nL 418.042171 52.334994 \nL 422.518107 47.821364 \nL 426.994042 51.498302 \nL 431.469978 61.595709 \nL 444.897786 93.430478 \nL 449.373722 121.229647 \nL 453.849657 124.593573 \nL 458.325593 163.762277 \nL 462.801529 170.746237 \nL 476.229337 132.038539 \nL 480.705272 156.758376 \nL 485.181208 120.686027 \nL 489.657144 150.904318 \nL 494.13308 165.580805 \nL 507.560887 229.845101 \nL 512.036823 191.23419 \nL 516.512759 231.31935 \nL 520.988695 305.524511 \nL 525.464631 239.959599 \nL 538.892438 332.421538 \nL 543.368374 291.707435 \nL 547.84431 329.014881 \nL 552.320246 325.801867 \nL 556.796181 355.533444 \nL 570.223989 374.749268 \nL 574.699925 315.0043 \nL 579.175861 306.970204 \nL 583.651796 262.997508 \nL 588.127732 288.212607 \nL 601.55554 263.970869 \nL 606.031476 275.94086 \nL 610.507411 308.410268 \nL 614.983347 292.359168 \nL 619.459283 303.244906 \nL 632.887091 253.432327 \nL 637.363026 254.647551 \nL 641.838962 228.87181 \nL 646.314898 217.533541 \nL 650.790834 217.533541 \nL 664.218641 225.556312 \nL 668.694577 201.52795 \nL 673.170513 219.37201 \nL 677.646449 219.37201 \n\" style=\"fill:none;stroke:#348abd;stroke-linecap:square;stroke-width:1.5;\"/>\n   </g>\n   <g id=\"line2d_35\">\n    <path clip-path=\"url(#p6b70ea73d6)\" d=\"M 68.919176 141.00959 \nL 73.395112 143.382386 \nL 77.871048 157.984306 \nL 82.346984 151.122709 \nL 86.822919 138.626644 \nL 100.250727 138.788266 \nL 104.726663 141.369444 \nL 109.202599 132.094537 \nL 113.678534 116.605562 \nL 118.15447 85.79652 \nL 131.582278 93.777064 \nL 136.058214 78.869511 \nL 140.534149 77.07059 \nL 145.010085 80.78928 \nL 149.486021 77.641862 \nL 162.913829 76.084549 \nL 167.389764 77.958946 \nL 171.8657 77.958946 \nL 176.341636 77.958946 \nL 180.817572 61.914835 \nL 194.245379 57.740862 \nL 198.721315 63.499214 \nL 207.673187 47.785547 \nL 212.149123 51.872853 \nL 225.57693 61.880654 \nL 230.052866 57.62227 \nL 234.528802 68.022283 \nL 239.004738 47.009103 \nL 243.480673 43.580083 \nL 256.908481 29.511176 \nL 261.384417 32.611487 \nL 265.860353 37.566328 \nL 270.336288 32.704834 \nL 274.812224 25.003636 \nL 288.240032 36.574909 \nL 292.715968 72.579099 \nL 297.191903 56.779286 \nL 301.667839 75.964222 \nL 306.143775 74.164346 \nL 319.571583 74.164346 \nL 324.047518 74.164346 \nL 328.523454 109.21043 \nL 332.99939 140.813701 \nL 337.475326 146.876731 \nL 350.903133 144.906819 \nL 355.379069 130.737538 \nL 359.855005 125.817832 \nL 364.330941 94.416264 \nL 368.806877 98.388535 \nL 382.234684 105.625514 \nL 386.71062 90.410593 \nL 391.186556 79.760123 \nL 395.662492 83.920301 \nL 400.138427 80.118154 \nL 413.566235 73.72199 \nL 418.042171 92.795014 \nL 422.518107 87.215634 \nL 426.994042 89.287742 \nL 431.469978 102.628614 \nL 444.897786 124.301381 \nL 449.373722 121.08777 \nL 453.849657 129.826539 \nL 458.325593 126.178554 \nL 462.801529 154.991917 \nL 476.229337 147.807337 \nL 480.705272 148.112015 \nL 485.181208 150.899232 \nL 489.657144 126.656045 \nL 494.13308 154.248352 \nL 507.560887 203.38373 \nL 512.036823 187.746493 \nL 516.512759 194.893336 \nL 520.988695 235.870499 \nL 525.464631 248.136927 \nL 538.892438 291.192878 \nL 543.368374 282.302203 \nL 547.84431 325.472321 \nL 552.320246 351.354109 \nL 556.796181 302.674881 \nL 570.223989 351.931541 \nL 574.699925 308.963558 \nL 579.175861 270.599932 \nL 583.651796 278.366369 \nL 588.127732 272.505907 \nL 601.55554 286.238557 \nL 606.031476 267.211253 \nL 610.507411 290.20597 \nL 614.983347 281.576856 \nL 619.459283 283.529071 \nL 632.887091 260.742302 \nL 637.363026 238.348179 \nL 641.838962 250.914862 \nL 646.314898 236.258721 \nL 650.790834 236.258721 \nL 664.218641 236.258721 \nL 668.694577 230.259193 \nL 673.170513 243.143047 \nL 677.646449 243.143047 \n\" style=\"fill:none;stroke:#988ed5;stroke-linecap:square;stroke-width:1.5;\"/>\n   </g>\n   <g id=\"line2d_36\">\n    <path clip-path=\"url(#p6b70ea73d6)\" d=\"M 68.919176 124.948346 \nL 73.395112 128.118188 \nL 77.871048 134.248082 \nL 82.346984 137.539087 \nL 86.822919 129.014633 \nL 100.250727 126.268809 \nL 104.726663 122.493155 \nL 109.202599 119.416082 \nL 113.678534 106.603226 \nL 118.15447 93.317945 \nL 131.582278 94.165984 \nL 136.058214 83.049106 \nL 140.534149 83.420579 \nL 145.010085 82.693703 \nL 149.486021 79.616729 \nL 162.913829 79.806507 \nL 167.389764 85.310378 \nL 171.8657 85.310378 \nL 176.341636 82.140536 \nL 180.817572 79.604603 \nL 194.245379 82.24553 \nL 198.721315 82.24553 \nL 207.673187 91.331236 \nL 212.149123 90.810306 \nL 225.57693 99.44774 \nL 230.052866 91.181779 \nL 234.528802 100.966066 \nL 239.004738 86.776257 \nL 243.480673 78.724326 \nL 256.908481 69.489164 \nL 261.384417 65.604572 \nL 265.860353 68.794624 \nL 270.336288 61.901575 \nL 274.812224 60.883968 \nL 288.240032 56.010063 \nL 292.715968 65.277463 \nL 297.191903 54.148459 \nL 301.667839 62.676955 \nL 306.143775 62.676955 \nL 319.571583 62.676955 \nL 324.047518 90.705312 \nL 328.523454 87.248682 \nL 332.99939 102.302698 \nL 337.475326 114.009121 \nL 350.903133 114.061667 \nL 355.379069 98.305027 \nL 359.855005 95.18359 \nL 364.330941 70.02222 \nL 368.806877 76.479124 \nL 382.234684 80.87252 \nL 386.71062 71.968509 \nL 391.186556 65.806476 \nL 395.662492 67.99509 \nL 400.138427 63.702548 \nL 413.566235 64.276024 \nL 418.042171 77.718846 \nL 422.518107 77.129201 \nL 426.994042 83.121764 \nL 431.469978 96.310135 \nL 444.897786 130.14936 \nL 449.373722 120.227742 \nL 453.849657 131.066015 \nL 458.325593 139.90141 \nL 462.801529 167.311926 \nL 476.229337 161.052885 \nL 480.705272 156.35254 \nL 485.181208 138.108422 \nL 489.657144 127.637679 \nL 494.13308 145.825258 \nL 507.560887 180.330729 \nL 512.036823 177.035632 \nL 516.512759 199.107853 \nL 520.988695 228.965526 \nL 525.464631 254.361088 \nL 538.892438 277.208591 \nL 543.368374 294.338192 \nL 547.84431 327.143642 \nL 552.320246 381.076364 \nL 556.796181 337.259031 \nL 570.223989 371.053843 \nL 574.699925 319.564137 \nL 579.175861 281.287053 \nL 583.651796 288.765606 \nL 588.127732 276.049661 \nL 601.55554 276.295978 \nL 606.031476 261.145052 \nL 610.507411 289.080589 \nL 614.983347 273.1705 \nL 619.459283 272.936308 \nL 632.887091 246.107204 \nL 637.363026 233.29839 \nL 641.838962 239.945072 \nL 646.314898 228.206363 \nL 650.790834 218.317081 \nL 664.218641 232.426148 \nL 668.694577 219.778868 \nL 673.170513 219.778868 \nL 677.646449 228.0085 \n\" style=\"fill:none;stroke:#777777;stroke-linecap:square;stroke-width:1.5;\"/>\n   </g>\n   <g id=\"line2d_37\">\n    <path clip-path=\"url(#p6b70ea73d6)\" d=\"M 68.919176 99.473499 \nL 73.395112 106.46921 \nL 77.871048 96.978759 \nL 82.346984 97.124618 \nL 86.822919 86.664 \nL 100.250727 90.099789 \nL 104.726663 90.719823 \nL 109.202599 90.165506 \nL 113.678534 88.210479 \nL 118.15447 83.417881 \nL 131.582278 73.278188 \nL 136.058214 77.261082 \nL 140.534149 77.698748 \nL 145.010085 75.751112 \nL 149.486021 68.726284 \nL 162.913829 67.828957 \nL 167.389764 67.478824 \nL 171.8657 67.478824 \nL 176.341636 67.478824 \nL 180.817572 65.786486 \nL 194.245379 73.117636 \nL 198.721315 74.700625 \nL 207.673187 64.582838 \nL 212.149123 65.224777 \nL 225.57693 69.287903 \nL 230.052866 68.354245 \nL 234.528802 66.683723 \nL 239.004738 64.283729 \nL 243.480673 65.261287 \nL 256.908481 66.333591 \nL 261.384417 65.042409 \nL 265.860353 64.867343 \nL 270.336288 63.897176 \nL 274.812224 55.975021 \nL 288.240032 58.258275 \nL 292.715968 62.343395 \nL 297.191903 64.750602 \nL 301.667839 71.301256 \nL 306.143775 63.014453 \nL 319.571583 84.088939 \nL 324.047518 76.130363 \nL 328.523454 73.124938 \nL 332.99939 83.483508 \nL 337.475326 92.324717 \nL 350.903133 88.422055 \nL 355.379069 74.452629 \nL 359.855005 65.998062 \nL 364.330941 59.899589 \nL 368.806877 62.518461 \nL 382.234684 63.430302 \nL 386.71062 57.499683 \nL 391.186556 50.423742 \nL 395.662492 51.547159 \nL 400.138427 52.845642 \nL 413.566235 51.306465 \nL 418.042171 54.027385 \nL 422.518107 47.192226 \nL 426.994042 55.223731 \nL 431.469978 60.271627 \nL 444.897786 92.164255 \nL 449.373722 107.614443 \nL 453.849657 107.512306 \nL 458.325593 136.727736 \nL 462.801529 163.99544 \nL 476.229337 159.837391 \nL 480.705272 150.886832 \nL 485.181208 140.834672 \nL 489.657144 153.709889 \nL 494.13308 183.844372 \nL 507.560887 242.530484 \nL 512.036823 251.882334 \nL 516.512759 255.777739 \nL 520.988695 334.042882 \nL 525.464631 325.376739 \nL 538.892438 358.691759 \nL 543.368374 346.101047 \nL 547.84431 374.120131 \nL 552.320246 357.327648 \nL 556.796181 331.642932 \nL 570.223989 350.266354 \nL 574.699925 304.542992 \nL 579.175861 281.411387 \nL 583.651796 266.172729 \nL 588.127732 294.271999 \nL 601.55554 288.800952 \nL 606.031476 283.534178 \nL 610.507411 305.600737 \nL 614.983347 301.967931 \nL 619.459283 311.348987 \nL 632.887091 285.934128 \nL 637.363026 272.949518 \nL 641.838962 271.658336 \nL 646.314898 261.825054 \nL 650.790834 261.825054 \nL 664.218641 261.825054 \nL 668.694577 261.080978 \nL 673.170513 284.31472 \nL 677.646449 284.31472 \n\" style=\"fill:none;stroke:#fbc15e;stroke-linecap:square;stroke-width:1.5;\"/>\n   </g>\n   <g id=\"line2d_38\">\n    <path clip-path=\"url(#p6b70ea73d6)\" d=\"M 68.919176 74.534799 \nL 73.395112 81.033238 \nL 77.871048 91.651144 \nL 82.346984 84.494137 \nL 86.822919 82.136364 \nL 100.250727 78.824018 \nL 104.726663 79.714404 \nL 109.202599 80.510164 \nL 113.678534 79.079662 \nL 118.15447 53.106257 \nL 131.582278 56.177713 \nL 136.058214 51.238659 \nL 140.534149 56.955667 \nL 145.010085 59.976333 \nL 149.486021 62.069644 \nL 162.913829 61.875219 \nL 167.389764 61.464069 \nL 171.8657 63.535335 \nL 176.341636 57.368512 \nL 180.817572 61.154075 \nL 194.245379 69.016201 \nL 198.721315 69.016201 \nL 207.673187 69.016201 \nL 212.149123 69.016201 \nL 225.57693 88.628358 \nL 230.052866 72.528229 \nL 234.528802 88.632683 \nL 239.004738 65.402085 \nL 243.480673 60.596237 \nL 256.908481 60.596237 \nL 261.384417 53.016379 \nL 265.860353 57.730568 \nL 270.336288 57.012053 \nL 274.812224 52.317874 \nL 288.240032 50.483683 \nL 292.715968 59.988882 \nL 297.191903 52.748102 \nL 301.667839 62.989622 \nL 306.143775 61.61169 \nL 319.571583 82.609156 \nL 324.047518 88.157262 \nL 328.523454 81.051044 \nL 332.99939 98.487813 \nL 337.475326 88.614453 \nL 350.903133 98.740065 \nL 355.379069 93.849596 \nL 359.855005 83.648859 \nL 364.330941 59.596895 \nL 368.806877 61.576926 \nL 382.234684 67.741544 \nL 386.71062 67.741544 \nL 391.186556 60.134298 \nL 395.662492 61.587779 \nL 400.138427 67.671676 \nL 413.566235 74.806553 \nL 418.042171 89.108443 \nL 422.518107 80.126402 \nL 426.994042 76.720617 \nL 431.469978 80.732401 \nL 444.897786 80.732401 \nL 449.373722 114.652128 \nL 453.849657 122.432601 \nL 458.325593 143.18214 \nL 462.801529 178.141146 \nL 476.229337 169.410001 \nL 480.705272 180.75592 \nL 485.181208 180.003573 \nL 489.657144 170.059497 \nL 494.13308 195.211535 \nL 507.560887 240.837966 \nL 512.036823 233.529013 \nL 516.512759 253.110731 \nL 520.988695 290.290743 \nL 525.464631 339.285566 \nL 538.892438 357.910167 \nL 543.368374 357.498169 \nL 547.84431 369.869885 \nL 552.320246 377.411587 \nL 556.796181 377.411587 \nL 570.223989 362.870503 \nL 574.699925 310.576731 \nL 579.175861 247.442308 \nL 583.651796 285.733755 \nL 588.127732 254.266851 \nL 601.55554 267.484268 \nL 606.031476 274.775923 \nL 610.507411 311.746248 \nL 614.983347 322.455729 \nL 619.459283 322.391966 \nL 632.887091 289.567055 \nL 637.363026 273.335924 \nL 641.838962 255.837936 \nL 646.314898 256.162261 \nL 650.790834 249.531803 \nL 664.218641 269.288952 \nL 668.694577 243.440529 \nL 673.170513 247.292143 \nL 677.646449 261.96177 \n\" style=\"fill:none;stroke:#8eba42;stroke-linecap:square;stroke-width:1.5;\"/>\n   </g>\n   <g id=\"patch_3\">\n    <path d=\"M 38.482813 398.88 \nL 38.482813 7.2 \n\" style=\"fill:none;stroke:#ffffff;stroke-linecap:square;stroke-linejoin:miter;\"/>\n   </g>\n   <g id=\"patch_4\">\n    <path d=\"M 708.082813 398.88 \nL 708.082813 7.2 \n\" style=\"fill:none;stroke:#ffffff;stroke-linecap:square;stroke-linejoin:miter;\"/>\n   </g>\n   <g id=\"patch_5\">\n    <path d=\"M 38.482813 398.88 \nL 708.082813 398.88 \n\" style=\"fill:none;stroke:#ffffff;stroke-linecap:square;stroke-linejoin:miter;\"/>\n   </g>\n   <g id=\"patch_6\">\n    <path d=\"M 38.482813 7.2 \nL 708.082813 7.2 \n\" style=\"fill:none;stroke:#ffffff;stroke-linecap:square;stroke-linejoin:miter;\"/>\n   </g>\n   <g id=\"legend_1\">\n    <g id=\"patch_7\">\n     <path d=\"M 641.973438 103.26875 \nL 701.082813 103.26875 \nQ 703.082813 103.26875 703.082813 101.26875 \nL 703.082813 14.2 \nQ 703.082813 12.2 701.082813 12.2 \nL 641.973438 12.2 \nQ 639.973438 12.2 639.973438 14.2 \nL 639.973438 101.26875 \nQ 639.973438 103.26875 641.973438 103.26875 \nz\n\" style=\"fill:#e5e5e5;opacity:0.8;stroke:#cccccc;stroke-linejoin:miter;stroke-width:0.5;\"/>\n    </g>\n    <g id=\"line2d_39\">\n     <path d=\"M 643.973438 20.298437 \nL 663.973438 20.298437 \n\" style=\"fill:none;stroke:#e24a33;stroke-linecap:square;stroke-width:1.5;\"/>\n    </g>\n    <g id=\"line2d_40\"/>\n    <g id=\"text_18\">\n     <!-- FTSE -->\n     <defs>\n      <path d=\"M 9.8125 72.90625 \nL 51.703125 72.90625 \nL 51.703125 64.59375 \nL 19.671875 64.59375 \nL 19.671875 43.109375 \nL 48.578125 43.109375 \nL 48.578125 34.8125 \nL 19.671875 34.8125 \nL 19.671875 0 \nL 9.8125 0 \nz\n\" id=\"DejaVuSans-70\"/>\n      <path d=\"M -0.296875 72.90625 \nL 61.375 72.90625 \nL 61.375 64.59375 \nL 35.5 64.59375 \nL 35.5 0 \nL 25.59375 0 \nL 25.59375 64.59375 \nL -0.296875 64.59375 \nz\n\" id=\"DejaVuSans-84\"/>\n      <path d=\"M 53.515625 70.515625 \nL 53.515625 60.890625 \nQ 47.90625 63.578125 42.921875 64.890625 \nQ 37.9375 66.21875 33.296875 66.21875 \nQ 25.25 66.21875 20.875 63.09375 \nQ 16.5 59.96875 16.5 54.203125 \nQ 16.5 49.359375 19.40625 46.890625 \nQ 22.3125 44.4375 30.421875 42.921875 \nL 36.375 41.703125 \nQ 47.40625 39.59375 52.65625 34.296875 \nQ 57.90625 29 57.90625 20.125 \nQ 57.90625 9.515625 50.796875 4.046875 \nQ 43.703125 -1.421875 29.984375 -1.421875 \nQ 24.8125 -1.421875 18.96875 -0.25 \nQ 13.140625 0.921875 6.890625 3.21875 \nL 6.890625 13.375 \nQ 12.890625 10.015625 18.65625 8.296875 \nQ 24.421875 6.59375 29.984375 6.59375 \nQ 38.421875 6.59375 43.015625 9.90625 \nQ 47.609375 13.234375 47.609375 19.390625 \nQ 47.609375 24.75 44.3125 27.78125 \nQ 41.015625 30.8125 33.5 32.328125 \nL 27.484375 33.5 \nQ 16.453125 35.6875 11.515625 40.375 \nQ 6.59375 45.0625 6.59375 53.421875 \nQ 6.59375 63.09375 13.40625 68.65625 \nQ 20.21875 74.21875 32.171875 74.21875 \nQ 37.3125 74.21875 42.625 73.28125 \nQ 47.953125 72.359375 53.515625 70.515625 \nz\n\" id=\"DejaVuSans-83\"/>\n      <path d=\"M 9.8125 72.90625 \nL 55.90625 72.90625 \nL 55.90625 64.59375 \nL 19.671875 64.59375 \nL 19.671875 43.015625 \nL 54.390625 43.015625 \nL 54.390625 34.71875 \nL 19.671875 34.71875 \nL 19.671875 8.296875 \nL 56.78125 8.296875 \nL 56.78125 0 \nL 9.8125 0 \nz\n\" id=\"DejaVuSans-69\"/>\n     </defs>\n     <g transform=\"translate(671.973438 23.798437)scale(0.1 -0.1)\">\n      <use xlink:href=\"#DejaVuSans-70\"/>\n      <use x=\"55.769531\" xlink:href=\"#DejaVuSans-84\"/>\n      <use x=\"116.853516\" xlink:href=\"#DejaVuSans-83\"/>\n      <use x=\"180.330078\" xlink:href=\"#DejaVuSans-69\"/>\n     </g>\n    </g>\n    <g id=\"line2d_41\">\n     <path d=\"M 643.973438 34.976562 \nL 663.973438 34.976562 \n\" style=\"fill:none;stroke:#348abd;stroke-linecap:square;stroke-width:1.5;\"/>\n    </g>\n    <g id=\"line2d_42\"/>\n    <g id=\"text_19\">\n     <!-- GSPC -->\n     <defs>\n      <path d=\"M 59.515625 10.40625 \nL 59.515625 29.984375 \nL 43.40625 29.984375 \nL 43.40625 38.09375 \nL 69.28125 38.09375 \nL 69.28125 6.78125 \nQ 63.578125 2.734375 56.6875 0.65625 \nQ 49.8125 -1.421875 42 -1.421875 \nQ 24.90625 -1.421875 15.25 8.5625 \nQ 5.609375 18.5625 5.609375 36.375 \nQ 5.609375 54.25 15.25 64.234375 \nQ 24.90625 74.21875 42 74.21875 \nQ 49.125 74.21875 55.546875 72.453125 \nQ 61.96875 70.703125 67.390625 67.28125 \nL 67.390625 56.78125 \nQ 61.921875 61.421875 55.765625 63.765625 \nQ 49.609375 66.109375 42.828125 66.109375 \nQ 29.4375 66.109375 22.71875 58.640625 \nQ 16.015625 51.171875 16.015625 36.375 \nQ 16.015625 21.625 22.71875 14.15625 \nQ 29.4375 6.6875 42.828125 6.6875 \nQ 48.046875 6.6875 52.140625 7.59375 \nQ 56.25 8.5 59.515625 10.40625 \nz\n\" id=\"DejaVuSans-71\"/>\n      <path d=\"M 19.671875 64.796875 \nL 19.671875 37.40625 \nL 32.078125 37.40625 \nQ 38.96875 37.40625 42.71875 40.96875 \nQ 46.484375 44.53125 46.484375 51.125 \nQ 46.484375 57.671875 42.71875 61.234375 \nQ 38.96875 64.796875 32.078125 64.796875 \nz\nM 9.8125 72.90625 \nL 32.078125 72.90625 \nQ 44.34375 72.90625 50.609375 67.359375 \nQ 56.890625 61.8125 56.890625 51.125 \nQ 56.890625 40.328125 50.609375 34.8125 \nQ 44.34375 29.296875 32.078125 29.296875 \nL 19.671875 29.296875 \nL 19.671875 0 \nL 9.8125 0 \nz\n\" id=\"DejaVuSans-80\"/>\n      <path d=\"M 64.40625 67.28125 \nL 64.40625 56.890625 \nQ 59.421875 61.53125 53.78125 63.8125 \nQ 48.140625 66.109375 41.796875 66.109375 \nQ 29.296875 66.109375 22.65625 58.46875 \nQ 16.015625 50.828125 16.015625 36.375 \nQ 16.015625 21.96875 22.65625 14.328125 \nQ 29.296875 6.6875 41.796875 6.6875 \nQ 48.140625 6.6875 53.78125 8.984375 \nQ 59.421875 11.28125 64.40625 15.921875 \nL 64.40625 5.609375 \nQ 59.234375 2.09375 53.4375 0.328125 \nQ 47.65625 -1.421875 41.21875 -1.421875 \nQ 24.65625 -1.421875 15.125 8.703125 \nQ 5.609375 18.84375 5.609375 36.375 \nQ 5.609375 53.953125 15.125 64.078125 \nQ 24.65625 74.21875 41.21875 74.21875 \nQ 47.75 74.21875 53.53125 72.484375 \nQ 59.328125 70.75 64.40625 67.28125 \nz\n\" id=\"DejaVuSans-67\"/>\n     </defs>\n     <g transform=\"translate(671.973438 38.476562)scale(0.1 -0.1)\">\n      <use xlink:href=\"#DejaVuSans-71\"/>\n      <use x=\"77.490234\" xlink:href=\"#DejaVuSans-83\"/>\n      <use x=\"140.966797\" xlink:href=\"#DejaVuSans-80\"/>\n      <use x=\"201.269531\" xlink:href=\"#DejaVuSans-67\"/>\n     </g>\n    </g>\n    <g id=\"line2d_43\">\n     <path d=\"M 643.973438 49.654687 \nL 663.973438 49.654687 \n\" style=\"fill:none;stroke:#988ed5;stroke-linecap:square;stroke-width:1.5;\"/>\n    </g>\n    <g id=\"line2d_44\"/>\n    <g id=\"text_20\">\n     <!-- HSI -->\n     <defs>\n      <path d=\"M 9.8125 72.90625 \nL 19.671875 72.90625 \nL 19.671875 43.015625 \nL 55.515625 43.015625 \nL 55.515625 72.90625 \nL 65.375 72.90625 \nL 65.375 0 \nL 55.515625 0 \nL 55.515625 34.71875 \nL 19.671875 34.71875 \nL 19.671875 0 \nL 9.8125 0 \nz\n\" id=\"DejaVuSans-72\"/>\n      <path d=\"M 9.8125 72.90625 \nL 19.671875 72.90625 \nL 19.671875 0 \nL 9.8125 0 \nz\n\" id=\"DejaVuSans-73\"/>\n     </defs>\n     <g transform=\"translate(671.973438 53.154687)scale(0.1 -0.1)\">\n      <use xlink:href=\"#DejaVuSans-72\"/>\n      <use x=\"75.195312\" xlink:href=\"#DejaVuSans-83\"/>\n      <use x=\"138.671875\" xlink:href=\"#DejaVuSans-73\"/>\n     </g>\n    </g>\n    <g id=\"line2d_45\">\n     <path d=\"M 643.973438 64.332812 \nL 663.973438 64.332812 \n\" style=\"fill:none;stroke:#777777;stroke-linecap:square;stroke-width:1.5;\"/>\n    </g>\n    <g id=\"line2d_46\"/>\n    <g id=\"text_21\">\n     <!-- KS11 -->\n     <defs>\n      <path d=\"M 9.8125 72.90625 \nL 19.671875 72.90625 \nL 19.671875 42.09375 \nL 52.390625 72.90625 \nL 65.09375 72.90625 \nL 28.90625 38.921875 \nL 67.671875 0 \nL 54.6875 0 \nL 19.671875 35.109375 \nL 19.671875 0 \nL 9.8125 0 \nz\n\" id=\"DejaVuSans-75\"/>\n     </defs>\n     <g transform=\"translate(671.973438 67.832812)scale(0.1 -0.1)\">\n      <use xlink:href=\"#DejaVuSans-75\"/>\n      <use x=\"65.576172\" xlink:href=\"#DejaVuSans-83\"/>\n      <use x=\"129.052734\" xlink:href=\"#DejaVuSans-49\"/>\n      <use x=\"192.675781\" xlink:href=\"#DejaVuSans-49\"/>\n     </g>\n    </g>\n    <g id=\"line2d_47\">\n     <path d=\"M 643.973438 79.010937 \nL 663.973438 79.010937 \n\" style=\"fill:none;stroke:#fbc15e;stroke-linecap:square;stroke-width:1.5;\"/>\n    </g>\n    <g id=\"line2d_48\"/>\n    <g id=\"text_22\">\n     <!-- N100 -->\n     <defs>\n      <path d=\"M 9.8125 72.90625 \nL 23.09375 72.90625 \nL 55.421875 11.921875 \nL 55.421875 72.90625 \nL 64.984375 72.90625 \nL 64.984375 0 \nL 51.703125 0 \nL 19.390625 60.984375 \nL 19.390625 0 \nL 9.8125 0 \nz\n\" id=\"DejaVuSans-78\"/>\n     </defs>\n     <g transform=\"translate(671.973438 82.510937)scale(0.1 -0.1)\">\n      <use xlink:href=\"#DejaVuSans-78\"/>\n      <use x=\"74.804688\" xlink:href=\"#DejaVuSans-49\"/>\n      <use x=\"138.427734\" xlink:href=\"#DejaVuSans-48\"/>\n      <use x=\"202.050781\" xlink:href=\"#DejaVuSans-48\"/>\n     </g>\n    </g>\n    <g id=\"line2d_49\">\n     <path d=\"M 643.973438 93.689062 \nL 663.973438 93.689062 \n\" style=\"fill:none;stroke:#8eba42;stroke-linecap:square;stroke-width:1.5;\"/>\n    </g>\n    <g id=\"line2d_50\"/>\n    <g id=\"text_23\">\n     <!-- N225 -->\n     <defs>\n      <path d=\"M 10.796875 72.90625 \nL 49.515625 72.90625 \nL 49.515625 64.59375 \nL 19.828125 64.59375 \nL 19.828125 46.734375 \nQ 21.96875 47.46875 24.109375 47.828125 \nQ 26.265625 48.1875 28.421875 48.1875 \nQ 40.625 48.1875 47.75 41.5 \nQ 54.890625 34.8125 54.890625 23.390625 \nQ 54.890625 11.625 47.5625 5.09375 \nQ 40.234375 -1.421875 26.90625 -1.421875 \nQ 22.3125 -1.421875 17.546875 -0.640625 \nQ 12.796875 0.140625 7.71875 1.703125 \nL 7.71875 11.625 \nQ 12.109375 9.234375 16.796875 8.0625 \nQ 21.484375 6.890625 26.703125 6.890625 \nQ 35.15625 6.890625 40.078125 11.328125 \nQ 45.015625 15.765625 45.015625 23.390625 \nQ 45.015625 31 40.078125 35.4375 \nQ 35.15625 39.890625 26.703125 39.890625 \nQ 22.75 39.890625 18.8125 39.015625 \nQ 14.890625 38.140625 10.796875 36.28125 \nz\n\" id=\"DejaVuSans-53\"/>\n     </defs>\n     <g transform=\"translate(671.973438 97.189062)scale(0.1 -0.1)\">\n      <use xlink:href=\"#DejaVuSans-78\"/>\n      <use x=\"74.804688\" xlink:href=\"#DejaVuSans-50\"/>\n      <use x=\"138.427734\" xlink:href=\"#DejaVuSans-50\"/>\n      <use x=\"202.050781\" xlink:href=\"#DejaVuSans-53\"/>\n     </g>\n    </g>\n   </g>\n  </g>\n </g>\n <defs>\n  <clipPath id=\"p6b70ea73d6\">\n   <rect height=\"391.68\" width=\"669.6\" x=\"38.482813\" y=\"7.2\"/>\n  </clipPath>\n </defs>\n</svg>\n"
          },
          "metadata": {
            "tags": []
          }
        }
      ]
    },
    {
      "cell_type": "code",
      "metadata": {
        "id": "yMfMcGqLVJas",
        "colab_type": "code",
        "colab": {
          "base_uri": "https://localhost:8080/",
          "height": 707
        },
        "outputId": "6d4a4b95-06b6-4138-c6c3-6bc4e6d3a0a9"
      },
      "source": [
        "ax = standardize(data_fill)['2020-01-22':].sum(axis=1).plot()\n",
        "standardize(covid_agg[['Confirmed','Deaths']]).sum(axis=1).plot(ax=ax)\n",
        "plt.show()"
      ],
      "execution_count": 17,
      "outputs": [
        {
          "output_type": "display_data",
          "data": {
            "text/plain": [
              "<Figure size 864x576 with 1 Axes>"
            ],
            "image/svg+xml": "<?xml version=\"1.0\" encoding=\"utf-8\" standalone=\"no\"?>\n<!DOCTYPE svg PUBLIC \"-//W3C//DTD SVG 1.1//EN\"\n  \"http://www.w3.org/Graphics/SVG/1.1/DTD/svg11.dtd\">\n<!-- Created with matplotlib (https://matplotlib.org/) -->\n<svg height=\"515.165312pt\" version=\"1.1\" viewBox=\"0 0 705.742188 515.165312\" width=\"705.742188pt\" xmlns=\"http://www.w3.org/2000/svg\" xmlns:xlink=\"http://www.w3.org/1999/xlink\">\n <defs>\n  <style type=\"text/css\">\n*{stroke-linecap:butt;stroke-linejoin:round;}\n  </style>\n </defs>\n <g id=\"figure_1\">\n  <g id=\"patch_1\">\n   <path d=\"M 0 515.165312 \nL 705.742188 515.165312 \nL 705.742188 0 \nL 0 0 \nz\n\" style=\"fill:#ffffff;\"/>\n  </g>\n  <g id=\"axes_1\">\n   <g id=\"patch_2\">\n    <path d=\"M 28.942188 442.08 \nL 698.542188 442.08 \nL 698.542188 7.2 \nL 28.942188 7.2 \nz\n\" style=\"fill:#e5e5e5;\"/>\n   </g>\n   <g id=\"matplotlib.axis_1\">\n    <g id=\"xtick_1\">\n     <g id=\"line2d_1\">\n      <path clip-path=\"url(#p6d4757dbda)\" d=\"M 28.942188 442.08 \nL 28.942188 7.2 \n\" style=\"fill:none;stroke:#ffffff;stroke-linecap:square;stroke-width:0.8;\"/>\n     </g>\n     <g id=\"line2d_2\">\n      <defs>\n       <path d=\"M 0 0 \nL 0 3.5 \n\" id=\"mf74223abfc\" style=\"stroke:#555555;stroke-width:0.8;\"/>\n      </defs>\n      <g>\n       <use style=\"fill:#555555;stroke:#555555;stroke-width:0.8;\" x=\"28.942188\" xlink:href=\"#mf74223abfc\" y=\"442.08\"/>\n      </g>\n     </g>\n    </g>\n    <g id=\"xtick_2\">\n     <g id=\"line2d_3\">\n      <path clip-path=\"url(#p6d4757dbda)\" d=\"M 116.758581 442.08 \nL 116.758581 7.2 \n\" style=\"fill:none;stroke:#ffffff;stroke-linecap:square;stroke-width:0.8;\"/>\n     </g>\n     <g id=\"line2d_4\">\n      <g>\n       <use style=\"fill:#555555;stroke:#555555;stroke-width:0.8;\" x=\"116.758581\" xlink:href=\"#mf74223abfc\" y=\"442.08\"/>\n      </g>\n     </g>\n     <g id=\"text_1\">\n      <!--  -->\n      <g style=\"fill:#555555;\" transform=\"translate(116.758581 456.678437)scale(0.1 -0.1)\"/>\n      <!--  -->\n      <g style=\"fill:#555555;\" transform=\"translate(116.758581 467.87625)scale(0.1 -0.1)\"/>\n      <!-- Feb -->\n      <defs>\n       <path d=\"M 9.8125 72.90625 \nL 51.703125 72.90625 \nL 51.703125 64.59375 \nL 19.671875 64.59375 \nL 19.671875 43.109375 \nL 48.578125 43.109375 \nL 48.578125 34.8125 \nL 19.671875 34.8125 \nL 19.671875 0 \nL 9.8125 0 \nz\n\" id=\"DejaVuSans-70\"/>\n       <path d=\"M 56.203125 29.59375 \nL 56.203125 25.203125 \nL 14.890625 25.203125 \nQ 15.484375 15.921875 20.484375 11.0625 \nQ 25.484375 6.203125 34.421875 6.203125 \nQ 39.59375 6.203125 44.453125 7.46875 \nQ 49.3125 8.734375 54.109375 11.28125 \nL 54.109375 2.78125 \nQ 49.265625 0.734375 44.1875 -0.34375 \nQ 39.109375 -1.421875 33.890625 -1.421875 \nQ 20.796875 -1.421875 13.15625 6.1875 \nQ 5.515625 13.8125 5.515625 26.8125 \nQ 5.515625 40.234375 12.765625 48.109375 \nQ 20.015625 56 32.328125 56 \nQ 43.359375 56 49.78125 48.890625 \nQ 56.203125 41.796875 56.203125 29.59375 \nz\nM 47.21875 32.234375 \nQ 47.125 39.59375 43.09375 43.984375 \nQ 39.0625 48.390625 32.421875 48.390625 \nQ 24.90625 48.390625 20.390625 44.140625 \nQ 15.875 39.890625 15.1875 32.171875 \nz\n\" id=\"DejaVuSans-101\"/>\n       <path d=\"M 48.6875 27.296875 \nQ 48.6875 37.203125 44.609375 42.84375 \nQ 40.53125 48.484375 33.40625 48.484375 \nQ 26.265625 48.484375 22.1875 42.84375 \nQ 18.109375 37.203125 18.109375 27.296875 \nQ 18.109375 17.390625 22.1875 11.75 \nQ 26.265625 6.109375 33.40625 6.109375 \nQ 40.53125 6.109375 44.609375 11.75 \nQ 48.6875 17.390625 48.6875 27.296875 \nz\nM 18.109375 46.390625 \nQ 20.953125 51.265625 25.265625 53.625 \nQ 29.59375 56 35.59375 56 \nQ 45.5625 56 51.78125 48.09375 \nQ 58.015625 40.1875 58.015625 27.296875 \nQ 58.015625 14.40625 51.78125 6.484375 \nQ 45.5625 -1.421875 35.59375 -1.421875 \nQ 29.59375 -1.421875 25.265625 0.953125 \nQ 20.953125 3.328125 18.109375 8.203125 \nL 18.109375 0 \nL 9.078125 0 \nL 9.078125 75.984375 \nL 18.109375 75.984375 \nz\n\" id=\"DejaVuSans-98\"/>\n      </defs>\n      <g style=\"fill:#555555;\" transform=\"translate(107.907018 479.074062)scale(0.1 -0.1)\">\n       <use xlink:href=\"#DejaVuSans-70\"/>\n       <use x=\"52.019531\" xlink:href=\"#DejaVuSans-101\"/>\n       <use x=\"113.542969\" xlink:href=\"#DejaVuSans-98\"/>\n      </g>\n      <!-- 2020 -->\n      <defs>\n       <path d=\"M 19.1875 8.296875 \nL 53.609375 8.296875 \nL 53.609375 0 \nL 7.328125 0 \nL 7.328125 8.296875 \nQ 12.9375 14.109375 22.625 23.890625 \nQ 32.328125 33.6875 34.8125 36.53125 \nQ 39.546875 41.84375 41.421875 45.53125 \nQ 43.3125 49.21875 43.3125 52.78125 \nQ 43.3125 58.59375 39.234375 62.25 \nQ 35.15625 65.921875 28.609375 65.921875 \nQ 23.96875 65.921875 18.8125 64.3125 \nQ 13.671875 62.703125 7.8125 59.421875 \nL 7.8125 69.390625 \nQ 13.765625 71.78125 18.9375 73 \nQ 24.125 74.21875 28.421875 74.21875 \nQ 39.75 74.21875 46.484375 68.546875 \nQ 53.21875 62.890625 53.21875 53.421875 \nQ 53.21875 48.921875 51.53125 44.890625 \nQ 49.859375 40.875 45.40625 35.40625 \nQ 44.1875 33.984375 37.640625 27.21875 \nQ 31.109375 20.453125 19.1875 8.296875 \nz\n\" id=\"DejaVuSans-50\"/>\n       <path d=\"M 31.78125 66.40625 \nQ 24.171875 66.40625 20.328125 58.90625 \nQ 16.5 51.421875 16.5 36.375 \nQ 16.5 21.390625 20.328125 13.890625 \nQ 24.171875 6.390625 31.78125 6.390625 \nQ 39.453125 6.390625 43.28125 13.890625 \nQ 47.125 21.390625 47.125 36.375 \nQ 47.125 51.421875 43.28125 58.90625 \nQ 39.453125 66.40625 31.78125 66.40625 \nz\nM 31.78125 74.21875 \nQ 44.046875 74.21875 50.515625 64.515625 \nQ 56.984375 54.828125 56.984375 36.375 \nQ 56.984375 17.96875 50.515625 8.265625 \nQ 44.046875 -1.421875 31.78125 -1.421875 \nQ 19.53125 -1.421875 13.0625 8.265625 \nQ 6.59375 17.96875 6.59375 36.375 \nQ 6.59375 54.828125 13.0625 64.515625 \nQ 19.53125 74.21875 31.78125 74.21875 \nz\n\" id=\"DejaVuSans-48\"/>\n      </defs>\n      <g style=\"fill:#555555;\" transform=\"translate(104.033581 490.271875)scale(0.1 -0.1)\">\n       <use xlink:href=\"#DejaVuSans-50\"/>\n       <use x=\"63.623047\" xlink:href=\"#DejaVuSans-48\"/>\n       <use x=\"127.246094\" xlink:href=\"#DejaVuSans-50\"/>\n       <use x=\"190.869141\" xlink:href=\"#DejaVuSans-48\"/>\n      </g>\n     </g>\n    </g>\n    <g id=\"xtick_3\">\n     <g id=\"line2d_5\">\n      <path clip-path=\"url(#p6d4757dbda)\" d=\"M 336.299565 442.08 \nL 336.299565 7.2 \n\" style=\"fill:none;stroke:#ffffff;stroke-linecap:square;stroke-width:0.8;\"/>\n     </g>\n     <g id=\"line2d_6\">\n      <g>\n       <use style=\"fill:#555555;stroke:#555555;stroke-width:0.8;\" x=\"336.299565\" xlink:href=\"#mf74223abfc\" y=\"442.08\"/>\n      </g>\n     </g>\n     <g id=\"text_2\">\n      <!--  -->\n      <g style=\"fill:#555555;\" transform=\"translate(336.299565 456.678437)scale(0.1 -0.1)\"/>\n      <!--  -->\n      <g style=\"fill:#555555;\" transform=\"translate(336.299565 467.87625)scale(0.1 -0.1)\"/>\n      <!-- Mar -->\n      <defs>\n       <path d=\"M 9.8125 72.90625 \nL 24.515625 72.90625 \nL 43.109375 23.296875 \nL 61.8125 72.90625 \nL 76.515625 72.90625 \nL 76.515625 0 \nL 66.890625 0 \nL 66.890625 64.015625 \nL 48.09375 14.015625 \nL 38.1875 14.015625 \nL 19.390625 64.015625 \nL 19.390625 0 \nL 9.8125 0 \nz\n\" id=\"DejaVuSans-77\"/>\n       <path d=\"M 34.28125 27.484375 \nQ 23.390625 27.484375 19.1875 25 \nQ 14.984375 22.515625 14.984375 16.5 \nQ 14.984375 11.71875 18.140625 8.90625 \nQ 21.296875 6.109375 26.703125 6.109375 \nQ 34.1875 6.109375 38.703125 11.40625 \nQ 43.21875 16.703125 43.21875 25.484375 \nL 43.21875 27.484375 \nz\nM 52.203125 31.203125 \nL 52.203125 0 \nL 43.21875 0 \nL 43.21875 8.296875 \nQ 40.140625 3.328125 35.546875 0.953125 \nQ 30.953125 -1.421875 24.3125 -1.421875 \nQ 15.921875 -1.421875 10.953125 3.296875 \nQ 6 8.015625 6 15.921875 \nQ 6 25.140625 12.171875 29.828125 \nQ 18.359375 34.515625 30.609375 34.515625 \nL 43.21875 34.515625 \nL 43.21875 35.40625 \nQ 43.21875 41.609375 39.140625 45 \nQ 35.0625 48.390625 27.6875 48.390625 \nQ 23 48.390625 18.546875 47.265625 \nQ 14.109375 46.140625 10.015625 43.890625 \nL 10.015625 52.203125 \nQ 14.9375 54.109375 19.578125 55.046875 \nQ 24.21875 56 28.609375 56 \nQ 40.484375 56 46.34375 49.84375 \nQ 52.203125 43.703125 52.203125 31.203125 \nz\n\" id=\"DejaVuSans-97\"/>\n       <path d=\"M 41.109375 46.296875 \nQ 39.59375 47.171875 37.8125 47.578125 \nQ 36.03125 48 33.890625 48 \nQ 26.265625 48 22.1875 43.046875 \nQ 18.109375 38.09375 18.109375 28.8125 \nL 18.109375 0 \nL 9.078125 0 \nL 9.078125 54.6875 \nL 18.109375 54.6875 \nL 18.109375 46.1875 \nQ 20.953125 51.171875 25.484375 53.578125 \nQ 30.03125 56 36.53125 56 \nQ 37.453125 56 38.578125 55.875 \nQ 39.703125 55.765625 41.0625 55.515625 \nz\n\" id=\"DejaVuSans-114\"/>\n      </defs>\n      <g style=\"fill:#555555;\" transform=\"translate(326.865971 479.074062)scale(0.1 -0.1)\">\n       <use xlink:href=\"#DejaVuSans-77\"/>\n       <use x=\"86.279297\" xlink:href=\"#DejaVuSans-97\"/>\n       <use x=\"147.558594\" xlink:href=\"#DejaVuSans-114\"/>\n      </g>\n     </g>\n    </g>\n    <g id=\"xtick_4\">\n     <g id=\"line2d_7\">\n      <path clip-path=\"url(#p6d4757dbda)\" d=\"M 577.794647 442.08 \nL 577.794647 7.2 \n\" style=\"fill:none;stroke:#ffffff;stroke-linecap:square;stroke-width:0.8;\"/>\n     </g>\n     <g id=\"line2d_8\">\n      <g>\n       <use style=\"fill:#555555;stroke:#555555;stroke-width:0.8;\" x=\"577.794647\" xlink:href=\"#mf74223abfc\" y=\"442.08\"/>\n      </g>\n     </g>\n     <g id=\"text_3\">\n      <!--  -->\n      <g style=\"fill:#555555;\" transform=\"translate(577.794647 456.678437)scale(0.1 -0.1)\"/>\n      <!--  -->\n      <g style=\"fill:#555555;\" transform=\"translate(577.794647 467.87625)scale(0.1 -0.1)\"/>\n      <!-- Apr -->\n      <defs>\n       <path d=\"M 34.1875 63.1875 \nL 20.796875 26.90625 \nL 47.609375 26.90625 \nz\nM 28.609375 72.90625 \nL 39.796875 72.90625 \nL 67.578125 0 \nL 57.328125 0 \nL 50.6875 18.703125 \nL 17.828125 18.703125 \nL 11.1875 0 \nL 0.78125 0 \nz\n\" id=\"DejaVuSans-65\"/>\n       <path d=\"M 18.109375 8.203125 \nL 18.109375 -20.796875 \nL 9.078125 -20.796875 \nL 9.078125 54.6875 \nL 18.109375 54.6875 \nL 18.109375 46.390625 \nQ 20.953125 51.265625 25.265625 53.625 \nQ 29.59375 56 35.59375 56 \nQ 45.5625 56 51.78125 48.09375 \nQ 58.015625 40.1875 58.015625 27.296875 \nQ 58.015625 14.40625 51.78125 6.484375 \nQ 45.5625 -1.421875 35.59375 -1.421875 \nQ 29.59375 -1.421875 25.265625 0.953125 \nQ 20.953125 3.328125 18.109375 8.203125 \nz\nM 48.6875 27.296875 \nQ 48.6875 37.203125 44.609375 42.84375 \nQ 40.53125 48.484375 33.40625 48.484375 \nQ 26.265625 48.484375 22.1875 42.84375 \nQ 18.109375 37.203125 18.109375 27.296875 \nQ 18.109375 17.390625 22.1875 11.75 \nQ 26.265625 6.109375 33.40625 6.109375 \nQ 40.53125 6.109375 44.609375 11.75 \nQ 48.6875 17.390625 48.6875 27.296875 \nz\n\" id=\"DejaVuSans-112\"/>\n      </defs>\n      <g style=\"fill:#555555;\" transform=\"translate(569.144647 479.074062)scale(0.1 -0.1)\">\n       <use xlink:href=\"#DejaVuSans-65\"/>\n       <use x=\"68.408203\" xlink:href=\"#DejaVuSans-112\"/>\n       <use x=\"131.884766\" xlink:href=\"#DejaVuSans-114\"/>\n      </g>\n     </g>\n    </g>\n    <g id=\"xtick_5\">\n     <g id=\"line2d_9\">\n      <path clip-path=\"url(#p6d4757dbda)\" d=\"M 698.542188 442.08 \nL 698.542188 7.2 \n\" style=\"fill:none;stroke:#ffffff;stroke-linecap:square;stroke-width:0.8;\"/>\n     </g>\n     <g id=\"line2d_10\">\n      <g>\n       <use style=\"fill:#555555;stroke:#555555;stroke-width:0.8;\" x=\"698.542188\" xlink:href=\"#mf74223abfc\" y=\"442.08\"/>\n      </g>\n     </g>\n    </g>\n    <g id=\"xtick_6\">\n     <g id=\"line2d_11\">\n      <defs>\n       <path d=\"M 0 0 \nL 0 2 \n\" id=\"m05d4f983c9\" style=\"stroke:#555555;stroke-width:0.6;\"/>\n      </defs>\n      <g>\n       <use style=\"fill:#555555;stroke:#555555;stroke-width:0.6;\" x=\"39.919237\" xlink:href=\"#m05d4f983c9\" y=\"442.08\"/>\n      </g>\n     </g>\n    </g>\n    <g id=\"xtick_7\">\n     <g id=\"line2d_12\">\n      <g>\n       <use style=\"fill:#555555;stroke:#555555;stroke-width:0.6;\" x=\"50.896286\" xlink:href=\"#m05d4f983c9\" y=\"442.08\"/>\n      </g>\n     </g>\n    </g>\n    <g id=\"xtick_8\">\n     <g id=\"line2d_13\">\n      <g>\n       <use style=\"fill:#555555;stroke:#555555;stroke-width:0.6;\" x=\"61.873335\" xlink:href=\"#m05d4f983c9\" y=\"442.08\"/>\n      </g>\n     </g>\n     <g id=\"text_4\">\n      <!-- 27 -->\n      <defs>\n       <path d=\"M 8.203125 72.90625 \nL 55.078125 72.90625 \nL 55.078125 68.703125 \nL 28.609375 0 \nL 18.3125 0 \nL 43.21875 64.59375 \nL 8.203125 64.59375 \nz\n\" id=\"DejaVuSans-55\"/>\n      </defs>\n      <g style=\"fill:#555555;\" transform=\"translate(55.510835 455.078437)scale(0.1 -0.1)\">\n       <use xlink:href=\"#DejaVuSans-50\"/>\n       <use x=\"63.623047\" xlink:href=\"#DejaVuSans-55\"/>\n      </g>\n     </g>\n    </g>\n    <g id=\"xtick_9\">\n     <g id=\"line2d_14\">\n      <g>\n       <use style=\"fill:#555555;stroke:#555555;stroke-width:0.6;\" x=\"72.850384\" xlink:href=\"#m05d4f983c9\" y=\"442.08\"/>\n      </g>\n     </g>\n    </g>\n    <g id=\"xtick_10\">\n     <g id=\"line2d_15\">\n      <g>\n       <use style=\"fill:#555555;stroke:#555555;stroke-width:0.6;\" x=\"83.827433\" xlink:href=\"#m05d4f983c9\" y=\"442.08\"/>\n      </g>\n     </g>\n    </g>\n    <g id=\"xtick_11\">\n     <g id=\"line2d_16\">\n      <g>\n       <use style=\"fill:#555555;stroke:#555555;stroke-width:0.6;\" x=\"94.804483\" xlink:href=\"#m05d4f983c9\" y=\"442.08\"/>\n      </g>\n     </g>\n    </g>\n    <g id=\"xtick_12\">\n     <g id=\"line2d_17\">\n      <g>\n       <use style=\"fill:#555555;stroke:#555555;stroke-width:0.6;\" x=\"105.781532\" xlink:href=\"#m05d4f983c9\" y=\"442.08\"/>\n      </g>\n     </g>\n    </g>\n    <g id=\"xtick_13\">\n     <g id=\"line2d_18\">\n      <g>\n       <use style=\"fill:#555555;stroke:#555555;stroke-width:0.6;\" x=\"127.73563\" xlink:href=\"#m05d4f983c9\" y=\"442.08\"/>\n      </g>\n     </g>\n    </g>\n    <g id=\"xtick_14\">\n     <g id=\"line2d_19\">\n      <g>\n       <use style=\"fill:#555555;stroke:#555555;stroke-width:0.6;\" x=\"138.712679\" xlink:href=\"#m05d4f983c9\" y=\"442.08\"/>\n      </g>\n     </g>\n    </g>\n    <g id=\"xtick_15\">\n     <g id=\"line2d_20\">\n      <g>\n       <use style=\"fill:#555555;stroke:#555555;stroke-width:0.6;\" x=\"149.689728\" xlink:href=\"#m05d4f983c9\" y=\"442.08\"/>\n      </g>\n     </g>\n    </g>\n    <g id=\"xtick_16\">\n     <g id=\"line2d_21\">\n      <g>\n       <use style=\"fill:#555555;stroke:#555555;stroke-width:0.6;\" x=\"160.666778\" xlink:href=\"#m05d4f983c9\" y=\"442.08\"/>\n      </g>\n     </g>\n    </g>\n    <g id=\"xtick_17\">\n     <g id=\"line2d_22\">\n      <g>\n       <use style=\"fill:#555555;stroke:#555555;stroke-width:0.6;\" x=\"171.643827\" xlink:href=\"#m05d4f983c9\" y=\"442.08\"/>\n      </g>\n     </g>\n     <g id=\"text_5\">\n      <!-- 10 -->\n      <defs>\n       <path d=\"M 12.40625 8.296875 \nL 28.515625 8.296875 \nL 28.515625 63.921875 \nL 10.984375 60.40625 \nL 10.984375 69.390625 \nL 28.421875 72.90625 \nL 38.28125 72.90625 \nL 38.28125 8.296875 \nL 54.390625 8.296875 \nL 54.390625 0 \nL 12.40625 0 \nz\n\" id=\"DejaVuSans-49\"/>\n      </defs>\n      <g style=\"fill:#555555;\" transform=\"translate(165.281327 455.078437)scale(0.1 -0.1)\">\n       <use xlink:href=\"#DejaVuSans-49\"/>\n       <use x=\"63.623047\" xlink:href=\"#DejaVuSans-48\"/>\n      </g>\n     </g>\n    </g>\n    <g id=\"xtick_18\">\n     <g id=\"line2d_23\">\n      <g>\n       <use style=\"fill:#555555;stroke:#555555;stroke-width:0.6;\" x=\"182.620876\" xlink:href=\"#m05d4f983c9\" y=\"442.08\"/>\n      </g>\n     </g>\n    </g>\n    <g id=\"xtick_19\">\n     <g id=\"line2d_24\">\n      <g>\n       <use style=\"fill:#555555;stroke:#555555;stroke-width:0.6;\" x=\"193.597925\" xlink:href=\"#m05d4f983c9\" y=\"442.08\"/>\n      </g>\n     </g>\n    </g>\n    <g id=\"xtick_20\">\n     <g id=\"line2d_25\">\n      <g>\n       <use style=\"fill:#555555;stroke:#555555;stroke-width:0.6;\" x=\"204.574974\" xlink:href=\"#m05d4f983c9\" y=\"442.08\"/>\n      </g>\n     </g>\n    </g>\n    <g id=\"xtick_21\">\n     <g id=\"line2d_26\">\n      <g>\n       <use style=\"fill:#555555;stroke:#555555;stroke-width:0.6;\" x=\"215.552024\" xlink:href=\"#m05d4f983c9\" y=\"442.08\"/>\n      </g>\n     </g>\n    </g>\n    <g id=\"xtick_22\">\n     <g id=\"line2d_27\">\n      <g>\n       <use style=\"fill:#555555;stroke:#555555;stroke-width:0.6;\" x=\"226.529073\" xlink:href=\"#m05d4f983c9\" y=\"442.08\"/>\n      </g>\n     </g>\n     <g id=\"text_6\">\n      <!-- 17 -->\n      <g style=\"fill:#555555;\" transform=\"translate(220.166573 455.078437)scale(0.1 -0.1)\">\n       <use xlink:href=\"#DejaVuSans-49\"/>\n       <use x=\"63.623047\" xlink:href=\"#DejaVuSans-55\"/>\n      </g>\n     </g>\n    </g>\n    <g id=\"xtick_23\">\n     <g id=\"line2d_28\">\n      <g>\n       <use style=\"fill:#555555;stroke:#555555;stroke-width:0.6;\" x=\"237.506122\" xlink:href=\"#m05d4f983c9\" y=\"442.08\"/>\n      </g>\n     </g>\n    </g>\n    <g id=\"xtick_24\">\n     <g id=\"line2d_29\">\n      <g>\n       <use style=\"fill:#555555;stroke:#555555;stroke-width:0.6;\" x=\"248.483171\" xlink:href=\"#m05d4f983c9\" y=\"442.08\"/>\n      </g>\n     </g>\n    </g>\n    <g id=\"xtick_25\">\n     <g id=\"line2d_30\">\n      <g>\n       <use style=\"fill:#555555;stroke:#555555;stroke-width:0.6;\" x=\"259.46022\" xlink:href=\"#m05d4f983c9\" y=\"442.08\"/>\n      </g>\n     </g>\n    </g>\n    <g id=\"xtick_26\">\n     <g id=\"line2d_31\">\n      <g>\n       <use style=\"fill:#555555;stroke:#555555;stroke-width:0.6;\" x=\"270.437269\" xlink:href=\"#m05d4f983c9\" y=\"442.08\"/>\n      </g>\n     </g>\n    </g>\n    <g id=\"xtick_27\">\n     <g id=\"line2d_32\">\n      <g>\n       <use style=\"fill:#555555;stroke:#555555;stroke-width:0.6;\" x=\"281.414319\" xlink:href=\"#m05d4f983c9\" y=\"442.08\"/>\n      </g>\n     </g>\n     <g id=\"text_7\">\n      <!-- 24 -->\n      <defs>\n       <path d=\"M 37.796875 64.3125 \nL 12.890625 25.390625 \nL 37.796875 25.390625 \nz\nM 35.203125 72.90625 \nL 47.609375 72.90625 \nL 47.609375 25.390625 \nL 58.015625 25.390625 \nL 58.015625 17.1875 \nL 47.609375 17.1875 \nL 47.609375 0 \nL 37.796875 0 \nL 37.796875 17.1875 \nL 4.890625 17.1875 \nL 4.890625 26.703125 \nz\n\" id=\"DejaVuSans-52\"/>\n      </defs>\n      <g style=\"fill:#555555;\" transform=\"translate(275.051819 455.078437)scale(0.1 -0.1)\">\n       <use xlink:href=\"#DejaVuSans-50\"/>\n       <use x=\"63.623047\" xlink:href=\"#DejaVuSans-52\"/>\n      </g>\n     </g>\n    </g>\n    <g id=\"xtick_28\">\n     <g id=\"line2d_33\">\n      <g>\n       <use style=\"fill:#555555;stroke:#555555;stroke-width:0.6;\" x=\"292.391368\" xlink:href=\"#m05d4f983c9\" y=\"442.08\"/>\n      </g>\n     </g>\n    </g>\n    <g id=\"xtick_29\">\n     <g id=\"line2d_34\">\n      <g>\n       <use style=\"fill:#555555;stroke:#555555;stroke-width:0.6;\" x=\"303.368417\" xlink:href=\"#m05d4f983c9\" y=\"442.08\"/>\n      </g>\n     </g>\n    </g>\n    <g id=\"xtick_30\">\n     <g id=\"line2d_35\">\n      <g>\n       <use style=\"fill:#555555;stroke:#555555;stroke-width:0.6;\" x=\"314.345466\" xlink:href=\"#m05d4f983c9\" y=\"442.08\"/>\n      </g>\n     </g>\n    </g>\n    <g id=\"xtick_31\">\n     <g id=\"line2d_36\">\n      <g>\n       <use style=\"fill:#555555;stroke:#555555;stroke-width:0.6;\" x=\"325.322515\" xlink:href=\"#m05d4f983c9\" y=\"442.08\"/>\n      </g>\n     </g>\n    </g>\n    <g id=\"xtick_32\">\n     <g id=\"line2d_37\">\n      <g>\n       <use style=\"fill:#555555;stroke:#555555;stroke-width:0.6;\" x=\"347.276614\" xlink:href=\"#m05d4f983c9\" y=\"442.08\"/>\n      </g>\n     </g>\n    </g>\n    <g id=\"xtick_33\">\n     <g id=\"line2d_38\">\n      <g>\n       <use style=\"fill:#555555;stroke:#555555;stroke-width:0.6;\" x=\"358.253663\" xlink:href=\"#m05d4f983c9\" y=\"442.08\"/>\n      </g>\n     </g>\n    </g>\n    <g id=\"xtick_34\">\n     <g id=\"line2d_39\">\n      <g>\n       <use style=\"fill:#555555;stroke:#555555;stroke-width:0.6;\" x=\"369.230712\" xlink:href=\"#m05d4f983c9\" y=\"442.08\"/>\n      </g>\n     </g>\n    </g>\n    <g id=\"xtick_35\">\n     <g id=\"line2d_40\">\n      <g>\n       <use style=\"fill:#555555;stroke:#555555;stroke-width:0.6;\" x=\"380.207761\" xlink:href=\"#m05d4f983c9\" y=\"442.08\"/>\n      </g>\n     </g>\n    </g>\n    <g id=\"xtick_36\">\n     <g id=\"line2d_41\">\n      <g>\n       <use style=\"fill:#555555;stroke:#555555;stroke-width:0.6;\" x=\"391.18481\" xlink:href=\"#m05d4f983c9\" y=\"442.08\"/>\n      </g>\n     </g>\n     <g id=\"text_8\">\n      <!-- 09 -->\n      <defs>\n       <path d=\"M 10.984375 1.515625 \nL 10.984375 10.5 \nQ 14.703125 8.734375 18.5 7.8125 \nQ 22.3125 6.890625 25.984375 6.890625 \nQ 35.75 6.890625 40.890625 13.453125 \nQ 46.046875 20.015625 46.78125 33.40625 \nQ 43.953125 29.203125 39.59375 26.953125 \nQ 35.25 24.703125 29.984375 24.703125 \nQ 19.046875 24.703125 12.671875 31.3125 \nQ 6.296875 37.9375 6.296875 49.421875 \nQ 6.296875 60.640625 12.9375 67.421875 \nQ 19.578125 74.21875 30.609375 74.21875 \nQ 43.265625 74.21875 49.921875 64.515625 \nQ 56.59375 54.828125 56.59375 36.375 \nQ 56.59375 19.140625 48.40625 8.859375 \nQ 40.234375 -1.421875 26.421875 -1.421875 \nQ 22.703125 -1.421875 18.890625 -0.6875 \nQ 15.09375 0.046875 10.984375 1.515625 \nz\nM 30.609375 32.421875 \nQ 37.25 32.421875 41.125 36.953125 \nQ 45.015625 41.5 45.015625 49.421875 \nQ 45.015625 57.28125 41.125 61.84375 \nQ 37.25 66.40625 30.609375 66.40625 \nQ 23.96875 66.40625 20.09375 61.84375 \nQ 16.21875 57.28125 16.21875 49.421875 \nQ 16.21875 41.5 20.09375 36.953125 \nQ 23.96875 32.421875 30.609375 32.421875 \nz\n\" id=\"DejaVuSans-57\"/>\n      </defs>\n      <g style=\"fill:#555555;\" transform=\"translate(384.82231 455.078437)scale(0.1 -0.1)\">\n       <use xlink:href=\"#DejaVuSans-48\"/>\n       <use x=\"63.623047\" xlink:href=\"#DejaVuSans-57\"/>\n      </g>\n     </g>\n    </g>\n    <g id=\"xtick_37\">\n     <g id=\"line2d_42\">\n      <g>\n       <use style=\"fill:#555555;stroke:#555555;stroke-width:0.6;\" x=\"402.16186\" xlink:href=\"#m05d4f983c9\" y=\"442.08\"/>\n      </g>\n     </g>\n    </g>\n    <g id=\"xtick_38\">\n     <g id=\"line2d_43\">\n      <g>\n       <use style=\"fill:#555555;stroke:#555555;stroke-width:0.6;\" x=\"413.138909\" xlink:href=\"#m05d4f983c9\" y=\"442.08\"/>\n      </g>\n     </g>\n    </g>\n    <g id=\"xtick_39\">\n     <g id=\"line2d_44\">\n      <g>\n       <use style=\"fill:#555555;stroke:#555555;stroke-width:0.6;\" x=\"424.115958\" xlink:href=\"#m05d4f983c9\" y=\"442.08\"/>\n      </g>\n     </g>\n    </g>\n    <g id=\"xtick_40\">\n     <g id=\"line2d_45\">\n      <g>\n       <use style=\"fill:#555555;stroke:#555555;stroke-width:0.6;\" x=\"435.093007\" xlink:href=\"#m05d4f983c9\" y=\"442.08\"/>\n      </g>\n     </g>\n    </g>\n    <g id=\"xtick_41\">\n     <g id=\"line2d_46\">\n      <g>\n       <use style=\"fill:#555555;stroke:#555555;stroke-width:0.6;\" x=\"446.070056\" xlink:href=\"#m05d4f983c9\" y=\"442.08\"/>\n      </g>\n     </g>\n     <g id=\"text_9\">\n      <!-- 16 -->\n      <defs>\n       <path d=\"M 33.015625 40.375 \nQ 26.375 40.375 22.484375 35.828125 \nQ 18.609375 31.296875 18.609375 23.390625 \nQ 18.609375 15.53125 22.484375 10.953125 \nQ 26.375 6.390625 33.015625 6.390625 \nQ 39.65625 6.390625 43.53125 10.953125 \nQ 47.40625 15.53125 47.40625 23.390625 \nQ 47.40625 31.296875 43.53125 35.828125 \nQ 39.65625 40.375 33.015625 40.375 \nz\nM 52.59375 71.296875 \nL 52.59375 62.3125 \nQ 48.875 64.0625 45.09375 64.984375 \nQ 41.3125 65.921875 37.59375 65.921875 \nQ 27.828125 65.921875 22.671875 59.328125 \nQ 17.53125 52.734375 16.796875 39.40625 \nQ 19.671875 43.65625 24.015625 45.921875 \nQ 28.375 48.1875 33.59375 48.1875 \nQ 44.578125 48.1875 50.953125 41.515625 \nQ 57.328125 34.859375 57.328125 23.390625 \nQ 57.328125 12.15625 50.6875 5.359375 \nQ 44.046875 -1.421875 33.015625 -1.421875 \nQ 20.359375 -1.421875 13.671875 8.265625 \nQ 6.984375 17.96875 6.984375 36.375 \nQ 6.984375 53.65625 15.1875 63.9375 \nQ 23.390625 74.21875 37.203125 74.21875 \nQ 40.921875 74.21875 44.703125 73.484375 \nQ 48.484375 72.75 52.59375 71.296875 \nz\n\" id=\"DejaVuSans-54\"/>\n      </defs>\n      <g style=\"fill:#555555;\" transform=\"translate(439.707556 455.078437)scale(0.1 -0.1)\">\n       <use xlink:href=\"#DejaVuSans-49\"/>\n       <use x=\"63.623047\" xlink:href=\"#DejaVuSans-54\"/>\n      </g>\n     </g>\n    </g>\n    <g id=\"xtick_42\">\n     <g id=\"line2d_47\">\n      <g>\n       <use style=\"fill:#555555;stroke:#555555;stroke-width:0.6;\" x=\"457.047106\" xlink:href=\"#m05d4f983c9\" y=\"442.08\"/>\n      </g>\n     </g>\n    </g>\n    <g id=\"xtick_43\">\n     <g id=\"line2d_48\">\n      <g>\n       <use style=\"fill:#555555;stroke:#555555;stroke-width:0.6;\" x=\"468.024155\" xlink:href=\"#m05d4f983c9\" y=\"442.08\"/>\n      </g>\n     </g>\n    </g>\n    <g id=\"xtick_44\">\n     <g id=\"line2d_49\">\n      <g>\n       <use style=\"fill:#555555;stroke:#555555;stroke-width:0.6;\" x=\"479.001204\" xlink:href=\"#m05d4f983c9\" y=\"442.08\"/>\n      </g>\n     </g>\n    </g>\n    <g id=\"xtick_45\">\n     <g id=\"line2d_50\">\n      <g>\n       <use style=\"fill:#555555;stroke:#555555;stroke-width:0.6;\" x=\"489.978253\" xlink:href=\"#m05d4f983c9\" y=\"442.08\"/>\n      </g>\n     </g>\n    </g>\n    <g id=\"xtick_46\">\n     <g id=\"line2d_51\">\n      <g>\n       <use style=\"fill:#555555;stroke:#555555;stroke-width:0.6;\" x=\"500.955302\" xlink:href=\"#m05d4f983c9\" y=\"442.08\"/>\n      </g>\n     </g>\n     <g id=\"text_10\">\n      <!-- 23 -->\n      <defs>\n       <path d=\"M 40.578125 39.3125 \nQ 47.65625 37.796875 51.625 33 \nQ 55.609375 28.21875 55.609375 21.1875 \nQ 55.609375 10.40625 48.1875 4.484375 \nQ 40.765625 -1.421875 27.09375 -1.421875 \nQ 22.515625 -1.421875 17.65625 -0.515625 \nQ 12.796875 0.390625 7.625 2.203125 \nL 7.625 11.71875 \nQ 11.71875 9.328125 16.59375 8.109375 \nQ 21.484375 6.890625 26.8125 6.890625 \nQ 36.078125 6.890625 40.9375 10.546875 \nQ 45.796875 14.203125 45.796875 21.1875 \nQ 45.796875 27.640625 41.28125 31.265625 \nQ 36.765625 34.90625 28.71875 34.90625 \nL 20.21875 34.90625 \nL 20.21875 43.015625 \nL 29.109375 43.015625 \nQ 36.375 43.015625 40.234375 45.921875 \nQ 44.09375 48.828125 44.09375 54.296875 \nQ 44.09375 59.90625 40.109375 62.90625 \nQ 36.140625 65.921875 28.71875 65.921875 \nQ 24.65625 65.921875 20.015625 65.03125 \nQ 15.375 64.15625 9.8125 62.3125 \nL 9.8125 71.09375 \nQ 15.4375 72.65625 20.34375 73.4375 \nQ 25.25 74.21875 29.59375 74.21875 \nQ 40.828125 74.21875 47.359375 69.109375 \nQ 53.90625 64.015625 53.90625 55.328125 \nQ 53.90625 49.265625 50.4375 45.09375 \nQ 46.96875 40.921875 40.578125 39.3125 \nz\n\" id=\"DejaVuSans-51\"/>\n      </defs>\n      <g style=\"fill:#555555;\" transform=\"translate(494.592802 455.078437)scale(0.1 -0.1)\">\n       <use xlink:href=\"#DejaVuSans-50\"/>\n       <use x=\"63.623047\" xlink:href=\"#DejaVuSans-51\"/>\n      </g>\n     </g>\n    </g>\n    <g id=\"xtick_47\">\n     <g id=\"line2d_52\">\n      <g>\n       <use style=\"fill:#555555;stroke:#555555;stroke-width:0.6;\" x=\"511.932351\" xlink:href=\"#m05d4f983c9\" y=\"442.08\"/>\n      </g>\n     </g>\n    </g>\n    <g id=\"xtick_48\">\n     <g id=\"line2d_53\">\n      <g>\n       <use style=\"fill:#555555;stroke:#555555;stroke-width:0.6;\" x=\"522.909401\" xlink:href=\"#m05d4f983c9\" y=\"442.08\"/>\n      </g>\n     </g>\n    </g>\n    <g id=\"xtick_49\">\n     <g id=\"line2d_54\">\n      <g>\n       <use style=\"fill:#555555;stroke:#555555;stroke-width:0.6;\" x=\"533.88645\" xlink:href=\"#m05d4f983c9\" y=\"442.08\"/>\n      </g>\n     </g>\n    </g>\n    <g id=\"xtick_50\">\n     <g id=\"line2d_55\">\n      <g>\n       <use style=\"fill:#555555;stroke:#555555;stroke-width:0.6;\" x=\"544.863499\" xlink:href=\"#m05d4f983c9\" y=\"442.08\"/>\n      </g>\n     </g>\n    </g>\n    <g id=\"xtick_51\">\n     <g id=\"line2d_56\">\n      <g>\n       <use style=\"fill:#555555;stroke:#555555;stroke-width:0.6;\" x=\"555.840548\" xlink:href=\"#m05d4f983c9\" y=\"442.08\"/>\n      </g>\n     </g>\n     <g id=\"text_11\">\n      <!-- 30 -->\n      <g style=\"fill:#555555;\" transform=\"translate(549.478048 455.078437)scale(0.1 -0.1)\">\n       <use xlink:href=\"#DejaVuSans-51\"/>\n       <use x=\"63.623047\" xlink:href=\"#DejaVuSans-48\"/>\n      </g>\n     </g>\n    </g>\n    <g id=\"xtick_52\">\n     <g id=\"line2d_57\">\n      <g>\n       <use style=\"fill:#555555;stroke:#555555;stroke-width:0.6;\" x=\"566.817597\" xlink:href=\"#m05d4f983c9\" y=\"442.08\"/>\n      </g>\n     </g>\n    </g>\n    <g id=\"xtick_53\">\n     <g id=\"line2d_58\">\n      <g>\n       <use style=\"fill:#555555;stroke:#555555;stroke-width:0.6;\" x=\"588.771696\" xlink:href=\"#m05d4f983c9\" y=\"442.08\"/>\n      </g>\n     </g>\n    </g>\n    <g id=\"xtick_54\">\n     <g id=\"line2d_59\">\n      <g>\n       <use style=\"fill:#555555;stroke:#555555;stroke-width:0.6;\" x=\"599.748745\" xlink:href=\"#m05d4f983c9\" y=\"442.08\"/>\n      </g>\n     </g>\n    </g>\n    <g id=\"xtick_55\">\n     <g id=\"line2d_60\">\n      <g>\n       <use style=\"fill:#555555;stroke:#555555;stroke-width:0.6;\" x=\"610.725794\" xlink:href=\"#m05d4f983c9\" y=\"442.08\"/>\n      </g>\n     </g>\n     <g id=\"text_12\">\n      <!-- 06 -->\n      <g style=\"fill:#555555;\" transform=\"translate(604.363294 455.078437)scale(0.1 -0.1)\">\n       <use xlink:href=\"#DejaVuSans-48\"/>\n       <use x=\"63.623047\" xlink:href=\"#DejaVuSans-54\"/>\n      </g>\n     </g>\n    </g>\n    <g id=\"xtick_56\">\n     <g id=\"line2d_61\">\n      <g>\n       <use style=\"fill:#555555;stroke:#555555;stroke-width:0.6;\" x=\"621.702843\" xlink:href=\"#m05d4f983c9\" y=\"442.08\"/>\n      </g>\n     </g>\n    </g>\n    <g id=\"xtick_57\">\n     <g id=\"line2d_62\">\n      <g>\n       <use style=\"fill:#555555;stroke:#555555;stroke-width:0.6;\" x=\"632.679892\" xlink:href=\"#m05d4f983c9\" y=\"442.08\"/>\n      </g>\n     </g>\n    </g>\n    <g id=\"xtick_58\">\n     <g id=\"line2d_63\">\n      <g>\n       <use style=\"fill:#555555;stroke:#555555;stroke-width:0.6;\" x=\"643.656942\" xlink:href=\"#m05d4f983c9\" y=\"442.08\"/>\n      </g>\n     </g>\n    </g>\n    <g id=\"xtick_59\">\n     <g id=\"line2d_64\">\n      <g>\n       <use style=\"fill:#555555;stroke:#555555;stroke-width:0.6;\" x=\"654.633991\" xlink:href=\"#m05d4f983c9\" y=\"442.08\"/>\n      </g>\n     </g>\n    </g>\n    <g id=\"xtick_60\">\n     <g id=\"line2d_65\">\n      <g>\n       <use style=\"fill:#555555;stroke:#555555;stroke-width:0.6;\" x=\"665.61104\" xlink:href=\"#m05d4f983c9\" y=\"442.08\"/>\n      </g>\n     </g>\n     <g id=\"text_13\">\n      <!-- 13 -->\n      <g style=\"fill:#555555;\" transform=\"translate(659.24854 455.078437)scale(0.1 -0.1)\">\n       <use xlink:href=\"#DejaVuSans-49\"/>\n       <use x=\"63.623047\" xlink:href=\"#DejaVuSans-51\"/>\n      </g>\n     </g>\n    </g>\n    <g id=\"xtick_61\">\n     <g id=\"line2d_66\">\n      <g>\n       <use style=\"fill:#555555;stroke:#555555;stroke-width:0.6;\" x=\"676.588089\" xlink:href=\"#m05d4f983c9\" y=\"442.08\"/>\n      </g>\n     </g>\n    </g>\n    <g id=\"xtick_62\">\n     <g id=\"line2d_67\">\n      <g>\n       <use style=\"fill:#555555;stroke:#555555;stroke-width:0.6;\" x=\"687.565138\" xlink:href=\"#m05d4f983c9\" y=\"442.08\"/>\n      </g>\n     </g>\n    </g>\n    <g id=\"text_14\">\n     <!-- Date -->\n     <defs>\n      <path d=\"M 19.671875 64.796875 \nL 19.671875 8.109375 \nL 31.59375 8.109375 \nQ 46.6875 8.109375 53.6875 14.9375 \nQ 60.6875 21.78125 60.6875 36.53125 \nQ 60.6875 51.171875 53.6875 57.984375 \nQ 46.6875 64.796875 31.59375 64.796875 \nz\nM 9.8125 72.90625 \nL 30.078125 72.90625 \nQ 51.265625 72.90625 61.171875 64.09375 \nQ 71.09375 55.28125 71.09375 36.53125 \nQ 71.09375 17.671875 61.125 8.828125 \nQ 51.171875 0 30.078125 0 \nL 9.8125 0 \nz\n\" id=\"DejaVuSans-68\"/>\n      <path d=\"M 18.3125 70.21875 \nL 18.3125 54.6875 \nL 36.8125 54.6875 \nL 36.8125 47.703125 \nL 18.3125 47.703125 \nL 18.3125 18.015625 \nQ 18.3125 11.328125 20.140625 9.421875 \nQ 21.96875 7.515625 27.59375 7.515625 \nL 36.8125 7.515625 \nL 36.8125 0 \nL 27.59375 0 \nQ 17.1875 0 13.234375 3.875 \nQ 9.28125 7.765625 9.28125 18.015625 \nL 9.28125 47.703125 \nL 2.6875 47.703125 \nL 2.6875 54.6875 \nL 9.28125 54.6875 \nL 9.28125 70.21875 \nz\n\" id=\"DejaVuSans-116\"/>\n     </defs>\n     <g style=\"fill:#555555;\" transform=\"translate(349.40125 505.469687)scale(0.12 -0.12)\">\n      <use xlink:href=\"#DejaVuSans-68\"/>\n      <use x=\"77.001953\" xlink:href=\"#DejaVuSans-97\"/>\n      <use x=\"138.28125\" xlink:href=\"#DejaVuSans-116\"/>\n      <use x=\"177.490234\" xlink:href=\"#DejaVuSans-101\"/>\n     </g>\n    </g>\n   </g>\n   <g id=\"matplotlib.axis_2\">\n    <g id=\"ytick_1\">\n     <g id=\"line2d_68\">\n      <path clip-path=\"url(#p6d4757dbda)\" d=\"M 28.942188 421.551716 \nL 698.542188 421.551716 \n\" style=\"fill:none;stroke:#ffffff;stroke-linecap:square;stroke-width:0.8;\"/>\n     </g>\n     <g id=\"line2d_69\">\n      <defs>\n       <path d=\"M 0 0 \nL -3.5 0 \n\" id=\"mcd06ec5764\" style=\"stroke:#555555;stroke-width:0.8;\"/>\n      </defs>\n      <g>\n       <use style=\"fill:#555555;stroke:#555555;stroke-width:0.8;\" x=\"28.942188\" xlink:href=\"#mcd06ec5764\" y=\"421.551716\"/>\n      </g>\n     </g>\n     <g id=\"text_15\">\n      <!-- −4 -->\n      <defs>\n       <path d=\"M 10.59375 35.5 \nL 73.1875 35.5 \nL 73.1875 27.203125 \nL 10.59375 27.203125 \nz\n\" id=\"DejaVuSans-8722\"/>\n      </defs>\n      <g style=\"fill:#555555;\" transform=\"translate(7.2 425.350934)scale(0.1 -0.1)\">\n       <use xlink:href=\"#DejaVuSans-8722\"/>\n       <use x=\"83.789062\" xlink:href=\"#DejaVuSans-52\"/>\n      </g>\n     </g>\n    </g>\n    <g id=\"ytick_2\">\n     <g id=\"line2d_70\">\n      <path clip-path=\"url(#p6d4757dbda)\" d=\"M 28.942188 351.808624 \nL 698.542188 351.808624 \n\" style=\"fill:none;stroke:#ffffff;stroke-linecap:square;stroke-width:0.8;\"/>\n     </g>\n     <g id=\"line2d_71\">\n      <g>\n       <use style=\"fill:#555555;stroke:#555555;stroke-width:0.8;\" x=\"28.942188\" xlink:href=\"#mcd06ec5764\" y=\"351.808624\"/>\n      </g>\n     </g>\n     <g id=\"text_16\">\n      <!-- −3 -->\n      <g style=\"fill:#555555;\" transform=\"translate(7.2 355.607842)scale(0.1 -0.1)\">\n       <use xlink:href=\"#DejaVuSans-8722\"/>\n       <use x=\"83.789062\" xlink:href=\"#DejaVuSans-51\"/>\n      </g>\n     </g>\n    </g>\n    <g id=\"ytick_3\">\n     <g id=\"line2d_72\">\n      <path clip-path=\"url(#p6d4757dbda)\" d=\"M 28.942188 282.065532 \nL 698.542188 282.065532 \n\" style=\"fill:none;stroke:#ffffff;stroke-linecap:square;stroke-width:0.8;\"/>\n     </g>\n     <g id=\"line2d_73\">\n      <g>\n       <use style=\"fill:#555555;stroke:#555555;stroke-width:0.8;\" x=\"28.942188\" xlink:href=\"#mcd06ec5764\" y=\"282.065532\"/>\n      </g>\n     </g>\n     <g id=\"text_17\">\n      <!-- −2 -->\n      <g style=\"fill:#555555;\" transform=\"translate(7.2 285.86475)scale(0.1 -0.1)\">\n       <use xlink:href=\"#DejaVuSans-8722\"/>\n       <use x=\"83.789062\" xlink:href=\"#DejaVuSans-50\"/>\n      </g>\n     </g>\n    </g>\n    <g id=\"ytick_4\">\n     <g id=\"line2d_74\">\n      <path clip-path=\"url(#p6d4757dbda)\" d=\"M 28.942188 212.32244 \nL 698.542188 212.32244 \n\" style=\"fill:none;stroke:#ffffff;stroke-linecap:square;stroke-width:0.8;\"/>\n     </g>\n     <g id=\"line2d_75\">\n      <g>\n       <use style=\"fill:#555555;stroke:#555555;stroke-width:0.8;\" x=\"28.942188\" xlink:href=\"#mcd06ec5764\" y=\"212.32244\"/>\n      </g>\n     </g>\n     <g id=\"text_18\">\n      <!-- −1 -->\n      <g style=\"fill:#555555;\" transform=\"translate(7.2 216.121658)scale(0.1 -0.1)\">\n       <use xlink:href=\"#DejaVuSans-8722\"/>\n       <use x=\"83.789062\" xlink:href=\"#DejaVuSans-49\"/>\n      </g>\n     </g>\n    </g>\n    <g id=\"ytick_5\">\n     <g id=\"line2d_76\">\n      <path clip-path=\"url(#p6d4757dbda)\" d=\"M 28.942188 142.579348 \nL 698.542188 142.579348 \n\" style=\"fill:none;stroke:#ffffff;stroke-linecap:square;stroke-width:0.8;\"/>\n     </g>\n     <g id=\"line2d_77\">\n      <g>\n       <use style=\"fill:#555555;stroke:#555555;stroke-width:0.8;\" x=\"28.942188\" xlink:href=\"#mcd06ec5764\" y=\"142.579348\"/>\n      </g>\n     </g>\n     <g id=\"text_19\">\n      <!-- 0 -->\n      <g style=\"fill:#555555;\" transform=\"translate(15.579688 146.378566)scale(0.1 -0.1)\">\n       <use xlink:href=\"#DejaVuSans-48\"/>\n      </g>\n     </g>\n    </g>\n    <g id=\"ytick_6\">\n     <g id=\"line2d_78\">\n      <path clip-path=\"url(#p6d4757dbda)\" d=\"M 28.942188 72.836256 \nL 698.542188 72.836256 \n\" style=\"fill:none;stroke:#ffffff;stroke-linecap:square;stroke-width:0.8;\"/>\n     </g>\n     <g id=\"line2d_79\">\n      <g>\n       <use style=\"fill:#555555;stroke:#555555;stroke-width:0.8;\" x=\"28.942188\" xlink:href=\"#mcd06ec5764\" y=\"72.836256\"/>\n      </g>\n     </g>\n     <g id=\"text_20\">\n      <!-- 1 -->\n      <g style=\"fill:#555555;\" transform=\"translate(15.579688 76.635475)scale(0.1 -0.1)\">\n       <use xlink:href=\"#DejaVuSans-49\"/>\n      </g>\n     </g>\n    </g>\n   </g>\n   <g id=\"line2d_80\">\n    <path clip-path=\"url(#p6d4757dbda)\" d=\"M 28.942188 31.772199 \nL 39.919237 42.706687 \nL 50.896286 40.049469 \nL 61.873335 56.696256 \nL 72.850384 58.396704 \nL 83.827433 63.075518 \nL 94.804483 80.978794 \nL 105.781532 90.576746 \nL 116.758581 89.026122 \nL 127.73563 72.710938 \nL 138.712679 63.652488 \nL 149.689728 43.900569 \nL 160.666778 49.194789 \nL 171.643827 52.220462 \nL 182.620876 44.100527 \nL 193.597925 35.153556 \nL 204.574974 39.535964 \nL 215.552024 40.122496 \nL 226.529073 39.444475 \nL 237.506122 51.946365 \nL 248.483171 44.341931 \nL 259.46022 48.364291 \nL 270.437269 58.961247 \nL 281.414319 90.827166 \nL 292.391368 108.101146 \nL 303.368417 113.993107 \nL 314.345466 140.51722 \nL 325.322515 172.890413 \nL 336.299565 157.082368 \nL 347.276614 160.282228 \nL 358.253663 144.450622 \nL 369.230712 146.98392 \nL 380.207761 177.992058 \nL 391.18481 244.722445 \nL 402.16186 233.028314 \nL 413.138909 254.998841 \nL 424.115958 327.192489 \nL 435.093007 326.497504 \nL 446.070056 376.955191 \nL 457.047106 363.512251 \nL 468.024155 401.870663 \nL 479.001204 414.391313 \nL 489.978253 394.502608 \nL 500.955302 422.312727 \nL 511.932351 356.744844 \nL 522.909401 313.977004 \nL 533.88645 309.449247 \nL 544.863499 318.092581 \nL 555.840548 316.166457 \nL 566.817597 309.043159 \nL 577.794647 345.084995 \nL 588.771696 337.269546 \nL 599.748745 343.629224 \nL 610.725794 305.651881 \nL 621.702843 288.992126 \nL 632.679892 284.281158 \nL 643.656942 269.910306 \nL 654.633991 266.386173 \nL 665.61104 275.322294 \nL 676.588089 261.882786 \nL 687.565138 279.252845 \nL 698.542188 284.137913 \n\" style=\"fill:none;stroke:#e24a33;stroke-linecap:square;stroke-width:1.5;\"/>\n   </g>\n   <g id=\"line2d_81\">\n    <path clip-path=\"url(#p6d4757dbda)\" d=\"M 28.942188 166.453457 \nL 39.919237 166.449408 \nL 50.896286 166.434847 \nL 50.896286 166.408585 \nL 50.896286 166.376687 \nL 61.873335 166.333733 \nL 72.850384 166.213019 \nL 83.827433 166.191155 \nL 94.804483 166.097112 \nL 105.781532 166.014092 \nL 105.781532 165.914102 \nL 105.781532 165.689428 \nL 116.758581 165.544771 \nL 127.73563 165.366634 \nL 138.712679 165.194637 \nL 149.689728 165.044363 \nL 160.666778 164.870322 \nL 160.666778 164.725815 \nL 160.666778 164.563485 \nL 171.643827 164.412035 \nL 182.620876 164.284654 \nL 193.597925 164.267094 \nL 204.574974 163.592305 \nL 215.552024 163.278088 \nL 215.552024 163.123192 \nL 215.552024 162.98816 \nL 226.529073 162.862097 \nL 237.506122 162.718842 \nL 248.483171 162.637414 \nL 259.46022 162.548508 \nL 270.437269 162.524336 \nL 270.437269 162.347845 \nL 270.437269 162.328128 \nL 281.414319 162.218255 \nL 292.391368 162.144686 \nL 303.368417 162.075693 \nL 314.345466 162.003392 \nL 325.322515 161.923058 \nL 325.322515 161.817817 \nL 325.322515 161.704125 \nL 336.299565 161.58647 \nL 347.276614 161.455491 \nL 358.253663 161.322959 \nL 369.230712 161.173271 \nL 380.207761 160.973055 \nL 380.207761 160.775966 \nL 380.207761 160.500584 \nL 391.18481 160.264551 \nL 402.16186 159.935281 \nL 413.138909 159.483725 \nL 424.115958 159.338149 \nL 435.093007 158.364507 \nL 435.093007 157.750091 \nL 435.093007 157.005488 \nL 446.070056 156.127218 \nL 457.047106 155.147752 \nL 468.024155 154.063812 \nL 479.001204 152.456375 \nL 489.978253 150.617264 \nL 489.978253 148.550228 \nL 489.978253 146.475788 \nL 500.955302 143.99198 \nL 511.932351 141.412861 \nL 522.909401 138.24646 \nL 533.88645 134.515788 \nL 544.863499 130.479857 \nL 544.863499 126.188112 \nL 544.863499 122.277404 \nL 555.840548 118.055175 \nL 566.817597 112.898777 \nL 577.794647 107.643676 \nL 588.771696 101.370847 \nL 599.748745 95.246744 \nL 599.748745 88.442193 \nL 599.748745 83.165059 \nL 610.725794 77.714479 \nL 621.702843 70.813497 \nL 632.679892 64.228728 \nL 643.656942 57.314301 \nL 654.633991 49.997934 \nL 654.633991 43.871255 \nL 654.633991 38.12395 \nL 665.61104 32.645456 \nL 676.588089 26.967273 \n\" style=\"fill:none;stroke:#348abd;stroke-linecap:square;stroke-width:1.5;\"/>\n   </g>\n   <g id=\"patch_3\">\n    <path d=\"M 28.942188 442.08 \nL 28.942188 7.2 \n\" style=\"fill:none;stroke:#ffffff;stroke-linecap:square;stroke-linejoin:miter;\"/>\n   </g>\n   <g id=\"patch_4\">\n    <path d=\"M 698.542188 442.08 \nL 698.542188 7.2 \n\" style=\"fill:none;stroke:#ffffff;stroke-linecap:square;stroke-linejoin:miter;\"/>\n   </g>\n   <g id=\"patch_5\">\n    <path d=\"M 28.942188 442.08 \nL 698.542188 442.08 \n\" style=\"fill:none;stroke:#ffffff;stroke-linecap:square;stroke-linejoin:miter;\"/>\n   </g>\n   <g id=\"patch_6\">\n    <path d=\"M 28.942188 7.2 \nL 698.542188 7.2 \n\" style=\"fill:none;stroke:#ffffff;stroke-linecap:square;stroke-linejoin:miter;\"/>\n   </g>\n  </g>\n </g>\n <defs>\n  <clipPath id=\"p6d4757dbda\">\n   <rect height=\"434.88\" width=\"669.6\" x=\"28.942188\" y=\"7.2\"/>\n  </clipPath>\n </defs>\n</svg>\n"
          },
          "metadata": {
            "tags": []
          }
        }
      ]
    }
  ]
}
