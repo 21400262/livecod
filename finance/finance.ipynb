{
  "nbformat": 4,
  "nbformat_minor": 0,
  "metadata": {
    "colab": {
      "name": "finance.ipynb",
      "provenance": [],
      "collapsed_sections": []
    },
    "kernelspec": {
      "name": "python3",
      "display_name": "Python 3"
    }
  },
  "cells": [
    {
      "cell_type": "markdown",
      "metadata": {
        "id": "kS1Jp6FkhvIy",
        "colab_type": "text"
      },
      "source": [
        "[![Open In Colab](https://colab.research.google.com/assets/colab-badge.svg)](https://colab.research.google.com/github/LiveCoronaDetector/livecod/blob/master/finance/finance.ipynb)\n",
        "\n",
        "\n",
        "# Financial Analysis\n",
        "\n",
        "본 노트북은 [Live Corona Map](https://github.com/LiveCoronaDetector/livecod/) 프로젝트에 향후 추가할 계획인 금융 분석 시각화를 위해 만들어졌습니다.\n"
      ]
    },
    {
      "cell_type": "markdown",
      "metadata": {
        "id": "Z0FXixaGiOWK",
        "colab_type": "text"
      },
      "source": [
        "# Setup\n",
        "\n",
        "필요한 모듈을 임포트해옵니다. (프로젝트의 진행에 따라 추가, 변경될 수 있습니다.)"
      ]
    },
    {
      "cell_type": "code",
      "metadata": {
        "id": "JN3rk3xKiYED",
        "colab_type": "code",
        "outputId": "685f5cb5-fee6-473d-fe6a-5c419f861e73",
        "colab": {
          "base_uri": "https://localhost:8080/",
          "height": 34
        }
      },
      "source": [
        "!pip install --quiet yfinance"
      ],
      "execution_count": 0,
      "outputs": [
        {
          "output_type": "stream",
          "text": [
            "  Building wheel for yfinance (setup.py) ... \u001b[?25l\u001b[?25hdone\n"
          ],
          "name": "stdout"
        }
      ]
    },
    {
      "cell_type": "code",
      "metadata": {
        "id": "-k3KpMh5i-4f",
        "colab_type": "code",
        "colab": {}
      },
      "source": [
        "import pandas as pd\n",
        "import numpy as np\n",
        "import yfinance as yf\n",
        "import matplotlib.pyplot as plt\n",
        "from datetime import datetime"
      ],
      "execution_count": 0,
      "outputs": []
    },
    {
      "cell_type": "code",
      "metadata": {
        "id": "6RQmL030uHnU",
        "colab_type": "code",
        "colab": {}
      },
      "source": [
        "%matplotlib inline\n",
        "%config InlineBackend.figure_format = 'svg'\n",
        "plt.rcParams['figure.figsize'] = [15, 10]"
      ],
      "execution_count": 0,
      "outputs": []
    },
    {
      "cell_type": "markdown",
      "metadata": {
        "id": "rm00YenIrNp1",
        "colab_type": "text"
      },
      "source": [
        "# Fetch Data\n",
        "\n",
        "`yfinance` API를 이용해 데이터셋을 구축합니다."
      ]
    },
    {
      "cell_type": "code",
      "metadata": {
        "id": "IZVG4qMfqIY2",
        "colab_type": "code",
        "colab": {}
      },
      "source": [
        "TICKERS = [\"^KS11\", \"^GSPC\", \"^N225\", \"^HSI\", \"^N100\", \"^FTSE\"] \n",
        "START = datetime(2019, 12, 1)"
      ],
      "execution_count": 0,
      "outputs": []
    },
    {
      "cell_type": "code",
      "metadata": {
        "id": "AmbBD43XrkD3",
        "colab_type": "code",
        "colab": {}
      },
      "source": [
        "def get_data(tickers, start, end=datetime.today()):\n",
        "    raw_data = yf.download(tickers, start, end)\n",
        "    df = raw_data.loc[:, 'Adj Close']\n",
        "    df.reset_index(inplace=True)\n",
        "    df.columns = df.columns.str.replace('^', '')\n",
        "    df.set_index('Date', inplace=True)\n",
        "    return df"
      ],
      "execution_count": 0,
      "outputs": []
    },
    {
      "cell_type": "code",
      "metadata": {
        "id": "7s02iTSkr3nF",
        "colab_type": "code",
        "outputId": "a226f23d-e54b-49ca-dc62-03f6f967c157",
        "colab": {
          "base_uri": "https://localhost:8080/",
          "height": 34
        }
      },
      "source": [
        "data = get_data(TICKERS, START)"
      ],
      "execution_count": 083,
      "outputs": [
        {
          "output_type": "stream",
          "text": [
            "[*********************100%***********************]  6 of 6 completed\n"
          ],
          "name": "stdout"
        }
      ]
    },
    {
      "cell_type": "code",
      "metadata": {
        "id": "eidf0WBksF2Z",
        "colab_type": "code",
        "outputId": "eaa836b7-c3d2-45f9-d66a-a436d309a95d",
        "colab": {
          "base_uri": "https://localhost:8080/",
          "height": 390
        }
      },
      "source": [
        "data.tail(10)"
      ],
      "execution_count": 084,
      "outputs": [
        {
          "output_type": "execute_result",
          "data": {
            "text/html": [
              "<div>\n",
              "<style scoped>\n",
              "    .dataframe tbody tr th:only-of-type {\n",
              "        vertical-align: middle;\n",
              "    }\n",
              "\n",
              "    .dataframe tbody tr th {\n",
              "        vertical-align: top;\n",
              "    }\n",
              "\n",
              "    .dataframe thead th {\n",
              "        text-align: right;\n",
              "    }\n",
              "</style>\n",
              "<table border=\"1\" class=\"dataframe\">\n",
              "  <thead>\n",
              "    <tr style=\"text-align: right;\">\n",
              "      <th></th>\n",
              "      <th>FTSE</th>\n",
              "      <th>GSPC</th>\n",
              "      <th>HSI</th>\n",
              "      <th>KS11</th>\n",
              "      <th>N100</th>\n",
              "      <th>N225</th>\n",
              "    </tr>\n",
              "    <tr>\n",
              "      <th>Date</th>\n",
              "      <th></th>\n",
              "      <th></th>\n",
              "      <th></th>\n",
              "      <th></th>\n",
              "      <th></th>\n",
              "      <th></th>\n",
              "    </tr>\n",
              "  </thead>\n",
              "  <tbody>\n",
              "    <tr>\n",
              "      <th>2020-04-02</th>\n",
              "      <td>5480.200195</td>\n",
              "      <td>2526.899902</td>\n",
              "      <td>23280.060547</td>\n",
              "      <td>1724.859985</td>\n",
              "      <td>832.840027</td>\n",
              "      <td>17818.720703</td>\n",
              "    </tr>\n",
              "    <tr>\n",
              "      <th>2020-04-03</th>\n",
              "      <td>5415.500000</td>\n",
              "      <td>2488.649902</td>\n",
              "      <td>23236.109375</td>\n",
              "      <td>1725.439941</td>\n",
              "      <td>819.979980</td>\n",
              "      <td>17820.189453</td>\n",
              "    </tr>\n",
              "    <tr>\n",
              "      <th>2020-04-06</th>\n",
              "      <td>5582.399902</td>\n",
              "      <td>2663.679932</td>\n",
              "      <td>23749.119141</td>\n",
              "      <td>1791.880005</td>\n",
              "      <td>854.820007</td>\n",
              "      <td>18576.300781</td>\n",
              "    </tr>\n",
              "    <tr>\n",
              "      <th>2020-04-07</th>\n",
              "      <td>5704.500000</td>\n",
              "      <td>2659.409912</td>\n",
              "      <td>24253.289062</td>\n",
              "      <td>1823.599976</td>\n",
              "      <td>872.619995</td>\n",
              "      <td>18950.179688</td>\n",
              "    </tr>\n",
              "    <tr>\n",
              "      <th>2020-04-08</th>\n",
              "      <td>5677.700195</td>\n",
              "      <td>2749.979980</td>\n",
              "      <td>23970.369141</td>\n",
              "      <td>1807.140015</td>\n",
              "      <td>874.390015</td>\n",
              "      <td>19353.240234</td>\n",
              "    </tr>\n",
              "    <tr>\n",
              "      <th>2020-04-09</th>\n",
              "      <td>5842.700195</td>\n",
              "      <td>2789.820068</td>\n",
              "      <td>24300.330078</td>\n",
              "      <td>1836.209961</td>\n",
              "      <td>887.869995</td>\n",
              "      <td>19345.769531</td>\n",
              "    </tr>\n",
              "    <tr>\n",
              "      <th>2020-04-10</th>\n",
              "      <td>NaN</td>\n",
              "      <td>NaN</td>\n",
              "      <td>NaN</td>\n",
              "      <td>1860.699951</td>\n",
              "      <td>NaN</td>\n",
              "      <td>19498.500000</td>\n",
              "    </tr>\n",
              "    <tr>\n",
              "      <th>2020-04-13</th>\n",
              "      <td>NaN</td>\n",
              "      <td>2761.629883</td>\n",
              "      <td>NaN</td>\n",
              "      <td>1825.760010</td>\n",
              "      <td>NaN</td>\n",
              "      <td>19043.400391</td>\n",
              "    </tr>\n",
              "    <tr>\n",
              "      <th>2020-04-14</th>\n",
              "      <td>5791.299805</td>\n",
              "      <td>2846.060059</td>\n",
              "      <td>24435.400391</td>\n",
              "      <td>1857.079956</td>\n",
              "      <td>888.890015</td>\n",
              "      <td>19638.810547</td>\n",
              "    </tr>\n",
              "    <tr>\n",
              "      <th>2020-04-15</th>\n",
              "      <td>5625.189941</td>\n",
              "      <td>NaN</td>\n",
              "      <td>24145.339844</td>\n",
              "      <td>NaN</td>\n",
              "      <td>866.280029</td>\n",
              "      <td>19550.089844</td>\n",
              "    </tr>\n",
              "  </tbody>\n",
              "</table>\n",
              "</div>"
            ],
            "text/plain": [
              "                   FTSE         GSPC  ...        N100          N225\n",
              "Date                                  ...                          \n",
              "2020-04-02  5480.200195  2526.899902  ...  832.840027  17818.720703\n",
              "2020-04-03  5415.500000  2488.649902  ...  819.979980  17820.189453\n",
              "2020-04-06  5582.399902  2663.679932  ...  854.820007  18576.300781\n",
              "2020-04-07  5704.500000  2659.409912  ...  872.619995  18950.179688\n",
              "2020-04-08  5677.700195  2749.979980  ...  874.390015  19353.240234\n",
              "2020-04-09  5842.700195  2789.820068  ...  887.869995  19345.769531\n",
              "2020-04-10          NaN          NaN  ...         NaN  19498.500000\n",
              "2020-04-13          NaN  2761.629883  ...         NaN  19043.400391\n",
              "2020-04-14  5791.299805  2846.060059  ...  888.890015  19638.810547\n",
              "2020-04-15  5625.189941          NaN  ...  866.280029  19550.089844\n",
              "\n",
              "[10 rows x 6 columns]"
            ]
          },
          "metadata": {
            "tags": []
          },
          "execution_count": 084
        }
      ]
    },
    {
      "cell_type": "code",
      "metadata": {
        "id": "V096KGHFzElc",
        "colab_type": "code",
        "colab": {
          "base_uri": "https://localhost:8080/",
          "height": 450
        },
        "outputId": "77227875-fd9a-4262-e13c-4294b95cd7d5"
      },
      "source": [
        "data_na = data.fillna(method='ffill')\n",
        "data_na"
      ],
      "execution_count": 085,
      "outputs": [
        {
          "output_type": "execute_result",
          "data": {
            "text/html": [
              "<div>\n",
              "<style scoped>\n",
              "    .dataframe tbody tr th:only-of-type {\n",
              "        vertical-align: middle;\n",
              "    }\n",
              "\n",
              "    .dataframe tbody tr th {\n",
              "        vertical-align: top;\n",
              "    }\n",
              "\n",
              "    .dataframe thead th {\n",
              "        text-align: right;\n",
              "    }\n",
              "</style>\n",
              "<table border=\"1\" class=\"dataframe\">\n",
              "  <thead>\n",
              "    <tr style=\"text-align: right;\">\n",
              "      <th></th>\n",
              "      <th>FTSE</th>\n",
              "      <th>GSPC</th>\n",
              "      <th>HSI</th>\n",
              "      <th>KS11</th>\n",
              "      <th>N100</th>\n",
              "      <th>N225</th>\n",
              "    </tr>\n",
              "    <tr>\n",
              "      <th>Date</th>\n",
              "      <th></th>\n",
              "      <th></th>\n",
              "      <th></th>\n",
              "      <th></th>\n",
              "      <th></th>\n",
              "      <th></th>\n",
              "    </tr>\n",
              "  </thead>\n",
              "  <tbody>\n",
              "    <tr>\n",
              "      <th>2019-12-02</th>\n",
              "      <td>7285.899902</td>\n",
              "      <td>3113.870117</td>\n",
              "      <td>26444.720703</td>\n",
              "      <td>2091.919922</td>\n",
              "      <td>1110.430054</td>\n",
              "      <td>23529.500000</td>\n",
              "    </tr>\n",
              "    <tr>\n",
              "      <th>2019-12-03</th>\n",
              "      <td>7158.799805</td>\n",
              "      <td>3093.199951</td>\n",
              "      <td>26391.300781</td>\n",
              "      <td>2084.070068</td>\n",
              "      <td>1100.839966</td>\n",
              "      <td>23379.810547</td>\n",
              "    </tr>\n",
              "    <tr>\n",
              "      <th>2019-12-04</th>\n",
              "      <td>7188.500000</td>\n",
              "      <td>3112.760010</td>\n",
              "      <td>26062.560547</td>\n",
              "      <td>2068.889893</td>\n",
              "      <td>1113.849976</td>\n",
              "      <td>23135.230469</td>\n",
              "    </tr>\n",
              "    <tr>\n",
              "      <th>2019-12-05</th>\n",
              "      <td>7137.899902</td>\n",
              "      <td>3117.429932</td>\n",
              "      <td>26217.039062</td>\n",
              "      <td>2060.739990</td>\n",
              "      <td>1113.650024</td>\n",
              "      <td>23300.089844</td>\n",
              "    </tr>\n",
              "    <tr>\n",
              "      <th>2019-12-06</th>\n",
              "      <td>7239.700195</td>\n",
              "      <td>3145.909912</td>\n",
              "      <td>26498.369141</td>\n",
              "      <td>2081.850098</td>\n",
              "      <td>1127.989990</td>\n",
              "      <td>23354.400391</td>\n",
              "    </tr>\n",
              "    <tr>\n",
              "      <th>...</th>\n",
              "      <td>...</td>\n",
              "      <td>...</td>\n",
              "      <td>...</td>\n",
              "      <td>...</td>\n",
              "      <td>...</td>\n",
              "      <td>...</td>\n",
              "    </tr>\n",
              "    <tr>\n",
              "      <th>2020-04-09</th>\n",
              "      <td>5842.700195</td>\n",
              "      <td>2789.820068</td>\n",
              "      <td>24300.330078</td>\n",
              "      <td>1836.209961</td>\n",
              "      <td>887.869995</td>\n",
              "      <td>19345.769531</td>\n",
              "    </tr>\n",
              "    <tr>\n",
              "      <th>2020-04-10</th>\n",
              "      <td>5842.700195</td>\n",
              "      <td>2789.820068</td>\n",
              "      <td>24300.330078</td>\n",
              "      <td>1860.699951</td>\n",
              "      <td>887.869995</td>\n",
              "      <td>19498.500000</td>\n",
              "    </tr>\n",
              "    <tr>\n",
              "      <th>2020-04-13</th>\n",
              "      <td>5842.700195</td>\n",
              "      <td>2761.629883</td>\n",
              "      <td>24300.330078</td>\n",
              "      <td>1825.760010</td>\n",
              "      <td>887.869995</td>\n",
              "      <td>19043.400391</td>\n",
              "    </tr>\n",
              "    <tr>\n",
              "      <th>2020-04-14</th>\n",
              "      <td>5791.299805</td>\n",
              "      <td>2846.060059</td>\n",
              "      <td>24435.400391</td>\n",
              "      <td>1857.079956</td>\n",
              "      <td>888.890015</td>\n",
              "      <td>19638.810547</td>\n",
              "    </tr>\n",
              "    <tr>\n",
              "      <th>2020-04-15</th>\n",
              "      <td>5625.189941</td>\n",
              "      <td>2846.060059</td>\n",
              "      <td>24145.339844</td>\n",
              "      <td>1857.079956</td>\n",
              "      <td>866.280029</td>\n",
              "      <td>19550.089844</td>\n",
              "    </tr>\n",
              "  </tbody>\n",
              "</table>\n",
              "<p>97 rows × 6 columns</p>\n",
              "</div>"
            ],
            "text/plain": [
              "                   FTSE         GSPC  ...         N100          N225\n",
              "Date                                  ...                           \n",
              "2019-12-02  7285.899902  3113.870117  ...  1110.430054  23529.500000\n",
              "2019-12-03  7158.799805  3093.199951  ...  1100.839966  23379.810547\n",
              "2019-12-04  7188.500000  3112.760010  ...  1113.849976  23135.230469\n",
              "2019-12-05  7137.899902  3117.429932  ...  1113.650024  23300.089844\n",
              "2019-12-06  7239.700195  3145.909912  ...  1127.989990  23354.400391\n",
              "...                 ...          ...  ...          ...           ...\n",
              "2020-04-09  5842.700195  2789.820068  ...   887.869995  19345.769531\n",
              "2020-04-10  5842.700195  2789.820068  ...   887.869995  19498.500000\n",
              "2020-04-13  5842.700195  2761.629883  ...   887.869995  19043.400391\n",
              "2020-04-14  5791.299805  2846.060059  ...   888.890015  19638.810547\n",
              "2020-04-15  5625.189941  2846.060059  ...   866.280029  19550.089844\n",
              "\n",
              "[97 rows x 6 columns]"
            ]
          },
          "metadata": {
            "tags": []
          },
          "execution_count": 085
        }
      ]
    },
    {
      "cell_type": "markdown",
      "metadata": {
        "id": "4j7eBJolvjhL",
        "colab_type": "text"
      },
      "source": [
        "# Plot Data\n",
        "\n"
      ]
    },
    {
      "cell_type": "code",
      "metadata": {
        "id": "lHI9O30hmwVA",
        "colab_type": "code",
        "colab": {}
      },
      "source": [
        "def normalize(data):\n",
        "    return data.apply(lambda x: np.log(x / x.shift(1)))"
      ],
      "execution_count": 0,
      "outputs": []
    },
    {
      "cell_type": "code",
      "metadata": {
        "id": "Emjajhi0tYOX",
        "colab_type": "code",
        "colab": {
          "base_uri": "https://localhost:8080/",
          "height": 774
        },
        "outputId": "db11b74a-03dc-4133-802c-e3bbe8d32c1d"
      },
      "source": [
        "normalize(data_na).plot()\n",
        "plt.show()\n"
      ],
      "execution_count": 086,
      "outputs": [
        {
          "output_type": "display_data",
          "data": {
            "text/plain": [
              "<Figure size 1080x720 with 1 Axes>"
            ],
            "image/svg+xml": "<?xml version=\"1.0\" encoding=\"utf-8\" standalone=\"no\"?>\n<!DOCTYPE svg PUBLIC \"-//W3C//DTD SVG 1.1//EN\"\n  \"http://www.w3.org/Graphics/SVG/1.1/DTD/svg11.dtd\">\n<!-- Created with matplotlib (https://matplotlib.org/) -->\n<svg height=\"564.790281pt\" version=\"1.1\" viewBox=\"0 0 889.045313 564.790281\" width=\"889.045313pt\" xmlns=\"http://www.w3.org/2000/svg\" xmlns:xlink=\"http://www.w3.org/1999/xlink\">\n <defs>\n  <style type=\"text/css\">\n*{stroke-linecap:butt;stroke-linejoin:round;}\n  </style>\n </defs>\n <g id=\"figure_1\">\n  <g id=\"patch_1\">\n   <path d=\"M 0 564.790281 \nL 889.045313 564.790281 \nL 889.045313 0 \nL 0 0 \nz\n\" style=\"fill:none;\"/>\n  </g>\n  <g id=\"axes_1\">\n   <g id=\"patch_2\">\n    <path d=\"M 44.845313 499.472841 \nL 881.845312 499.472841 \nL 881.845312 9.872841 \nL 44.845313 9.872841 \nz\n\" style=\"fill:#ffffff;\"/>\n   </g>\n   <g id=\"matplotlib.axis_1\">\n    <g id=\"xtick_1\">\n     <g id=\"line2d_1\">\n      <defs>\n       <path d=\"M 0 0 \nL 0 3.5 \n\" id=\"m254557d295\" style=\"stroke:#000000;stroke-width:0.8;\"/>\n      </defs>\n      <g>\n       <use style=\"stroke:#000000;stroke-width:0.8;\" x=\"71.533915\" xlink:href=\"#m254557d295\" y=\"499.472841\"/>\n      </g>\n     </g>\n     <g id=\"text_1\">\n      <!-- 2019-12-01 -->\n      <defs>\n       <path d=\"M 19.1875 8.296875 \nL 53.609375 8.296875 \nL 53.609375 0 \nL 7.328125 0 \nL 7.328125 8.296875 \nQ 12.9375 14.109375 22.625 23.890625 \nQ 32.328125 33.6875 34.8125 36.53125 \nQ 39.546875 41.84375 41.421875 45.53125 \nQ 43.3125 49.21875 43.3125 52.78125 \nQ 43.3125 58.59375 39.234375 62.25 \nQ 35.15625 65.921875 28.609375 65.921875 \nQ 23.96875 65.921875 18.8125 64.3125 \nQ 13.671875 62.703125 7.8125 59.421875 \nL 7.8125 69.390625 \nQ 13.765625 71.78125 18.9375 73 \nQ 24.125 74.21875 28.421875 74.21875 \nQ 39.75 74.21875 46.484375 68.546875 \nQ 53.21875 62.890625 53.21875 53.421875 \nQ 53.21875 48.921875 51.53125 44.890625 \nQ 49.859375 40.875 45.40625 35.40625 \nQ 44.1875 33.984375 37.640625 27.21875 \nQ 31.109375 20.453125 19.1875 8.296875 \nz\n\" id=\"DejaVuSans-50\"/>\n       <path d=\"M 31.78125 66.40625 \nQ 24.171875 66.40625 20.328125 58.90625 \nQ 16.5 51.421875 16.5 36.375 \nQ 16.5 21.390625 20.328125 13.890625 \nQ 24.171875 6.390625 31.78125 6.390625 \nQ 39.453125 6.390625 43.28125 13.890625 \nQ 47.125 21.390625 47.125 36.375 \nQ 47.125 51.421875 43.28125 58.90625 \nQ 39.453125 66.40625 31.78125 66.40625 \nz\nM 31.78125 74.21875 \nQ 44.046875 74.21875 50.515625 64.515625 \nQ 56.984375 54.828125 56.984375 36.375 \nQ 56.984375 17.96875 50.515625 8.265625 \nQ 44.046875 -1.421875 31.78125 -1.421875 \nQ 19.53125 -1.421875 13.0625 8.265625 \nQ 6.59375 17.96875 6.59375 36.375 \nQ 6.59375 54.828125 13.0625 64.515625 \nQ 19.53125 74.21875 31.78125 74.21875 \nz\n\" id=\"DejaVuSans-48\"/>\n       <path d=\"M 12.40625 8.296875 \nL 28.515625 8.296875 \nL 28.515625 63.921875 \nL 10.984375 60.40625 \nL 10.984375 69.390625 \nL 28.421875 72.90625 \nL 38.28125 72.90625 \nL 38.28125 8.296875 \nL 54.390625 8.296875 \nL 54.390625 0 \nL 12.40625 0 \nz\n\" id=\"DejaVuSans-49\"/>\n       <path d=\"M 10.984375 1.515625 \nL 10.984375 10.5 \nQ 14.703125 8.734375 18.5 7.8125 \nQ 22.3125 6.890625 25.984375 6.890625 \nQ 35.75 6.890625 40.890625 13.453125 \nQ 46.046875 20.015625 46.78125 33.40625 \nQ 43.953125 29.203125 39.59375 26.953125 \nQ 35.25 24.703125 29.984375 24.703125 \nQ 19.046875 24.703125 12.671875 31.3125 \nQ 6.296875 37.9375 6.296875 49.421875 \nQ 6.296875 60.640625 12.9375 67.421875 \nQ 19.578125 74.21875 30.609375 74.21875 \nQ 43.265625 74.21875 49.921875 64.515625 \nQ 56.59375 54.828125 56.59375 36.375 \nQ 56.59375 19.140625 48.40625 8.859375 \nQ 40.234375 -1.421875 26.421875 -1.421875 \nQ 22.703125 -1.421875 18.890625 -0.6875 \nQ 15.09375 0.046875 10.984375 1.515625 \nz\nM 30.609375 32.421875 \nQ 37.25 32.421875 41.125 36.953125 \nQ 45.015625 41.5 45.015625 49.421875 \nQ 45.015625 57.28125 41.125 61.84375 \nQ 37.25 66.40625 30.609375 66.40625 \nQ 23.96875 66.40625 20.09375 61.84375 \nQ 16.21875 57.28125 16.21875 49.421875 \nQ 16.21875 41.5 20.09375 36.953125 \nQ 23.96875 32.421875 30.609375 32.421875 \nz\n\" id=\"DejaVuSans-57\"/>\n       <path d=\"M 4.890625 31.390625 \nL 31.203125 31.390625 \nL 31.203125 23.390625 \nL 4.890625 23.390625 \nz\n\" id=\"DejaVuSans-45\"/>\n      </defs>\n      <g transform=\"translate(20.164464 542.111093)rotate(-30)scale(0.1 -0.1)\">\n       <use xlink:href=\"#DejaVuSans-50\"/>\n       <use x=\"63.623047\" xlink:href=\"#DejaVuSans-48\"/>\n       <use x=\"127.246094\" xlink:href=\"#DejaVuSans-49\"/>\n       <use x=\"190.869141\" xlink:href=\"#DejaVuSans-57\"/>\n       <use x=\"254.492188\" xlink:href=\"#DejaVuSans-45\"/>\n       <use x=\"290.576172\" xlink:href=\"#DejaVuSans-49\"/>\n       <use x=\"354.199219\" xlink:href=\"#DejaVuSans-50\"/>\n       <use x=\"417.822266\" xlink:href=\"#DejaVuSans-45\"/>\n       <use x=\"453.90625\" xlink:href=\"#DejaVuSans-48\"/>\n       <use x=\"517.529297\" xlink:href=\"#DejaVuSans-49\"/>\n      </g>\n     </g>\n    </g>\n    <g id=\"xtick_2\">\n     <g id=\"line2d_2\">\n      <g>\n       <use style=\"stroke:#000000;stroke-width:0.8;\" x=\"190.780862\" xlink:href=\"#m254557d295\" y=\"499.472841\"/>\n      </g>\n     </g>\n     <g id=\"text_2\">\n      <!-- 2019-12-22 -->\n      <g transform=\"translate(139.411411 542.111093)rotate(-30)scale(0.1 -0.1)\">\n       <use xlink:href=\"#DejaVuSans-50\"/>\n       <use x=\"63.623047\" xlink:href=\"#DejaVuSans-48\"/>\n       <use x=\"127.246094\" xlink:href=\"#DejaVuSans-49\"/>\n       <use x=\"190.869141\" xlink:href=\"#DejaVuSans-57\"/>\n       <use x=\"254.492188\" xlink:href=\"#DejaVuSans-45\"/>\n       <use x=\"290.576172\" xlink:href=\"#DejaVuSans-49\"/>\n       <use x=\"354.199219\" xlink:href=\"#DejaVuSans-50\"/>\n       <use x=\"417.822266\" xlink:href=\"#DejaVuSans-45\"/>\n       <use x=\"453.90625\" xlink:href=\"#DejaVuSans-50\"/>\n       <use x=\"517.529297\" xlink:href=\"#DejaVuSans-50\"/>\n      </g>\n     </g>\n    </g>\n    <g id=\"xtick_3\">\n     <g id=\"line2d_3\">\n      <g>\n       <use style=\"stroke:#000000;stroke-width:0.8;\" x=\"247.565123\" xlink:href=\"#m254557d295\" y=\"499.472841\"/>\n      </g>\n     </g>\n     <g id=\"text_3\">\n      <!-- 2020-01-01 -->\n      <g transform=\"translate(196.195671 542.111093)rotate(-30)scale(0.1 -0.1)\">\n       <use xlink:href=\"#DejaVuSans-50\"/>\n       <use x=\"63.623047\" xlink:href=\"#DejaVuSans-48\"/>\n       <use x=\"127.246094\" xlink:href=\"#DejaVuSans-50\"/>\n       <use x=\"190.869141\" xlink:href=\"#DejaVuSans-48\"/>\n       <use x=\"254.492188\" xlink:href=\"#DejaVuSans-45\"/>\n       <use x=\"290.576172\" xlink:href=\"#DejaVuSans-48\"/>\n       <use x=\"354.199219\" xlink:href=\"#DejaVuSans-49\"/>\n       <use x=\"417.822266\" xlink:href=\"#DejaVuSans-45\"/>\n       <use x=\"453.90625\" xlink:href=\"#DejaVuSans-48\"/>\n       <use x=\"517.529297\" xlink:href=\"#DejaVuSans-49\"/>\n      </g>\n     </g>\n    </g>\n    <g id=\"xtick_4\">\n     <g id=\"line2d_4\">\n      <g>\n       <use style=\"stroke:#000000;stroke-width:0.8;\" x=\"366.81207\" xlink:href=\"#m254557d295\" y=\"499.472841\"/>\n      </g>\n     </g>\n     <g id=\"text_4\">\n      <!-- 2020-01-22 -->\n      <g transform=\"translate(315.442618 542.111093)rotate(-30)scale(0.1 -0.1)\">\n       <use xlink:href=\"#DejaVuSans-50\"/>\n       <use x=\"63.623047\" xlink:href=\"#DejaVuSans-48\"/>\n       <use x=\"127.246094\" xlink:href=\"#DejaVuSans-50\"/>\n       <use x=\"190.869141\" xlink:href=\"#DejaVuSans-48\"/>\n       <use x=\"254.492188\" xlink:href=\"#DejaVuSans-45\"/>\n       <use x=\"290.576172\" xlink:href=\"#DejaVuSans-48\"/>\n       <use x=\"354.199219\" xlink:href=\"#DejaVuSans-49\"/>\n       <use x=\"417.822266\" xlink:href=\"#DejaVuSans-45\"/>\n       <use x=\"453.90625\" xlink:href=\"#DejaVuSans-50\"/>\n       <use x=\"517.529297\" xlink:href=\"#DejaVuSans-50\"/>\n      </g>\n     </g>\n    </g>\n    <g id=\"xtick_5\">\n     <g id=\"line2d_5\">\n      <g>\n       <use style=\"stroke:#000000;stroke-width:0.8;\" x=\"423.59633\" xlink:href=\"#m254557d295\" y=\"499.472841\"/>\n      </g>\n     </g>\n     <g id=\"text_5\">\n      <!-- 2020-02-01 -->\n      <g transform=\"translate(372.226879 542.111093)rotate(-30)scale(0.1 -0.1)\">\n       <use xlink:href=\"#DejaVuSans-50\"/>\n       <use x=\"63.623047\" xlink:href=\"#DejaVuSans-48\"/>\n       <use x=\"127.246094\" xlink:href=\"#DejaVuSans-50\"/>\n       <use x=\"190.869141\" xlink:href=\"#DejaVuSans-48\"/>\n       <use x=\"254.492188\" xlink:href=\"#DejaVuSans-45\"/>\n       <use x=\"290.576172\" xlink:href=\"#DejaVuSans-48\"/>\n       <use x=\"354.199219\" xlink:href=\"#DejaVuSans-50\"/>\n       <use x=\"417.822266\" xlink:href=\"#DejaVuSans-45\"/>\n       <use x=\"453.90625\" xlink:href=\"#DejaVuSans-48\"/>\n       <use x=\"517.529297\" xlink:href=\"#DejaVuSans-49\"/>\n      </g>\n     </g>\n    </g>\n    <g id=\"xtick_6\">\n     <g id=\"line2d_6\">\n      <g>\n       <use style=\"stroke:#000000;stroke-width:0.8;\" x=\"542.843277\" xlink:href=\"#m254557d295\" y=\"499.472841\"/>\n      </g>\n     </g>\n     <g id=\"text_6\">\n      <!-- 2020-02-22 -->\n      <g transform=\"translate(491.473826 542.111093)rotate(-30)scale(0.1 -0.1)\">\n       <use xlink:href=\"#DejaVuSans-50\"/>\n       <use x=\"63.623047\" xlink:href=\"#DejaVuSans-48\"/>\n       <use x=\"127.246094\" xlink:href=\"#DejaVuSans-50\"/>\n       <use x=\"190.869141\" xlink:href=\"#DejaVuSans-48\"/>\n       <use x=\"254.492188\" xlink:href=\"#DejaVuSans-45\"/>\n       <use x=\"290.576172\" xlink:href=\"#DejaVuSans-48\"/>\n       <use x=\"354.199219\" xlink:href=\"#DejaVuSans-50\"/>\n       <use x=\"417.822266\" xlink:href=\"#DejaVuSans-45\"/>\n       <use x=\"453.90625\" xlink:href=\"#DejaVuSans-50\"/>\n       <use x=\"517.529297\" xlink:href=\"#DejaVuSans-50\"/>\n      </g>\n     </g>\n    </g>\n    <g id=\"xtick_7\">\n     <g id=\"line2d_7\">\n      <g>\n       <use style=\"stroke:#000000;stroke-width:0.8;\" x=\"588.270686\" xlink:href=\"#m254557d295\" y=\"499.472841\"/>\n      </g>\n     </g>\n     <g id=\"text_7\">\n      <!-- 2020-03-01 -->\n      <defs>\n       <path d=\"M 40.578125 39.3125 \nQ 47.65625 37.796875 51.625 33 \nQ 55.609375 28.21875 55.609375 21.1875 \nQ 55.609375 10.40625 48.1875 4.484375 \nQ 40.765625 -1.421875 27.09375 -1.421875 \nQ 22.515625 -1.421875 17.65625 -0.515625 \nQ 12.796875 0.390625 7.625 2.203125 \nL 7.625 11.71875 \nQ 11.71875 9.328125 16.59375 8.109375 \nQ 21.484375 6.890625 26.8125 6.890625 \nQ 36.078125 6.890625 40.9375 10.546875 \nQ 45.796875 14.203125 45.796875 21.1875 \nQ 45.796875 27.640625 41.28125 31.265625 \nQ 36.765625 34.90625 28.71875 34.90625 \nL 20.21875 34.90625 \nL 20.21875 43.015625 \nL 29.109375 43.015625 \nQ 36.375 43.015625 40.234375 45.921875 \nQ 44.09375 48.828125 44.09375 54.296875 \nQ 44.09375 59.90625 40.109375 62.90625 \nQ 36.140625 65.921875 28.71875 65.921875 \nQ 24.65625 65.921875 20.015625 65.03125 \nQ 15.375 64.15625 9.8125 62.3125 \nL 9.8125 71.09375 \nQ 15.4375 72.65625 20.34375 73.4375 \nQ 25.25 74.21875 29.59375 74.21875 \nQ 40.828125 74.21875 47.359375 69.109375 \nQ 53.90625 64.015625 53.90625 55.328125 \nQ 53.90625 49.265625 50.4375 45.09375 \nQ 46.96875 40.921875 40.578125 39.3125 \nz\n\" id=\"DejaVuSans-51\"/>\n      </defs>\n      <g transform=\"translate(536.901234 542.111093)rotate(-30)scale(0.1 -0.1)\">\n       <use xlink:href=\"#DejaVuSans-50\"/>\n       <use x=\"63.623047\" xlink:href=\"#DejaVuSans-48\"/>\n       <use x=\"127.246094\" xlink:href=\"#DejaVuSans-50\"/>\n       <use x=\"190.869141\" xlink:href=\"#DejaVuSans-48\"/>\n       <use x=\"254.492188\" xlink:href=\"#DejaVuSans-45\"/>\n       <use x=\"290.576172\" xlink:href=\"#DejaVuSans-48\"/>\n       <use x=\"354.199219\" xlink:href=\"#DejaVuSans-51\"/>\n       <use x=\"417.822266\" xlink:href=\"#DejaVuSans-45\"/>\n       <use x=\"453.90625\" xlink:href=\"#DejaVuSans-48\"/>\n       <use x=\"517.529297\" xlink:href=\"#DejaVuSans-49\"/>\n      </g>\n     </g>\n    </g>\n    <g id=\"xtick_8\">\n     <g id=\"line2d_8\">\n      <g>\n       <use style=\"stroke:#000000;stroke-width:0.8;\" x=\"707.517633\" xlink:href=\"#m254557d295\" y=\"499.472841\"/>\n      </g>\n     </g>\n     <g id=\"text_8\">\n      <!-- 2020-03-22 -->\n      <g transform=\"translate(656.148181 542.111093)rotate(-30)scale(0.1 -0.1)\">\n       <use xlink:href=\"#DejaVuSans-50\"/>\n       <use x=\"63.623047\" xlink:href=\"#DejaVuSans-48\"/>\n       <use x=\"127.246094\" xlink:href=\"#DejaVuSans-50\"/>\n       <use x=\"190.869141\" xlink:href=\"#DejaVuSans-48\"/>\n       <use x=\"254.492188\" xlink:href=\"#DejaVuSans-45\"/>\n       <use x=\"290.576172\" xlink:href=\"#DejaVuSans-48\"/>\n       <use x=\"354.199219\" xlink:href=\"#DejaVuSans-51\"/>\n       <use x=\"417.822266\" xlink:href=\"#DejaVuSans-45\"/>\n       <use x=\"453.90625\" xlink:href=\"#DejaVuSans-50\"/>\n       <use x=\"517.529297\" xlink:href=\"#DejaVuSans-50\"/>\n      </g>\n     </g>\n    </g>\n    <g id=\"xtick_9\">\n     <g id=\"line2d_9\">\n      <g>\n       <use style=\"stroke:#000000;stroke-width:0.8;\" x=\"764.301893\" xlink:href=\"#m254557d295\" y=\"499.472841\"/>\n      </g>\n     </g>\n     <g id=\"text_9\">\n      <!-- 2020-04-01 -->\n      <defs>\n       <path d=\"M 37.796875 64.3125 \nL 12.890625 25.390625 \nL 37.796875 25.390625 \nz\nM 35.203125 72.90625 \nL 47.609375 72.90625 \nL 47.609375 25.390625 \nL 58.015625 25.390625 \nL 58.015625 17.1875 \nL 47.609375 17.1875 \nL 47.609375 0 \nL 37.796875 0 \nL 37.796875 17.1875 \nL 4.890625 17.1875 \nL 4.890625 26.703125 \nz\n\" id=\"DejaVuSans-52\"/>\n      </defs>\n      <g transform=\"translate(712.932442 542.111093)rotate(-30)scale(0.1 -0.1)\">\n       <use xlink:href=\"#DejaVuSans-50\"/>\n       <use x=\"63.623047\" xlink:href=\"#DejaVuSans-48\"/>\n       <use x=\"127.246094\" xlink:href=\"#DejaVuSans-50\"/>\n       <use x=\"190.869141\" xlink:href=\"#DejaVuSans-48\"/>\n       <use x=\"254.492188\" xlink:href=\"#DejaVuSans-45\"/>\n       <use x=\"290.576172\" xlink:href=\"#DejaVuSans-48\"/>\n       <use x=\"354.199219\" xlink:href=\"#DejaVuSans-52\"/>\n       <use x=\"417.822266\" xlink:href=\"#DejaVuSans-45\"/>\n       <use x=\"453.90625\" xlink:href=\"#DejaVuSans-48\"/>\n       <use x=\"517.529297\" xlink:href=\"#DejaVuSans-49\"/>\n      </g>\n     </g>\n    </g>\n    <g id=\"text_10\">\n     <!-- Date -->\n     <defs>\n      <path d=\"M 19.671875 64.796875 \nL 19.671875 8.109375 \nL 31.59375 8.109375 \nQ 46.6875 8.109375 53.6875 14.9375 \nQ 60.6875 21.78125 60.6875 36.53125 \nQ 60.6875 51.171875 53.6875 57.984375 \nQ 46.6875 64.796875 31.59375 64.796875 \nz\nM 9.8125 72.90625 \nL 30.078125 72.90625 \nQ 51.265625 72.90625 61.171875 64.09375 \nQ 71.09375 55.28125 71.09375 36.53125 \nQ 71.09375 17.671875 61.125 8.828125 \nQ 51.171875 0 30.078125 0 \nL 9.8125 0 \nz\n\" id=\"DejaVuSans-68\"/>\n      <path d=\"M 34.28125 27.484375 \nQ 23.390625 27.484375 19.1875 25 \nQ 14.984375 22.515625 14.984375 16.5 \nQ 14.984375 11.71875 18.140625 8.90625 \nQ 21.296875 6.109375 26.703125 6.109375 \nQ 34.1875 6.109375 38.703125 11.40625 \nQ 43.21875 16.703125 43.21875 25.484375 \nL 43.21875 27.484375 \nz\nM 52.203125 31.203125 \nL 52.203125 0 \nL 43.21875 0 \nL 43.21875 8.296875 \nQ 40.140625 3.328125 35.546875 0.953125 \nQ 30.953125 -1.421875 24.3125 -1.421875 \nQ 15.921875 -1.421875 10.953125 3.296875 \nQ 6 8.015625 6 15.921875 \nQ 6 25.140625 12.171875 29.828125 \nQ 18.359375 34.515625 30.609375 34.515625 \nL 43.21875 34.515625 \nL 43.21875 35.40625 \nQ 43.21875 41.609375 39.140625 45 \nQ 35.0625 48.390625 27.6875 48.390625 \nQ 23 48.390625 18.546875 47.265625 \nQ 14.109375 46.140625 10.015625 43.890625 \nL 10.015625 52.203125 \nQ 14.9375 54.109375 19.578125 55.046875 \nQ 24.21875 56 28.609375 56 \nQ 40.484375 56 46.34375 49.84375 \nQ 52.203125 43.703125 52.203125 31.203125 \nz\n\" id=\"DejaVuSans-97\"/>\n      <path d=\"M 18.3125 70.21875 \nL 18.3125 54.6875 \nL 36.8125 54.6875 \nL 36.8125 47.703125 \nL 18.3125 47.703125 \nL 18.3125 18.015625 \nQ 18.3125 11.328125 20.140625 9.421875 \nQ 21.96875 7.515625 27.59375 7.515625 \nL 36.8125 7.515625 \nL 36.8125 0 \nL 27.59375 0 \nQ 17.1875 0 13.234375 3.875 \nQ 9.28125 7.765625 9.28125 18.015625 \nL 9.28125 47.703125 \nL 2.6875 47.703125 \nL 2.6875 54.6875 \nL 9.28125 54.6875 \nL 9.28125 70.21875 \nz\n\" id=\"DejaVuSans-116\"/>\n      <path d=\"M 56.203125 29.59375 \nL 56.203125 25.203125 \nL 14.890625 25.203125 \nQ 15.484375 15.921875 20.484375 11.0625 \nQ 25.484375 6.203125 34.421875 6.203125 \nQ 39.59375 6.203125 44.453125 7.46875 \nQ 49.3125 8.734375 54.109375 11.28125 \nL 54.109375 2.78125 \nQ 49.265625 0.734375 44.1875 -0.34375 \nQ 39.109375 -1.421875 33.890625 -1.421875 \nQ 20.796875 -1.421875 13.15625 6.1875 \nQ 5.515625 13.8125 5.515625 26.8125 \nQ 5.515625 40.234375 12.765625 48.109375 \nQ 20.015625 56 32.328125 56 \nQ 43.359375 56 49.78125 48.890625 \nQ 56.203125 41.796875 56.203125 29.59375 \nz\nM 47.21875 32.234375 \nQ 47.125 39.59375 43.09375 43.984375 \nQ 39.0625 48.390625 32.421875 48.390625 \nQ 24.90625 48.390625 20.390625 44.140625 \nQ 15.875 39.890625 15.1875 32.171875 \nz\n\" id=\"DejaVuSans-101\"/>\n     </defs>\n     <g transform=\"translate(451.394531 555.510593)scale(0.1 -0.1)\">\n      <use xlink:href=\"#DejaVuSans-68\"/>\n      <use x=\"77.001953\" xlink:href=\"#DejaVuSans-97\"/>\n      <use x=\"138.28125\" xlink:href=\"#DejaVuSans-116\"/>\n      <use x=\"177.490234\" xlink:href=\"#DejaVuSans-101\"/>\n     </g>\n    </g>\n   </g>\n   <g id=\"matplotlib.axis_2\">\n    <g id=\"ytick_1\">\n     <g id=\"line2d_10\">\n      <defs>\n       <path d=\"M 0 0 \nL -3.5 0 \n\" id=\"md72b891a5c\" style=\"stroke:#000000;stroke-width:0.8;\"/>\n      </defs>\n      <g>\n       <use style=\"stroke:#000000;stroke-width:0.8;\" x=\"44.845313\" xlink:href=\"#md72b891a5c\" y=\"420.588128\"/>\n      </g>\n     </g>\n     <g id=\"text_11\">\n      <!-- −0.10 -->\n      <defs>\n       <path d=\"M 10.59375 35.5 \nL 73.1875 35.5 \nL 73.1875 27.203125 \nL 10.59375 27.203125 \nz\n\" id=\"DejaVuSans-8722\"/>\n       <path d=\"M 10.6875 12.40625 \nL 21 12.40625 \nL 21 0 \nL 10.6875 0 \nz\n\" id=\"DejaVuSans-46\"/>\n      </defs>\n      <g transform=\"translate(7.2 424.387347)scale(0.1 -0.1)\">\n       <use xlink:href=\"#DejaVuSans-8722\"/>\n       <use x=\"83.789062\" xlink:href=\"#DejaVuSans-48\"/>\n       <use x=\"147.412109\" xlink:href=\"#DejaVuSans-46\"/>\n       <use x=\"179.199219\" xlink:href=\"#DejaVuSans-49\"/>\n       <use x=\"242.822266\" xlink:href=\"#DejaVuSans-48\"/>\n      </g>\n     </g>\n    </g>\n    <g id=\"ytick_2\">\n     <g id=\"line2d_11\">\n      <g>\n       <use style=\"stroke:#000000;stroke-width:0.8;\" x=\"44.845313\" xlink:href=\"#md72b891a5c\" y=\"318.190901\"/>\n      </g>\n     </g>\n     <g id=\"text_12\">\n      <!-- −0.05 -->\n      <defs>\n       <path d=\"M 10.796875 72.90625 \nL 49.515625 72.90625 \nL 49.515625 64.59375 \nL 19.828125 64.59375 \nL 19.828125 46.734375 \nQ 21.96875 47.46875 24.109375 47.828125 \nQ 26.265625 48.1875 28.421875 48.1875 \nQ 40.625 48.1875 47.75 41.5 \nQ 54.890625 34.8125 54.890625 23.390625 \nQ 54.890625 11.625 47.5625 5.09375 \nQ 40.234375 -1.421875 26.90625 -1.421875 \nQ 22.3125 -1.421875 17.546875 -0.640625 \nQ 12.796875 0.140625 7.71875 1.703125 \nL 7.71875 11.625 \nQ 12.109375 9.234375 16.796875 8.0625 \nQ 21.484375 6.890625 26.703125 6.890625 \nQ 35.15625 6.890625 40.078125 11.328125 \nQ 45.015625 15.765625 45.015625 23.390625 \nQ 45.015625 31 40.078125 35.4375 \nQ 35.15625 39.890625 26.703125 39.890625 \nQ 22.75 39.890625 18.8125 39.015625 \nQ 14.890625 38.140625 10.796875 36.28125 \nz\n\" id=\"DejaVuSans-53\"/>\n      </defs>\n      <g transform=\"translate(7.2 321.99012)scale(0.1 -0.1)\">\n       <use xlink:href=\"#DejaVuSans-8722\"/>\n       <use x=\"83.789062\" xlink:href=\"#DejaVuSans-48\"/>\n       <use x=\"147.412109\" xlink:href=\"#DejaVuSans-46\"/>\n       <use x=\"179.199219\" xlink:href=\"#DejaVuSans-48\"/>\n       <use x=\"242.822266\" xlink:href=\"#DejaVuSans-53\"/>\n      </g>\n     </g>\n    </g>\n    <g id=\"ytick_3\">\n     <g id=\"line2d_12\">\n      <g>\n       <use style=\"stroke:#000000;stroke-width:0.8;\" x=\"44.845313\" xlink:href=\"#md72b891a5c\" y=\"215.793674\"/>\n      </g>\n     </g>\n     <g id=\"text_13\">\n      <!-- 0.00 -->\n      <g transform=\"translate(15.579688 219.592892)scale(0.1 -0.1)\">\n       <use xlink:href=\"#DejaVuSans-48\"/>\n       <use x=\"63.623047\" xlink:href=\"#DejaVuSans-46\"/>\n       <use x=\"95.410156\" xlink:href=\"#DejaVuSans-48\"/>\n       <use x=\"159.033203\" xlink:href=\"#DejaVuSans-48\"/>\n      </g>\n     </g>\n    </g>\n    <g id=\"ytick_4\">\n     <g id=\"line2d_13\">\n      <g>\n       <use style=\"stroke:#000000;stroke-width:0.8;\" x=\"44.845313\" xlink:href=\"#md72b891a5c\" y=\"113.396446\"/>\n      </g>\n     </g>\n     <g id=\"text_14\">\n      <!-- 0.05 -->\n      <g transform=\"translate(15.579688 117.195665)scale(0.1 -0.1)\">\n       <use xlink:href=\"#DejaVuSans-48\"/>\n       <use x=\"63.623047\" xlink:href=\"#DejaVuSans-46\"/>\n       <use x=\"95.410156\" xlink:href=\"#DejaVuSans-48\"/>\n       <use x=\"159.033203\" xlink:href=\"#DejaVuSans-53\"/>\n      </g>\n     </g>\n    </g>\n    <g id=\"ytick_5\">\n     <g id=\"line2d_14\">\n      <g>\n       <use style=\"stroke:#000000;stroke-width:0.8;\" x=\"44.845313\" xlink:href=\"#md72b891a5c\" y=\"10.999219\"/>\n      </g>\n     </g>\n     <g id=\"text_15\">\n      <!-- 0.10 -->\n      <g transform=\"translate(15.579688 14.798437)scale(0.1 -0.1)\">\n       <use xlink:href=\"#DejaVuSans-48\"/>\n       <use x=\"63.623047\" xlink:href=\"#DejaVuSans-46\"/>\n       <use x=\"95.410156\" xlink:href=\"#DejaVuSans-49\"/>\n       <use x=\"159.033203\" xlink:href=\"#DejaVuSans-48\"/>\n      </g>\n     </g>\n    </g>\n   </g>\n   <g id=\"line2d_15\">\n    <path clip-path=\"url(#p80afcc177e)\" d=\"M 82.890767 251.834668 \nL 88.569193 207.314804 \nL 94.247619 230.260201 \nL 99.926045 186.792333 \nL 116.961323 217.435101 \nL 122.639749 221.492008 \nL 128.318175 215.084065 \nL 133.996602 199.624584 \nL 139.675028 193.419528 \nL 156.710306 170.157923 \nL 162.388732 214.105782 \nL 168.067158 211.579822 \nL 173.745584 206.851025 \nL 179.42401 213.442504 \nL 196.459288 204.722995 \nL 202.137714 213.484712 \nL 207.81614 215.793674 \nL 213.494566 215.793674 \nL 219.172992 212.388799 \nL 236.20827 231.336132 \nL 241.886696 227.895037 \nL 253.243549 199.054942 \nL 258.921975 210.924856 \nL 275.957253 228.487528 \nL 281.635679 216.172165 \nL 287.314105 215.523296 \nL 292.992531 209.530871 \nL 298.670957 218.544818 \nL 315.706235 207.793354 \nL 321.384661 214.503682 \nL 327.063087 210.320061 \nL 332.741513 224.655412 \nL 338.419939 198.42849 \nL 355.455218 221.993954 \nL 361.133644 226.716278 \nL 366.81207 226.261054 \nL 372.490496 233.231568 \nL 378.168922 194.545723 \nL 395.2042 263.286798 \nL 400.882626 196.926814 \nL 406.561052 214.999939 \nL 412.239478 243.787781 \nL 417.917904 242.601075 \nL 434.953182 204.49744 \nL 440.631608 184.309898 \nL 446.310034 204.073246 \nL 451.98846 209.699341 \nL 457.666886 226.216952 \nL 474.702165 221.231653 \nL 480.380591 201.406497 \nL 486.059017 206.258069 \nL 491.737443 238.314377 \nL 497.415869 227.61741 \nL 514.451147 209.115548 \nL 520.129573 229.976252 \nL 525.807999 195.091854 \nL 531.486425 221.403854 \nL 537.164851 224.818746 \nL 554.200129 285.308999 \nL 559.878555 255.931159 \nL 565.556981 208.627492 \nL 571.235407 288.639419 \nL 576.913834 281.874914 \nL 593.949112 192.800439 \nL 599.627538 196.406029 \nL 605.305964 186.315916 \nL 610.98439 249.177134 \nL 616.662816 291.324794 \nL 633.698094 379.605889 \nL 639.37652 217.716815 \nL 645.054946 244.757188 \nL 650.733372 451.547032 \nL 656.411798 166.116436 \nL 673.447076 299.536385 \nL 679.125502 159.406036 \nL 684.803929 300.403869 \nL 690.482355 187.372338 \nL 696.160781 200.269383 \nL 713.196059 294.989004 \nL 718.874485 38.310103 \nL 724.552911 126.682499 \nL 730.231337 170.396267 \nL 735.909763 326.264222 \nL 752.945041 196.042565 \nL 758.623467 176.31258 \nL 764.301893 295.832429 \nL 769.980319 206.204532 \nL 775.658745 240.115923 \nL 792.694023 153.631262 \nL 798.37245 171.483192 \nL 804.050876 225.437611 \nL 809.729302 157.126623 \nL 815.407728 215.793674 \nL 832.443006 215.793674 \nL 838.121432 233.889915 \nL 843.799858 275.393044 \n\" style=\"fill:none;stroke:#1f77b4;stroke-linecap:square;stroke-width:1.5;\"/>\n   </g>\n   <g id=\"line2d_16\">\n    <path clip-path=\"url(#p80afcc177e)\" d=\"M 82.890767 229.433446 \nL 88.569193 202.884132 \nL 94.247619 212.723545 \nL 99.926045 197.169162 \nL 116.961323 222.281221 \nL 122.639749 218.041367 \nL 128.318175 209.846571 \nL 133.996602 198.306956 \nL 139.675028 215.645036 \nL 156.710306 201.207473 \nL 162.388732 215.107129 \nL 168.067158 216.679192 \nL 173.745584 206.681593 \nL 179.42401 205.691991 \nL 196.459288 214.020627 \nL 202.137714 216.19398 \nL 207.81614 215.793674 \nL 213.494566 205.318309 \nL 219.172992 215.724076 \nL 236.20827 227.666829 \nL 241.886696 209.769254 \nL 253.243549 198.705839 \nL 258.921975 230.303175 \nL 275.957253 208.570276 \nL 281.635679 221.542613 \nL 287.314105 205.778255 \nL 292.992531 202.209219 \nL 298.670957 221.649285 \nL 315.706235 201.556375 \nL 321.384661 218.897704 \nL 327.063087 211.967191 \nL 332.741513 198.730717 \nL 338.419939 207.899414 \nL 355.455218 215.793674 \nL 361.133644 221.231991 \nL 366.81207 215.201747 \nL 372.490496 213.458349 \nL 378.168922 234.395747 \nL 395.2042 248.265375 \nL 400.882626 195.307299 \nL 406.561052 217.569754 \nL 412.239478 209.384719 \nL 417.917904 252.379063 \nL 434.953182 200.990258 \nL 440.631608 185.342139 \nL 446.310034 192.881723 \nL 451.98846 208.99418 \nL 457.666886 226.884299 \nL 474.702165 200.844313 \nL 480.380591 212.338691 \nL 486.059017 202.601116 \nL 491.737443 219.135461 \nL 497.415869 212.021695 \nL 514.451147 215.793674 \nL 520.129573 221.782302 \nL 525.807999 206.179089 \nL 531.486425 223.622592 \nL 537.164851 237.448249 \nL 554.200129 285.60417 \nL 559.878555 278.763677 \nL 565.556981 223.546572 \nL 571.235407 308.295512 \nL 576.913834 232.735219 \nL 593.949112 123.61391 \nL 599.627538 274.181566 \nL 605.305964 131.139122 \nL 610.98439 286.469842 \nL 616.662816 251.020252 \nL 633.698094 377.602618 \nL 639.37652 117.05192 \nL 645.054946 318.40162 \nL 650.733372 420.475189 \nL 656.411798 33.918981 \nL 673.447076 477.218296 \nL 679.125502 96.549414 \nL 684.803929 324.789936 \nL 690.482355 206.174968 \nL 696.160781 306.57419 \nL 713.196059 276.682139 \nL 718.874485 32.127386 \nL 724.552911 192.305817 \nL 730.231337 91.803265 \nL 735.909763 285.972321 \nL 752.945041 148.279924 \nL 758.623467 248.852231 \nL 764.301893 308.250921 \nL 769.980319 169.566124 \nL 775.658745 247.030687 \nL 792.694023 76.598479 \nL 798.37245 219.079271 \nL 804.050876 147.209298 \nL 809.729302 186.337124 \nL 815.407728 215.793674 \nL 832.443006 236.59272 \nL 838.121432 154.120726 \nL 843.799858 215.793674 \n\" style=\"fill:none;stroke:#ff7f0e;stroke-linecap:square;stroke-width:1.5;\"/>\n   </g>\n   <g id=\"line2d_17\">\n    <path clip-path=\"url(#p80afcc177e)\" d=\"M 82.890767 219.934829 \nL 88.569193 241.463875 \nL 94.247619 203.690889 \nL 99.926045 193.934643 \nL 116.961323 216.07491 \nL 122.639749 220.290397 \nL 128.318175 199.681461 \nL 133.996602 189.165917 \nL 139.675028 163.836089 \nL 156.710306 229.126391 \nL 162.388732 190.958282 \nL 168.067158 212.817005 \nL 173.745584 221.951756 \nL 179.42401 210.580404 \nL 196.459288 213.219097 \nL 202.137714 218.892856 \nL 207.81614 215.793674 \nL 213.494566 215.793674 \nL 219.172992 189.416385 \nL 236.20827 208.98679 \nL 241.886696 225.190287 \nL 253.243549 190.25276 \nL 258.921975 222.406569 \nL 275.957253 232.076128 \nL 281.635679 208.849555 \nL 287.314105 232.794558 \nL 292.992531 181.587751 \nL 298.670957 210.265631 \nL 315.706235 193.267623 \nL 321.384661 220.736412 \nL 327.063087 223.717889 \nL 332.741513 208.018464 \nL 338.419939 203.536899 \nL 355.455218 234.237638 \nL 361.133644 274.268474 \nL 366.81207 189.927211 \nL 372.490496 247.244801 \nL 378.168922 212.822402 \nL 395.2042 215.793674 \nL 400.882626 215.793674 \nL 406.561052 274.438228 \nL 412.239478 270.156837 \nL 417.917904 226.390176 \nL 434.953182 212.344794 \nL 440.631608 191.156083 \nL 446.310034 207.308128 \nL 451.98846 162.445002 \nL 457.666886 222.46595 \nL 474.702165 228.005888 \nL 480.380591 190.202746 \nL 486.059017 198.068369 \nL 491.737443 222.699105 \nL 497.415869 209.48162 \nL 514.451147 205.218914 \nL 520.129573 247.489797 \nL 525.807999 206.470822 \nL 531.486425 219.251106 \nL 537.164851 238.194555 \nL 554.200129 252.71537 \nL 559.878555 210.276759 \nL 565.556981 230.830695 \nL 571.235407 209.503062 \nL 576.913834 266.014163 \nL 593.949112 203.155524 \nL 599.627538 216.328042 \nL 605.305964 220.688596 \nL 610.98439 173.604334 \nL 616.662816 263.880269 \nL 633.698094 304.324029 \nL 639.37652 187.201735 \nL 645.054946 228.811824 \nL 650.733372 292.075521 \nL 656.411798 239.192253 \nL 673.447076 300.107177 \nL 679.125502 198.097005 \nL 684.803929 303.191154 \nL 690.482355 270.037294 \nL 696.160781 114.932518 \nL 713.196059 317.881559 \nL 718.874485 126.459615 \nL 724.552911 139.197516 \nL 730.231337 231.070447 \nL 735.909763 204.255463 \nL 752.945041 242.933854 \nL 758.623467 178.284857 \nL 764.301893 261.210822 \nL 769.980319 198.631924 \nL 775.658745 219.663708 \nL 792.694023 171.070796 \nL 798.37245 172.772915 \nL 804.050876 239.823827 \nL 809.729302 187.79523 \nL 815.407728 215.793674 \nL 832.443006 215.793674 \nL 838.121432 204.441952 \nL 843.799858 240.249249 \n\" style=\"fill:none;stroke:#2ca02c;stroke-linecap:square;stroke-width:1.5;\"/>\n   </g>\n   <g id=\"line2d_18\">\n    <path clip-path=\"url(#p80afcc177e)\" d=\"M 82.890767 223.492966 \nL 88.569193 230.765307 \nL 94.247619 223.876998 \nL 99.926045 194.921368 \nL 116.961323 209.115513 \nL 122.639749 206.646258 \nL 128.318175 208.368838 \nL 133.996602 185.163031 \nL 139.675028 184.510136 \nL 156.710306 217.776379 \nL 162.388732 189.953655 \nL 168.067158 216.651879 \nL 173.745584 214.114725 \nL 179.42401 208.701642 \nL 196.459288 216.230379 \nL 202.137714 228.499485 \nL 207.81614 215.793674 \nL 213.494566 208.466397 \nL 219.172992 209.950533 \nL 236.20827 221.879095 \nL 241.886696 215.793674 \nL 253.243549 236.868838 \nL 258.921975 214.579449 \nL 275.957253 236.020092 \nL 281.635679 196.43304 \nL 287.314105 238.730533 \nL 292.992531 182.612435 \nL 298.670957 197.201521 \nL 315.706235 194.675169 \nL 321.384661 206.97524 \nL 327.063087 223.032638 \nL 332.741513 200.183721 \nL 338.419939 213.499254 \nL 355.455218 204.839878 \nL 361.133644 236.672035 \nL 366.81207 190.74689 \nL 372.490496 234.960305 \nL 378.168922 215.793674 \nL 395.2042 215.793674 \nL 400.882626 280.077711 \nL 406.561052 207.755825 \nL 412.239478 251.032253 \nL 417.917904 243.6215 \nL 434.953182 215.91944 \nL 440.631608 178.423008 \nL 446.310034 208.470681 \nL 451.98846 157.701459 \nL 457.666886 230.54483 \nL 474.702165 225.891721 \nL 480.380591 195.3797 \nL 486.059017 201.78436 \nL 491.737443 220.758496 \nL 497.415869 206.067455 \nL 514.451147 217.090409 \nL 520.129573 246.427986 \nL 525.807999 214.440304 \nL 531.486425 229.589813 \nL 537.164851 246.487442 \nL 554.200129 296.72014 \nL 559.878555 191.732987 \nL 565.556981 242.091649 \nL 571.235407 237.484571 \nL 576.913834 284.586722 \nL 593.949112 199.880331 \nL 599.627538 203.924025 \nL 605.305964 170.363213 \nL 610.98439 190.168097 \nL 616.662816 260.51243 \nL 633.698094 303.415148 \nL 639.37652 207.262484 \nL 645.054946 273.630084 \nL 650.733372 296.723966 \nL 656.411798 287.239345 \nL 673.447076 282.272628 \nL 679.125502 267.090247 \nL 684.803929 317.771451 \nL 690.482355 395.336395 \nL 696.160781 68.747785 \nL 713.196059 328.261771 \nL 718.874485 46.812274 \nL 724.552911 98.633189 \nL 730.231337 238.163683 \nL 735.909763 177.901686 \nL 752.945041 216.521051 \nL 758.623467 171.52684 \nL 764.301893 298.172685 \nL 769.980319 168.471043 \nL 775.658745 215.105201 \nL 792.694023 138.415582 \nL 798.37245 179.85797 \nL 804.050876 234.362515 \nL 809.729302 183.112267 \nL 815.407728 188.660269 \nL 832.443006 254.615311 \nL 838.121432 180.960197 \nL 843.799858 215.793674 \n\" style=\"fill:none;stroke:#d62728;stroke-linecap:square;stroke-width:1.5;\"/>\n   </g>\n   <g id=\"line2d_19\">\n    <path clip-path=\"url(#p80afcc177e)\" d=\"M 82.890767 233.557304 \nL 88.569193 191.732441 \nL 94.247619 216.16134 \nL 99.926045 189.591558 \nL 116.961323 224.362839 \nL 122.639749 217.343921 \nL 128.318175 214.40768 \nL 133.996602 210.912875 \nL 139.675028 203.877751 \nL 156.710306 190.809398 \nL 162.388732 225.571236 \nL 168.067158 216.870947 \nL 173.745584 211.004095 \nL 179.42401 198.61086 \nL 196.459288 213.60915 \nL 202.137714 214.941914 \nL 207.81614 215.793674 \nL 213.494566 215.793674 \nL 219.172992 211.681749 \nL 236.20827 233.666278 \nL 241.886696 219.673401 \nL 253.243549 191.121818 \nL 258.921975 217.350221 \nL 275.957253 225.673296 \nL 281.635679 213.519233 \nL 287.314105 211.730485 \nL 292.992531 209.970271 \nL 298.670957 218.163644 \nL 315.706235 218.396503 \nL 321.384661 212.659964 \nL 327.063087 215.369155 \nL 332.741513 213.442707 \nL 338.419939 196.696571 \nL 355.455218 221.279431 \nL 361.133644 225.645418 \nL 366.81207 221.621205 \nL 372.490496 231.736419 \nL 378.168922 195.646274 \nL 395.2042 267.425513 \nL 400.882626 196.142128 \nL 406.561052 208.421368 \nL 412.239478 241.315933 \nL 417.917904 237.831797 \nL 434.953182 206.036415 \nL 440.631608 181.244102 \nL 446.310034 195.163258 \nL 451.98846 201.040455 \nL 457.666886 222.116145 \nL 474.702165 217.999626 \nL 480.380591 201.488496 \nL 486.059017 198.855588 \nL 491.737443 218.473523 \nL 497.415869 218.89551 \nL 514.451147 212.11738 \nL 520.129573 222.297021 \nL 525.807999 199.495824 \nL 531.486425 234.957493 \nL 537.164851 227.930787 \nL 554.200129 294.185054 \nL 559.878555 254.876659 \nL 565.556981 215.532842 \nL 571.235407 291.790367 \nL 576.913834 289.362058 \nL 593.949112 204.403039 \nL 599.627538 191.487231 \nL 605.305964 188.835261 \nL 610.98439 250.387375 \nL 616.662816 299.120489 \nL 633.698094 388.498776 \nL 639.37652 244.711849 \nL 645.054946 227.960725 \nL 650.733372 476.942244 \nL 656.411798 185.182528 \nL 673.447076 336.059344 \nL 679.125502 169.507719 \nL 684.803929 320.261897 \nL 690.482355 152.545833 \nL 696.160781 122.681539 \nL 713.196059 282.882423 \nL 718.874485 54.846255 \nL 724.552911 138.947158 \nL 730.231337 166.699888 \nL 735.909763 307.255855 \nL 752.945041 197.662451 \nL 758.623467 198.489768 \nL 764.301893 289.290797 \nL 769.980319 203.511047 \nL 775.658745 247.663077 \nL 792.694023 130.576647 \nL 798.37245 173.587081 \nL 804.050876 211.643837 \nL 809.729302 184.462552 \nL 815.407728 215.793674 \nL 832.443006 215.793674 \nL 838.121432 213.442266 \nL 843.799858 268.559567 \n\" style=\"fill:none;stroke:#9467bd;stroke-linecap:square;stroke-width:1.5;\"/>\n   </g>\n   <g id=\"line2d_20\">\n    <path clip-path=\"url(#p80afcc177e)\" d=\"M 82.890767 228.863861 \nL 88.569193 237.330409 \nL 94.247619 201.251972 \nL 99.926045 211.025642 \nL 116.961323 209.113944 \nL 122.639749 217.587101 \nL 128.318175 217.397834 \nL 133.996602 212.910846 \nL 139.675028 164.144285 \nL 156.710306 221.833937 \nL 162.388732 206.089319 \nL 168.067158 227.030769 \nL 173.745584 221.755949 \nL 179.42401 219.935716 \nL 196.459288 215.408611 \nL 202.137714 214.979622 \nL 207.81614 219.89795 \nL 213.494566 203.598056 \nL 219.172992 223.271458 \nL 236.20827 231.411861 \nL 241.886696 215.793674 \nL 253.243549 215.793674 \nL 258.921975 215.793674 \nL 275.957253 255.280589 \nL 281.635679 183.322108 \nL 287.314105 248.274031 \nL 292.992531 169.103698 \nL 298.670957 206.266118 \nL 315.706235 215.793674 \nL 321.384661 200.856175 \nL 327.063087 225.07103 \nL 332.741513 214.376943 \nL 338.419939 206.561982 \nL 355.455218 212.197784 \nL 361.133644 234.497199 \nL 366.81207 201.530404 \nL 372.490496 235.997197 \nL 378.168922 213.063784 \nL 395.2042 257.792801 \nL 400.882626 227.036369 \nL 406.561052 201.404683 \nL 412.239478 251.282409 \nL 417.917904 195.623141 \nL 434.953182 236.48215 \nL 440.631608 205.775454 \nL 446.310034 195.053672 \nL 451.98846 167.707314 \nL 457.666886 219.709918 \nL 474.702165 228.034665 \nL 480.380591 215.793674 \nL 486.059017 200.698611 \nL 491.737443 218.669231 \nL 497.415869 227.874033 \nL 514.451147 230.052277 \nL 520.129573 244.677563 \nL 525.807999 197.606149 \nL 531.486425 208.939394 \nL 537.164851 223.869958 \nL 554.200129 215.793674 \nL 559.878555 285.382707 \nL 565.556981 232.094938 \nL 571.235407 259.912396 \nL 576.913834 292.344788 \nL 593.949112 196.404989 \nL 599.627538 241.024714 \nL 605.305964 214.110948 \nL 610.98439 193.681351 \nL 616.662816 272.192093 \nL 633.698094 322.242802 \nL 639.37652 198.364881 \nL 645.054946 262.825691 \nL 650.733372 308.180033 \nL 656.411798 344.272897 \nL 673.447076 266.828169 \nL 679.125502 214.650866 \nL 684.803929 250.391616 \nL 690.482355 237.174696 \nL 696.160781 215.793674 \nL 713.196059 174.766887 \nL 718.874485 74.692478 \nL 724.552911 57.459377 \nL 730.231337 310.356031 \nL 735.909763 137.768225 \nL 752.945041 248.206297 \nL 758.623467 233.896779 \nL 764.301893 310.126989 \nL 769.980319 243.951763 \nL 775.658745 215.624874 \nL 792.694023 130.692232 \nL 798.37245 174.984698 \nL 804.050876 172.69172 \nL 809.729302 216.58437 \nL 815.407728 199.689103 \nL 832.443006 264.159845 \nL 838.121432 152.743333 \nL 843.799858 225.066472 \n\" style=\"fill:none;stroke:#8c564b;stroke-linecap:square;stroke-width:1.5;\"/>\n   </g>\n   <g id=\"patch_3\">\n    <path d=\"M 44.845313 499.472841 \nL 44.845313 9.872841 \n\" style=\"fill:none;stroke:#000000;stroke-linecap:square;stroke-linejoin:miter;stroke-width:0.8;\"/>\n   </g>\n   <g id=\"patch_4\">\n    <path d=\"M 881.845312 499.472841 \nL 881.845312 9.872841 \n\" style=\"fill:none;stroke:#000000;stroke-linecap:square;stroke-linejoin:miter;stroke-width:0.8;\"/>\n   </g>\n   <g id=\"patch_5\">\n    <path d=\"M 44.845312 499.472841 \nL 881.845312 499.472841 \n\" style=\"fill:none;stroke:#000000;stroke-linecap:square;stroke-linejoin:miter;stroke-width:0.8;\"/>\n   </g>\n   <g id=\"patch_6\">\n    <path d=\"M 44.845312 9.872841 \nL 881.845312 9.872841 \n\" style=\"fill:none;stroke:#000000;stroke-linecap:square;stroke-linejoin:miter;stroke-width:0.8;\"/>\n   </g>\n   <g id=\"legend_1\">\n    <g id=\"patch_7\">\n     <path d=\"M 815.735937 105.941591 \nL 874.845312 105.941591 \nQ 876.845312 105.941591 876.845312 103.941591 \nL 876.845312 16.872841 \nQ 876.845312 14.872841 874.845312 14.872841 \nL 815.735937 14.872841 \nQ 813.735937 14.872841 813.735937 16.872841 \nL 813.735937 103.941591 \nQ 813.735937 105.941591 815.735937 105.941591 \nz\n\" style=\"fill:#ffffff;opacity:0.8;stroke:#cccccc;stroke-linejoin:miter;\"/>\n    </g>\n    <g id=\"line2d_21\">\n     <path d=\"M 817.735937 22.971279 \nL 837.735937 22.971279 \n\" style=\"fill:none;stroke:#1f77b4;stroke-linecap:square;stroke-width:1.5;\"/>\n    </g>\n    <g id=\"line2d_22\"/>\n    <g id=\"text_16\">\n     <!-- FTSE -->\n     <defs>\n      <path d=\"M 9.8125 72.90625 \nL 51.703125 72.90625 \nL 51.703125 64.59375 \nL 19.671875 64.59375 \nL 19.671875 43.109375 \nL 48.578125 43.109375 \nL 48.578125 34.8125 \nL 19.671875 34.8125 \nL 19.671875 0 \nL 9.8125 0 \nz\n\" id=\"DejaVuSans-70\"/>\n      <path d=\"M -0.296875 72.90625 \nL 61.375 72.90625 \nL 61.375 64.59375 \nL 35.5 64.59375 \nL 35.5 0 \nL 25.59375 0 \nL 25.59375 64.59375 \nL -0.296875 64.59375 \nz\n\" id=\"DejaVuSans-84\"/>\n      <path d=\"M 53.515625 70.515625 \nL 53.515625 60.890625 \nQ 47.90625 63.578125 42.921875 64.890625 \nQ 37.9375 66.21875 33.296875 66.21875 \nQ 25.25 66.21875 20.875 63.09375 \nQ 16.5 59.96875 16.5 54.203125 \nQ 16.5 49.359375 19.40625 46.890625 \nQ 22.3125 44.4375 30.421875 42.921875 \nL 36.375 41.703125 \nQ 47.40625 39.59375 52.65625 34.296875 \nQ 57.90625 29 57.90625 20.125 \nQ 57.90625 9.515625 50.796875 4.046875 \nQ 43.703125 -1.421875 29.984375 -1.421875 \nQ 24.8125 -1.421875 18.96875 -0.25 \nQ 13.140625 0.921875 6.890625 3.21875 \nL 6.890625 13.375 \nQ 12.890625 10.015625 18.65625 8.296875 \nQ 24.421875 6.59375 29.984375 6.59375 \nQ 38.421875 6.59375 43.015625 9.90625 \nQ 47.609375 13.234375 47.609375 19.390625 \nQ 47.609375 24.75 44.3125 27.78125 \nQ 41.015625 30.8125 33.5 32.328125 \nL 27.484375 33.5 \nQ 16.453125 35.6875 11.515625 40.375 \nQ 6.59375 45.0625 6.59375 53.421875 \nQ 6.59375 63.09375 13.40625 68.65625 \nQ 20.21875 74.21875 32.171875 74.21875 \nQ 37.3125 74.21875 42.625 73.28125 \nQ 47.953125 72.359375 53.515625 70.515625 \nz\n\" id=\"DejaVuSans-83\"/>\n      <path d=\"M 9.8125 72.90625 \nL 55.90625 72.90625 \nL 55.90625 64.59375 \nL 19.671875 64.59375 \nL 19.671875 43.015625 \nL 54.390625 43.015625 \nL 54.390625 34.71875 \nL 19.671875 34.71875 \nL 19.671875 8.296875 \nL 56.78125 8.296875 \nL 56.78125 0 \nL 9.8125 0 \nz\n\" id=\"DejaVuSans-69\"/>\n     </defs>\n     <g transform=\"translate(845.735937 26.471279)scale(0.1 -0.1)\">\n      <use xlink:href=\"#DejaVuSans-70\"/>\n      <use x=\"55.769531\" xlink:href=\"#DejaVuSans-84\"/>\n      <use x=\"116.853516\" xlink:href=\"#DejaVuSans-83\"/>\n      <use x=\"180.330078\" xlink:href=\"#DejaVuSans-69\"/>\n     </g>\n    </g>\n    <g id=\"line2d_23\">\n     <path d=\"M 817.735937 37.649404 \nL 837.735937 37.649404 \n\" style=\"fill:none;stroke:#ff7f0e;stroke-linecap:square;stroke-width:1.5;\"/>\n    </g>\n    <g id=\"line2d_24\"/>\n    <g id=\"text_17\">\n     <!-- GSPC -->\n     <defs>\n      <path d=\"M 59.515625 10.40625 \nL 59.515625 29.984375 \nL 43.40625 29.984375 \nL 43.40625 38.09375 \nL 69.28125 38.09375 \nL 69.28125 6.78125 \nQ 63.578125 2.734375 56.6875 0.65625 \nQ 49.8125 -1.421875 42 -1.421875 \nQ 24.90625 -1.421875 15.25 8.5625 \nQ 5.609375 18.5625 5.609375 36.375 \nQ 5.609375 54.25 15.25 64.234375 \nQ 24.90625 74.21875 42 74.21875 \nQ 49.125 74.21875 55.546875 72.453125 \nQ 61.96875 70.703125 67.390625 67.28125 \nL 67.390625 56.78125 \nQ 61.921875 61.421875 55.765625 63.765625 \nQ 49.609375 66.109375 42.828125 66.109375 \nQ 29.4375 66.109375 22.71875 58.640625 \nQ 16.015625 51.171875 16.015625 36.375 \nQ 16.015625 21.625 22.71875 14.15625 \nQ 29.4375 6.6875 42.828125 6.6875 \nQ 48.046875 6.6875 52.140625 7.59375 \nQ 56.25 8.5 59.515625 10.40625 \nz\n\" id=\"DejaVuSans-71\"/>\n      <path d=\"M 19.671875 64.796875 \nL 19.671875 37.40625 \nL 32.078125 37.40625 \nQ 38.96875 37.40625 42.71875 40.96875 \nQ 46.484375 44.53125 46.484375 51.125 \nQ 46.484375 57.671875 42.71875 61.234375 \nQ 38.96875 64.796875 32.078125 64.796875 \nz\nM 9.8125 72.90625 \nL 32.078125 72.90625 \nQ 44.34375 72.90625 50.609375 67.359375 \nQ 56.890625 61.8125 56.890625 51.125 \nQ 56.890625 40.328125 50.609375 34.8125 \nQ 44.34375 29.296875 32.078125 29.296875 \nL 19.671875 29.296875 \nL 19.671875 0 \nL 9.8125 0 \nz\n\" id=\"DejaVuSans-80\"/>\n      <path d=\"M 64.40625 67.28125 \nL 64.40625 56.890625 \nQ 59.421875 61.53125 53.78125 63.8125 \nQ 48.140625 66.109375 41.796875 66.109375 \nQ 29.296875 66.109375 22.65625 58.46875 \nQ 16.015625 50.828125 16.015625 36.375 \nQ 16.015625 21.96875 22.65625 14.328125 \nQ 29.296875 6.6875 41.796875 6.6875 \nQ 48.140625 6.6875 53.78125 8.984375 \nQ 59.421875 11.28125 64.40625 15.921875 \nL 64.40625 5.609375 \nQ 59.234375 2.09375 53.4375 0.328125 \nQ 47.65625 -1.421875 41.21875 -1.421875 \nQ 24.65625 -1.421875 15.125 8.703125 \nQ 5.609375 18.84375 5.609375 36.375 \nQ 5.609375 53.953125 15.125 64.078125 \nQ 24.65625 74.21875 41.21875 74.21875 \nQ 47.75 74.21875 53.53125 72.484375 \nQ 59.328125 70.75 64.40625 67.28125 \nz\n\" id=\"DejaVuSans-67\"/>\n     </defs>\n     <g transform=\"translate(845.735937 41.149404)scale(0.1 -0.1)\">\n      <use xlink:href=\"#DejaVuSans-71\"/>\n      <use x=\"77.490234\" xlink:href=\"#DejaVuSans-83\"/>\n      <use x=\"140.966797\" xlink:href=\"#DejaVuSans-80\"/>\n      <use x=\"201.269531\" xlink:href=\"#DejaVuSans-67\"/>\n     </g>\n    </g>\n    <g id=\"line2d_25\">\n     <path d=\"M 817.735937 52.327529 \nL 837.735937 52.327529 \n\" style=\"fill:none;stroke:#2ca02c;stroke-linecap:square;stroke-width:1.5;\"/>\n    </g>\n    <g id=\"line2d_26\"/>\n    <g id=\"text_18\">\n     <!-- HSI -->\n     <defs>\n      <path d=\"M 9.8125 72.90625 \nL 19.671875 72.90625 \nL 19.671875 43.015625 \nL 55.515625 43.015625 \nL 55.515625 72.90625 \nL 65.375 72.90625 \nL 65.375 0 \nL 55.515625 0 \nL 55.515625 34.71875 \nL 19.671875 34.71875 \nL 19.671875 0 \nL 9.8125 0 \nz\n\" id=\"DejaVuSans-72\"/>\n      <path d=\"M 9.8125 72.90625 \nL 19.671875 72.90625 \nL 19.671875 0 \nL 9.8125 0 \nz\n\" id=\"DejaVuSans-73\"/>\n     </defs>\n     <g transform=\"translate(845.735937 55.827529)scale(0.1 -0.1)\">\n      <use xlink:href=\"#DejaVuSans-72\"/>\n      <use x=\"75.195312\" xlink:href=\"#DejaVuSans-83\"/>\n      <use x=\"138.671875\" xlink:href=\"#DejaVuSans-73\"/>\n     </g>\n    </g>\n    <g id=\"line2d_27\">\n     <path d=\"M 817.735937 67.005654 \nL 837.735937 67.005654 \n\" style=\"fill:none;stroke:#d62728;stroke-linecap:square;stroke-width:1.5;\"/>\n    </g>\n    <g id=\"line2d_28\"/>\n    <g id=\"text_19\">\n     <!-- KS11 -->\n     <defs>\n      <path d=\"M 9.8125 72.90625 \nL 19.671875 72.90625 \nL 19.671875 42.09375 \nL 52.390625 72.90625 \nL 65.09375 72.90625 \nL 28.90625 38.921875 \nL 67.671875 0 \nL 54.6875 0 \nL 19.671875 35.109375 \nL 19.671875 0 \nL 9.8125 0 \nz\n\" id=\"DejaVuSans-75\"/>\n     </defs>\n     <g transform=\"translate(845.735937 70.505654)scale(0.1 -0.1)\">\n      <use xlink:href=\"#DejaVuSans-75\"/>\n      <use x=\"65.576172\" xlink:href=\"#DejaVuSans-83\"/>\n      <use x=\"129.052734\" xlink:href=\"#DejaVuSans-49\"/>\n      <use x=\"192.675781\" xlink:href=\"#DejaVuSans-49\"/>\n     </g>\n    </g>\n    <g id=\"line2d_29\">\n     <path d=\"M 817.735937 81.683779 \nL 837.735937 81.683779 \n\" style=\"fill:none;stroke:#9467bd;stroke-linecap:square;stroke-width:1.5;\"/>\n    </g>\n    <g id=\"line2d_30\"/>\n    <g id=\"text_20\">\n     <!-- N100 -->\n     <defs>\n      <path d=\"M 9.8125 72.90625 \nL 23.09375 72.90625 \nL 55.421875 11.921875 \nL 55.421875 72.90625 \nL 64.984375 72.90625 \nL 64.984375 0 \nL 51.703125 0 \nL 19.390625 60.984375 \nL 19.390625 0 \nL 9.8125 0 \nz\n\" id=\"DejaVuSans-78\"/>\n     </defs>\n     <g transform=\"translate(845.735937 85.183779)scale(0.1 -0.1)\">\n      <use xlink:href=\"#DejaVuSans-78\"/>\n      <use x=\"74.804688\" xlink:href=\"#DejaVuSans-49\"/>\n      <use x=\"138.427734\" xlink:href=\"#DejaVuSans-48\"/>\n      <use x=\"202.050781\" xlink:href=\"#DejaVuSans-48\"/>\n     </g>\n    </g>\n    <g id=\"line2d_31\">\n     <path d=\"M 817.735937 96.361904 \nL 837.735937 96.361904 \n\" style=\"fill:none;stroke:#8c564b;stroke-linecap:square;stroke-width:1.5;\"/>\n    </g>\n    <g id=\"line2d_32\"/>\n    <g id=\"text_21\">\n     <!-- N225 -->\n     <g transform=\"translate(845.735937 99.861904)scale(0.1 -0.1)\">\n      <use xlink:href=\"#DejaVuSans-78\"/>\n      <use x=\"74.804688\" xlink:href=\"#DejaVuSans-50\"/>\n      <use x=\"138.427734\" xlink:href=\"#DejaVuSans-50\"/>\n      <use x=\"202.050781\" xlink:href=\"#DejaVuSans-53\"/>\n     </g>\n    </g>\n   </g>\n  </g>\n </g>\n <defs>\n  <clipPath id=\"p80afcc177e\">\n   <rect height=\"489.6\" width=\"837\" x=\"44.845313\" y=\"9.872841\"/>\n  </clipPath>\n </defs>\n</svg>\n"
          },
          "metadata": {
            "tags": [],
            "needs_background": "light"
          }
        }
      ]
    },
    {
      "cell_type": "code",
      "metadata": {
        "id": "5lvNNPxWuCOl",
        "colab_type": "code",
        "colab": {}
      },
      "source": [
        ""
      ],
      "execution_count": 0,
      "outputs": []
    }
  ]
}
