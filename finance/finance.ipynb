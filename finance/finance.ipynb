{
  "nbformat": 4,
  "nbformat_minor": 0,
  "metadata": {
    "colab": {
      "name": "finance.ipynb",
      "provenance": [],
      "collapsed_sections": []
    },
    "kernelspec": {
      "name": "python3",
      "display_name": "Python 3"
    }
  },
  "cells": [
    {
      "cell_type": "markdown",
      "metadata": {
        "id": "kS1Jp6FkhvIy",
        "colab_type": "text"
      },
      "source": [
        "[![Open In Colab](https://colab.research.google.com/assets/colab-badge.svg)]()\n",
        "\n",
        "\n",
        "# Financial Analysis\n",
        "\n",
        "본 노트북은 [Live Corona Map](https://github.com/LiveCoronaDetector/livecod/) 프로젝트에 향후 추가할 계획인 금융 분석 시각화를 위해 만들어졌습니다.\n"
      ]
    },
    {
      "cell_type": "markdown",
      "metadata": {
        "id": "Z0FXixaGiOWK",
        "colab_type": "text"
      },
      "source": [
        "# Setup\n",
        "\n",
        "필요한 모듈을 임포트해옵니다. (프로젝트의 진행에 따라 추가, 변경될 수 있습니다.)"
      ]
    },
    {
      "cell_type": "code",
      "metadata": {
        "id": "JN3rk3xKiYED",
        "colab_type": "code",
        "colab": {}
      },
      "source": [
        "!pip install --quiet yfinance"
      ],
      "execution_count": 0,
      "outputs": []
    },
    {
      "cell_type": "code",
      "metadata": {
        "id": "-k3KpMh5i-4f",
        "colab_type": "code",
        "colab": {}
      },
      "source": [
        "import pandas as pd\n",
        "import numpy as np\n",
        "import yfinance as yf\n",
        "from datetime import datetime\n",
        "import time"
      ],
      "execution_count": 0,
      "outputs": []
    },
    {
      "cell_type": "markdown",
      "metadata": {
        "id": "RkO0EjDSjEUK",
        "colab_type": "text"
      },
      "source": [
        ""
      ]
    }
  ]
}